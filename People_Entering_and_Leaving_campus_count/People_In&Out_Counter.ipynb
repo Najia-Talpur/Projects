{
 "cells": [
  {
   "cell_type": "markdown",
   "id": "f9eb14aa",
   "metadata": {},
   "source": [
    "# Automated People Counting at Szabist University's 100 Campus "
   ]
  },
  {
   "cell_type": "markdown",
   "id": "2608d9d0",
   "metadata": {},
   "source": [
    "#### This project revolves around the automation of people counting at the entrance of Szabist University's 100 Campus Building. Utilizing YOLOv8, a state-of-the-art object detection model, and CV Zone, a computer vision library, the system tracks individuals entering and exiting the campus gate."
   ]
  },
  {
   "cell_type": "code",
   "execution_count": 3,
   "id": "85c5224d-084f-48b0-b74d-822136a666c3",
   "metadata": {},
   "outputs": [
    {
     "name": "stdout",
     "output_type": "stream",
     "text": [
      "Requirement already satisfied: cvzone in c:\\users\\d e l l\\myenv\\lib\\site-packages (1.6.1)"
     ]
    },
    {
     "name": "stderr",
     "output_type": "stream",
     "text": [
      "WARNING: You are using pip version 20.2; however, version 23.3.1 is available.\n",
      "You should consider upgrading via the 'c:\\users\\d e l l\\myenv\\scripts\\python.exe -m pip install --upgrade pip' command.\n"
     ]
    },
    {
     "name": "stdout",
     "output_type": "stream",
     "text": [
      "\n",
      "Requirement already satisfied: opencv-python in c:\\users\\d e l l\\myenv\\lib\\site-packages (from cvzone) (4.8.1.78)\n",
      "Requirement already satisfied: numpy in c:\\users\\d e l l\\myenv\\lib\\site-packages (from cvzone) (1.24.4)\n"
     ]
    }
   ],
   "source": [
    "!pip install cvzone"
   ]
  },
  {
   "cell_type": "code",
   "execution_count": 2,
   "id": "5d8f2234-b675-417a-ba7d-6113cbc788c4",
   "metadata": {},
   "outputs": [
    {
     "name": "stdout",
     "output_type": "stream",
     "text": [
      "Requirement already satisfied: ultralytics in c:\\users\\d e l l\\myenv\\lib\\site-packages (8.0.209)\n",
      "Requirement already satisfied: pyyaml>=5.3.1 in c:\\users\\d e l l\\myenv\\lib\\site-packages (from ultralytics) (6.0.1)\n",
      "Requirement already satisfied: py-cpuinfo in c:\\users\\d e l l\\myenv\\lib\\site-packages (from ultralytics) (9.0.0)\n",
      "Requirement already satisfied: seaborn>=0.11.0 in c:\\users\\d e l l\\myenv\\lib\\site-packages (from ultralytics) (0.13.0)\n",
      "Requirement already satisfied: numpy>=1.22.2 in c:\\users\\d e l l\\myenv\\lib\\site-packages (from ultralytics) (1.24.4)\n",
      "Requirement already satisfied: tqdm>=4.64.0 in c:\\users\\d e l l\\myenv\\lib\\site-packages (from ultralytics) (4.66.1)\n",
      "Requirement already satisfied: opencv-python>=4.6.0 in c:\\users\\d e l l\\myenv\\lib\\site-packages (from ultralytics) (4.8.1.78)\n",
      "Requirement already satisfied: thop>=0.1.1 in c:\\users\\d e l l\\myenv\\lib\\site-packages (from ultralytics) (0.1.1.post2209072238)\n",
      "Requirement already satisfied: pandas>=1.1.4 in c:\\users\\d e l l\\myenv\\lib\\site-packages (from ultralytics) (2.0.3)\n",
      "Requirement already satisfied: torchvision>=0.9.0 in c:\\users\\d e l l\\myenv\\lib\\site-packages (from ultralytics) (0.16.0)\n",
      "Requirement already satisfied: torch>=1.8.0 in c:\\users\\d e l l\\myenv\\lib\\site-packages (from ultralytics) (2.1.0)\n",
      "Requirement already satisfied: requests>=2.23.0 in c:\\users\\d e l l\\myenv\\lib\\site-packages (from ultralytics) (2.31.0)\n",
      "Requirement already satisfied: pillow>=7.1.2 in c:\\users\\d e l l\\myenv\\lib\\site-packages (from ultralytics) (10.1.0)\n",
      "Requirement already satisfied: scipy>=1.4.1 in c:\\users\\d e l l\\myenv\\lib\\site-packages (from ultralytics) (1.10.1)\n",
      "Requirement already satisfied: psutil in c:\\users\\d e l l\\myenv\\lib\\site-packages (from ultralytics) (5.9.6)\n",
      "Requirement already satisfied: matplotlib>=3.3.0 in c:\\users\\d e l l\\myenv\\lib\\site-packages (from ultralytics) (3.7.3)\n",
      "Requirement already satisfied: colorama; platform_system == \"Windows\" in c:\\users\\d e l l\\myenv\\lib\\site-packages (from tqdm>=4.64.0->ultralytics) (0.4.6)\n",
      "Requirement already satisfied: pytz>=2020.1 in c:\\users\\d e l l\\myenv\\lib\\site-packages (from pandas>=1.1.4->ultralytics) (2023.3.post1)\n",
      "Requirement already satisfied: tzdata>=2022.1 in c:\\users\\d e l l\\myenv\\lib\\site-packages (from pandas>=1.1.4->ultralytics) (2023.3)\n",
      "Requirement already satisfied: python-dateutil>=2.8.2 in c:\\users\\d e l l\\myenv\\lib\\site-packages (from pandas>=1.1.4->ultralytics) (2.8.2)\n",
      "Requirement already satisfied: typing-extensions in c:\\users\\d e l l\\myenv\\lib\\site-packages (from torch>=1.8.0->ultralytics) (4.8.0)\n",
      "Requirement already satisfied: jinja2 in c:\\users\\d e l l\\myenv\\lib\\site-packages (from torch>=1.8.0->ultralytics) (3.1.2)\n",
      "Requirement already satisfied: sympy in c:\\users\\d e l l\\myenv\\lib\\site-packages (from torch>=1.8.0->ultralytics) (1.12)\n",
      "Requirement already satisfied: networkx in c:\\users\\d e l l\\myenv\\lib\\site-packages (from torch>=1.8.0->ultralytics) (3.1)\n",
      "Requirement already satisfied: fsspec in c:\\users\\d e l l\\myenv\\lib\\site-packages (from torch>=1.8.0->ultralytics) (2023.10.0)\n",
      "Requirement already satisfied: filelock in c:\\users\\d e l l\\myenv\\lib\\site-packages (from torch>=1.8.0->ultralytics) (3.13.1)\n",
      "Requirement already satisfied: certifi>=2017.4.17 in c:\\users\\d e l l\\myenv\\lib\\site-packages (from requests>=2.23.0->ultralytics) (2023.7.22)\n",
      "Requirement already satisfied: urllib3<3,>=1.21.1 in c:\\users\\d e l l\\myenv\\lib\\site-packages (from requests>=2.23.0->ultralytics) (2.1.0)\n",
      "Requirement already satisfied: idna<4,>=2.5 in c:\\users\\d e l l\\myenv\\lib\\site-packages (from requests>=2.23.0->ultralytics) (3.4)\n",
      "Requirement already satisfied: charset-normalizer<4,>=2 in c:\\users\\d e l l\\myenv\\lib\\site-packages (from requests>=2.23.0->ultralytics) (3.3.2)\n",
      "Requirement already satisfied: cycler>=0.10 in c:\\users\\d e l l\\myenv\\lib\\site-packages (from matplotlib>=3.3.0->ultralytics) (0.12.1)\n",
      "Requirement already satisfied: packaging>=20.0 in c:\\users\\d e l l\\myenv\\lib\\site-packages (from matplotlib>=3.3.0->ultralytics) (23.2)\n",
      "Requirement already satisfied: fonttools>=4.22.0 in c:\\users\\d e l l\\myenv\\lib\\site-packages (from matplotlib>=3.3.0->ultralytics) (4.44.0)\n",
      "Requirement already satisfied: kiwisolver>=1.0.1 in c:\\users\\d e l l\\myenv\\lib\\site-packages (from matplotlib>=3.3.0->ultralytics) (1.4.5)\n",
      "Requirement already satisfied: pyparsing>=2.3.1 in c:\\users\\d e l l\\myenv\\lib\\site-packages (from matplotlib>=3.3.0->ultralytics) (3.1.1)\n",
      "Requirement already satisfied: contourpy>=1.0.1 in c:\\users\\d e l l\\myenv\\lib\\site-packages (from matplotlib>=3.3.0->ultralytics) (1.1.1)\n",
      "Requirement already satisfied: importlib-resources>=3.2.0; python_version < \"3.10\" in c:\\users\\d e l l\\myenv\\lib\\site-packages (from matplotlib>=3.3.0->ultralytics) (6.1.1)\n",
      "Requirement already satisfied: six>=1.5 in c:\\users\\d e l l\\myenv\\lib\\site-packages (from python-dateutil>=2.8.2->pandas>=1.1.4->ultralytics) (1.16.0)\n",
      "Requirement already satisfied: MarkupSafe>=2.0 in c:\\users\\d e l l\\myenv\\lib\\site-packages (from jinja2->torch>=1.8.0->ultralytics) (2.1.3)\n",
      "Requirement already satisfied: mpmath>=0.19 in c:\\users\\d e l l\\myenv\\lib\\site-packages (from sympy->torch>=1.8.0->ultralytics) (1.3.0)\n",
      "Requirement already satisfied: zipp>=3.1.0; python_version < \"3.10\" in c:\\users\\d e l l\\myenv\\lib\\site-packages (from importlib-resources>=3.2.0; python_version < \"3.10\"->matplotlib>=3.3.0->ultralytics) (3.17.0)\n"
     ]
    },
    {
     "name": "stderr",
     "output_type": "stream",
     "text": [
      "WARNING: You are using pip version 20.2; however, version 23.3.1 is available.\n",
      "You should consider upgrading via the 'c:\\users\\d e l l\\myenv\\scripts\\python.exe -m pip install --upgrade pip' command.\n"
     ]
    }
   ],
   "source": [
    "#installing ultralytics to import YOLO\n",
    "!pip install ultralytics"
   ]
  },
  {
   "cell_type": "code",
   "execution_count": 4,
   "id": "84c26d3a-c7cf-42f0-8e8d-6efa604fd843",
   "metadata": {},
   "outputs": [
    {
     "name": "stdout",
     "output_type": "stream",
     "text": [
      "Requirement already satisfied: filterpy in c:\\users\\d e l l\\myenv\\lib\\site-packages (1.4.5)\n",
      "Requirement already satisfied: numpy in c:\\users\\d e l l\\myenv\\lib\\site-packages (from filterpy) (1.24.4)\n",
      "Requirement already satisfied: scipy in c:\\users\\d e l l\\myenv\\lib\\site-packages (from filterpy) (1.10.1)\n",
      "Requirement already satisfied: matplotlib in c:\\users\\d e l l\\myenv\\lib\\site-packages (from filterpy) (3.7.3)\n",
      "Requirement already satisfied: contourpy>=1.0.1 in c:\\users\\d e l l\\myenv\\lib\\site-packages (from matplotlib->filterpy) (1.1.1)\n",
      "Requirement already satisfied: python-dateutil>=2.7 in c:\\users\\d e l l\\myenv\\lib\\site-packages (from matplotlib->filterpy) (2.8.2)\n",
      "Requirement already satisfied: packaging>=20.0 in c:\\users\\d e l l\\myenv\\lib\\site-packages (from matplotlib->filterpy) (23.2)\n",
      "Requirement already satisfied: kiwisolver>=1.0.1 in c:\\users\\d e l l\\myenv\\lib\\site-packages (from matplotlib->filterpy) (1.4.5)\n",
      "Requirement already satisfied: importlib-resources>=3.2.0; python_version < \"3.10\" in c:\\users\\d e l l\\myenv\\lib\\site-packages (from matplotlib->filterpy) (6.1.1)\n",
      "Requirement already satisfied: pyparsing>=2.3.1 in c:\\users\\d e l l\\myenv\\lib\\site-packages (from matplotlib->filterpy) (3.1.1)\n",
      "Requirement already satisfied: fonttools>=4.22.0 in c:\\users\\d e l l\\myenv\\lib\\site-packages (from matplotlib->filterpy) (4.44.0)\n",
      "Requirement already satisfied: pillow>=6.2.0 in c:\\users\\d e l l\\myenv\\lib\\site-packages (from matplotlib->filterpy) (10.1.0)\n",
      "Requirement already satisfied: cycler>=0.10 in c:\\users\\d e l l\\myenv\\lib\\site-packages (from matplotlib->filterpy) (0.12.1)\n",
      "Requirement already satisfied: six>=1.5 in c:\\users\\d e l l\\myenv\\lib\\site-packages (from python-dateutil>=2.7->matplotlib->filterpy) (1.16.0)\n",
      "Requirement already satisfied: zipp>=3.1.0; python_version < \"3.10\" in c:\\users\\d e l l\\myenv\\lib\\site-packages (from importlib-resources>=3.2.0; python_version < \"3.10\"->matplotlib->filterpy) (3.17.0)\n"
     ]
    },
    {
     "name": "stderr",
     "output_type": "stream",
     "text": [
      "WARNING: You are using pip version 20.2; however, version 23.3.1 is available.\n",
      "You should consider upgrading via the 'c:\\users\\d e l l\\myenv\\scripts\\python.exe -m pip install --upgrade pip' command.\n"
     ]
    }
   ],
   "source": [
    "!pip install filterpy"
   ]
  },
  {
   "cell_type": "code",
   "execution_count": 5,
   "id": "16953d33-1682-40fe-860f-359afa25b082",
   "metadata": {},
   "outputs": [
    {
     "name": "stdout",
     "output_type": "stream",
     "text": [
      "Requirement already satisfied: scikit-image in c:\\users\\d e l l\\myenv\\lib\\site-packages (0.21.0)\n",
      "Requirement already satisfied: tifffile>=2022.8.12 in c:\\users\\d e l l\\myenv\\lib\\site-packages (from scikit-image) (2023.7.10)\n",
      "Requirement already satisfied: PyWavelets>=1.1.1 in c:\\users\\d e l l\\myenv\\lib\\site-packages (from scikit-image) (1.4.1)\n",
      "Requirement already satisfied: imageio>=2.27 in c:\\users\\d e l l\\myenv\\lib\\site-packages (from scikit-image) (2.32.0)\n",
      "Requirement already satisfied: numpy>=1.21.1 in c:\\users\\d e l l\\myenv\\lib\\site-packages (from scikit-image) (1.24.4)\n",
      "Requirement already satisfied: lazy_loader>=0.2 in c:\\users\\d e l l\\myenv\\lib\\site-packages (from scikit-image) (0.3)\n",
      "Requirement already satisfied: scipy>=1.8 in c:\\users\\d e l l\\myenv\\lib\\site-packages (from scikit-image) (1.10.1)\n",
      "Requirement already satisfied: networkx>=2.8 in c:\\users\\d e l l\\myenv\\lib\\site-packages (from scikit-image) (3.1)\n",
      "Requirement already satisfied: pillow>=9.0.1 in c:\\users\\d e l l\\myenv\\lib\\site-packages (from scikit-image) (10.1.0)\n",
      "Requirement already satisfied: packaging>=21 in c:\\users\\d e l l\\myenv\\lib\\site-packages (from scikit-image) (23.2)\n"
     ]
    },
    {
     "name": "stderr",
     "output_type": "stream",
     "text": [
      "WARNING: You are using pip version 20.2; however, version 23.3.1 is available.\n",
      "You should consider upgrading via the 'c:\\users\\d e l l\\myenv\\scripts\\python.exe -m pip install --upgrade pip' command.\n"
     ]
    }
   ],
   "source": [
    "!pip install scikit-image"
   ]
  },
  {
   "cell_type": "code",
   "execution_count": 6,
   "id": "e0153290-acbc-436c-8883-fbf5b10be4b2",
   "metadata": {},
   "outputs": [
    {
     "name": "stdout",
     "output_type": "stream",
     "text": [
      "Requirement already satisfied: lap in c:\\users\\d e l l\\myenv\\lib\\site-packages (0.4.0)"
     ]
    },
    {
     "name": "stderr",
     "output_type": "stream",
     "text": [
      "WARNING: You are using pip version 20.2; however, version 23.3.1 is available.\n",
      "You should consider upgrading via the 'c:\\users\\d e l l\\myenv\\scripts\\python.exe -m pip install --upgrade pip' command.\n"
     ]
    },
    {
     "name": "stdout",
     "output_type": "stream",
     "text": [
      "\n"
     ]
    }
   ],
   "source": [
    "!pip install lap"
   ]
  },
  {
   "cell_type": "code",
   "execution_count": 7,
   "id": "8840ef9a-f38c-4e4c-ad85-5bb6c56a66ad",
   "metadata": {},
   "outputs": [
    {
     "name": "stdout",
     "output_type": "stream",
     "text": [
      "Package                   Version\n",
      "------------------------- --------------------\n",
      "anyio                     4.0.0\n",
      "argon2-cffi               23.1.0\n",
      "argon2-cffi-bindings      21.2.0\n",
      "asttokens                 2.4.1\n",
      "async-lru                 2.0.4\n",
      "attrs                     23.1.0\n",
      "Babel                     2.13.1\n",
      "backcall                  0.2.0\n",
      "beautifulsoup4            4.12.2\n",
      "bleach                    6.1.0\n",
      "certifi                   2023.7.22\n",
      "cffi                      1.16.0\n",
      "charset-normalizer        3.3.2\n",
      "colorama                  0.4.6\n",
      "comm                      0.2.0\n",
      "contourpy                 1.1.1\n",
      "cvzone                    1.6.1\n",
      "cycler                    0.12.1\n",
      "debugpy                   1.8.0\n",
      "decorator                 5.1.1\n",
      "defusedxml                0.7.1\n",
      "exceptiongroup            1.1.3\n",
      "executing                 2.0.1\n",
      "fastjsonschema            2.18.1\n",
      "filelock                  3.13.1\n",
      "filterpy                  1.4.5\n",
      "fonttools                 4.44.0\n",
      "fsspec                    2023.10.0\n",
      "idna                      3.4\n",
      "imageio                   2.32.0\n",
      "importlib-metadata        6.8.0\n",
      "importlib-resources       6.1.1\n",
      "ipykernel                 6.26.0\n",
      "ipython                   8.12.3\n",
      "ipywidgets                8.1.1\n",
      "jedi                      0.19.1\n",
      "Jinja2                    3.1.2\n",
      "json5                     0.9.14\n",
      "jsonschema                4.19.2\n",
      "jsonschema-specifications 2023.7.1\n",
      "jupyter                   1.0.0\n",
      "jupyter-client            8.6.0\n",
      "jupyter-console           6.6.3\n",
      "jupyter-core              5.5.0\n",
      "jupyter-events            0.9.0\n",
      "jupyter-lsp               2.2.0\n",
      "jupyter-server            2.10.0\n",
      "jupyter-server-terminals  0.4.4\n",
      "jupyterlab                4.0.8\n",
      "jupyterlab-pygments       0.2.2\n",
      "jupyterlab-server         2.25.1\n",
      "jupyterlab-widgets        3.0.9\n",
      "kiwisolver                1.4.5\n",
      "lap                       0.4.0\n",
      "lazy-loader               0.3\n",
      "MarkupSafe                2.1.3\n",
      "matplotlib                3.7.3\n",
      "matplotlib-inline         0.1.6\n",
      "mistune                   3.0.2\n",
      "mpmath                    1.3.0\n",
      "nbclient                  0.9.0\n",
      "nbconvert                 7.11.0\n",
      "nbformat                  5.9.2\n",
      "nest-asyncio              1.5.8\n",
      "networkx                  3.1\n",
      "notebook                  7.0.6\n",
      "notebook-shim             0.2.3\n",
      "numpy                     1.24.4\n",
      "opencv-python             4.8.1.78\n",
      "overrides                 7.4.0\n",
      "packaging                 23.2\n",
      "pandas                    2.0.3\n",
      "pandocfilters             1.5.0\n",
      "parso                     0.8.3\n",
      "pickleshare               0.7.5\n",
      "Pillow                    10.1.0\n",
      "pip                       20.2\n",
      "pkgutil-resolve-name      1.3.10\n",
      "platformdirs              4.0.0\n",
      "prometheus-client         0.18.0\n",
      "prompt-toolkit            3.0.41\n",
      "psutil                    5.9.6\n",
      "pure-eval                 0.2.2\n",
      "py-cpuinfo                9.0.0\n",
      "pycparser                 2.21\n",
      "Pygments                  2.16.1\n",
      "pyparsing                 3.1.1\n",
      "python-dateutil           2.8.2\n",
      "python-json-logger        2.0.7\n",
      "pytz                      2023.3.post1\n",
      "PyWavelets                1.4.1\n",
      "pywin32                   306\n",
      "pywinpty                  2.0.12\n",
      "PyYAML                    6.0.1\n",
      "pyzmq                     25.1.1\n",
      "qtconsole                 5.5.0\n",
      "QtPy                      2.4.1\n",
      "referencing               0.30.2\n",
      "requests                  2.31.0\n",
      "rfc3339-validator         0.1.4\n",
      "rfc3986-validator         0.1.1\n",
      "rpds-py                   0.12.0\n",
      "scikit-image              0.21.0\n",
      "scipy                     1.10.1\n",
      "seaborn                   0.13.0\n",
      "Send2Trash                1.8.2\n",
      "setuptools                41.2.0\n",
      "six                       1.16.0\n",
      "sniffio                   1.3.0\n",
      "soupsieve                 2.5\n",
      "stack-data                0.6.3\n",
      "sympy                     1.12\n",
      "terminado                 0.18.0\n",
      "thop                      0.1.1.post2209072238\n",
      "tifffile                  2023.7.10\n",
      "tinycss2                  1.2.1\n",
      "tomli                     2.0.1\n",
      "torch                     2.1.0\n",
      "torchvision               0.16.0\n",
      "tornado                   6.3.3\n",
      "tqdm                      4.66.1\n",
      "traitlets                 5.13.0\n",
      "typing-extensions         4.8.0\n",
      "tzdata                    2023.3\n",
      "ultralytics               8.0.209\n",
      "urllib3                   2.1.0\n",
      "wcwidth                   0.2.10\n",
      "webencodings              0.5.1\n",
      "websocket-client          1.6.4\n",
      "widgetsnbextension        4.0.9\n",
      "zipp                      3.17.0\n"
     ]
    },
    {
     "name": "stderr",
     "output_type": "stream",
     "text": [
      "WARNING: You are using pip version 20.2; however, version 23.3.1 is available.\n",
      "You should consider upgrading via the 'c:\\users\\d e l l\\myenv\\scripts\\python.exe -m pip install --upgrade pip' command.\n"
     ]
    }
   ],
   "source": [
    "!pip list"
   ]
  },
  {
   "cell_type": "code",
   "execution_count": 1,
   "id": "b68e1bd2-4fe6-44fb-bbaa-10607493d6a1",
   "metadata": {},
   "outputs": [
    {
     "name": "stderr",
     "output_type": "stream",
     "text": [
      "\n"
     ]
    },
    {
     "name": "stdout",
     "output_type": "stream",
     "text": [
      "[        314         189         438         555           1]\n",
      "[          0         239          69         483           2]\n",
      "[        314         189         438         555           1]\n",
      "[         51         214         133         431           3]\n",
      "[          0         239          69         483           2]\n",
      "[        314         189         438         555           1]\n",
      "[        314         189         438         555           1]\n"
     ]
    },
    {
     "name": "stderr",
     "output_type": "stream",
     "text": [
      "0: 640x384 4 persons, 1636.7ms\n",
      "Speed: 40.0ms preprocess, 1636.7ms inference, 16.0ms postprocess per image at shape (1, 3, 640, 384)\n",
      "\n",
      "0: 640x384 4 persons, 1231.3ms\n",
      "Speed: 39.0ms preprocess, 1231.3ms inference, 16.1ms postprocess per image at shape (1, 3, 640, 384)\n"
     ]
    },
    {
     "name": "stdout",
     "output_type": "stream",
     "text": [
      "[     313.71      189.32      436.73       553.9           1]\n",
      "[     313.73      189.48      436.24      553.51           1]\n",
      "[     313.81      189.54      436.03      553.38           1]\n",
      "[     48.627      216.81      128.72      432.63           3]\n",
      "[     313.89      189.54      435.93      553.36           1]\n"
     ]
    },
    {
     "name": "stderr",
     "output_type": "stream",
     "text": [
      "\n",
      "0: 640x384 4 persons, 1030.8ms\n",
      "Speed: 47.0ms preprocess, 1030.8ms inference, 17.0ms postprocess per image at shape (1, 3, 640, 384)\n"
     ]
    },
    {
     "name": "stdout",
     "output_type": "stream",
     "text": [
      "[     313.46      189.74       434.3      552.49           1]\n",
      "[     313.49      189.88      433.55      552.11           1]\n",
      "[     313.63      189.95      433.17      551.96           1]\n",
      "[     42.859      218.04      125.33      436.46           3]\n",
      "[     313.77      189.97      432.97      551.92           1]\n"
     ]
    },
    {
     "name": "stderr",
     "output_type": "stream",
     "text": [
      "\n",
      "0: 640x384 4 persons, 1017.0ms\n",
      "Speed: 94.0ms preprocess, 1017.0ms inference, 17.0ms postprocess per image at shape (1, 3, 640, 384)\n"
     ]
    },
    {
     "name": "stdout",
     "output_type": "stream",
     "text": [
      "[     313.73      190.18      432.33      551.04           1]\n",
      "[     313.82      190.41      432.02      550.58           1]\n",
      "[     313.92      190.58      431.85      550.33           1]\n",
      "[     39.251      217.42      127.03      440.05           3]\n",
      "[        314      190.69      431.76       550.2           1]\n"
     ]
    },
    {
     "name": "stderr",
     "output_type": "stream",
     "text": [
      "\n",
      "0: 640x384 4 persons, 1502.4ms\n",
      "Speed: 33.0ms preprocess, 1502.4ms inference, 15.4ms postprocess per image at shape (1, 3, 640, 384)\n"
     ]
    },
    {
     "name": "stdout",
     "output_type": "stream",
     "text": [
      "[     313.54      191.22      430.26      549.67           1]\n",
      "[     313.55      191.57      429.53      549.33           1]\n",
      "[     313.68      191.79      429.15      549.11           1]\n",
      "[     35.563      212.41      130.93      442.93           3]\n",
      "[     313.82      191.93      428.93      548.99           1]\n"
     ]
    },
    {
     "name": "stderr",
     "output_type": "stream",
     "text": [
      "\n",
      "0: 640x384 4 persons, 954.8ms\n",
      "Speed: 14.0ms preprocess, 954.8ms inference, 12.0ms postprocess per image at shape (1, 3, 640, 384)\n"
     ]
    },
    {
     "name": "stdout",
     "output_type": "stream",
     "text": [
      "[     312.94      194.64      427.18      550.22           1]\n",
      "[     312.76      195.89      426.38      550.45           1]\n",
      "[      312.8      196.52         426      550.38           1]\n",
      "[     28.998      213.05      128.57      443.14           3]\n",
      "[     312.89      196.85      425.79      550.25           1]\n"
     ]
    },
    {
     "name": "stderr",
     "output_type": "stream",
     "text": [
      "\n",
      "0: 640x384 4 persons, 1015.8ms\n",
      "Speed: 22.0ms preprocess, 1015.8ms inference, 18.1ms postprocess per image at shape (1, 3, 640, 384)\n"
     ]
    },
    {
     "name": "stdout",
     "output_type": "stream",
     "text": [
      "[     312.27      198.39      423.78      550.08           1]\n",
      "[     312.28      199.24      422.79      549.73           1]\n",
      "[     312.47      199.74      422.27      549.41           1]\n",
      "[     20.212      210.51      121.12      445.64           3]\n",
      "[     312.67      200.05      421.96      549.15           1]\n"
     ]
    },
    {
     "name": "stderr",
     "output_type": "stream",
     "text": [
      "\n",
      "0: 640x384 4 persons, 942.5ms\n",
      "Speed: 16.0ms preprocess, 942.5ms inference, 14.0ms postprocess per image at shape (1, 3, 640, 384)\n"
     ]
    },
    {
     "name": "stdout",
     "output_type": "stream",
     "text": [
      "[     312.12      201.39      419.88      548.48           1]\n",
      "[     312.18      202.22      418.85      547.88           1]\n",
      "[     312.41      202.76      418.29      547.41           1]\n",
      "[     15.919      212.32      117.14      450.83           3]\n",
      "[     312.64      203.12      417.96      547.07           1]\n"
     ]
    },
    {
     "name": "stderr",
     "output_type": "stream",
     "text": [
      "\n",
      "0: 640x384 5 persons, 773.6ms\n",
      "Speed: 63.0ms preprocess, 773.6ms inference, 15.0ms postprocess per image at shape (1, 3, 640, 384)\n"
     ]
    },
    {
     "name": "stdout",
     "output_type": "stream",
     "text": [
      "[     311.73      204.25      414.93      546.59           1]\n",
      "[     311.77      204.94      413.44      546.13           1]\n",
      "[     312.06      205.39      412.63      545.76           1]\n",
      "[     10.082      213.95      111.97      453.37           3]\n",
      "[     312.37      205.67      412.15       545.5           1]\n",
      "[     137.95      210.16      221.54      413.48           4]\n",
      "[     9.9845      213.98      111.92      453.41           3]\n",
      "[     312.64      205.85      411.85      545.31           1]\n"
     ]
    },
    {
     "name": "stderr",
     "output_type": "stream",
     "text": [
      "\n",
      "0: 640x384 4 persons, 781.6ms\n",
      "Speed: 65.0ms preprocess, 781.6ms inference, 12.0ms postprocess per image at shape (1, 3, 640, 384)\n"
     ]
    },
    {
     "name": "stdout",
     "output_type": "stream",
     "text": [
      "[     312.77      207.65      410.44      546.12           1]\n",
      "[     313.09      208.48      409.66      546.26           1]\n",
      "[     313.42      208.89      409.19       546.2           1]\n",
      "[     6.5074         214       110.6      454.31           3]\n",
      "[     313.69       209.1      408.89      546.11           1]\n"
     ]
    },
    {
     "name": "stderr",
     "output_type": "stream",
     "text": [
      "\n",
      "0: 640x384 5 persons, 934.5ms\n",
      "Speed: 16.0ms preprocess, 934.5ms inference, 13.0ms postprocess per image at shape (1, 3, 640, 384)\n"
     ]
    },
    {
     "name": "stdout",
     "output_type": "stream",
     "text": [
      "[     313.54      209.06      407.74      543.57           1]\n",
      "[     313.67      209.47      407.15      542.17           1]\n",
      "[     313.85      209.92      406.82      541.33           1]\n",
      "[     1.6981      216.81      104.48      464.53           3]\n",
      "[     314.02       210.3      406.62      540.81           1]\n",
      "[     132.99      209.19      222.76      418.45           4]\n",
      "[     1.7345      216.44      104.28      465.15           3]\n",
      "[     314.15      210.59       406.5      540.46           1]\n"
     ]
    },
    {
     "name": "stderr",
     "output_type": "stream",
     "text": [
      "\n",
      "0: 640x384 4 persons, 947.9ms\n",
      "Speed: 14.0ms preprocess, 947.9ms inference, 14.0ms postprocess per image at shape (1, 3, 640, 384)\n"
     ]
    },
    {
     "name": "stdout",
     "output_type": "stream",
     "text": [
      "[     313.05      210.94      404.36      539.43           1]\n",
      "[     312.81      211.31      403.39      538.81           1]\n",
      "[     312.86      211.61      402.91      538.41           1]\n",
      "[   -0.98982      216.55      101.17         467           3]\n",
      "[     312.98      211.83      402.65      538.15           1]\n"
     ]
    },
    {
     "name": "stderr",
     "output_type": "stream",
     "text": [
      "\n",
      "0: 640x384 5 persons, 1004.5ms\n",
      "Speed: 13.0ms preprocess, 1004.5ms inference, 15.0ms postprocess per image at shape (1, 3, 640, 384)\n"
     ]
    },
    {
     "name": "stdout",
     "output_type": "stream",
     "text": [
      "[     312.18      211.52      400.17       536.5           1]\n",
      "[     312.17      211.63      398.95      535.64           1]\n",
      "[     312.39      211.84       398.3      535.16           1]\n",
      "[    -1.6467      216.37      96.895      467.05           3]\n",
      "[     312.64      212.03      397.92      534.87           1]\n",
      "[     125.22      208.16      220.32      408.91           4]\n",
      "[    -1.3972      216.37      96.606      467.02           3]\n",
      "[     312.86      212.18      397.68       534.7           1]\n"
     ]
    },
    {
     "name": "stderr",
     "output_type": "stream",
     "text": [
      "\n",
      "0: 640x384 5 persons, 1052.3ms\n",
      "Speed: 14.0ms preprocess, 1052.3ms inference, 13.0ms postprocess per image at shape (1, 3, 640, 384)\n"
     ]
    },
    {
     "name": "stdout",
     "output_type": "stream",
     "text": [
      "[     313.59      211.75      398.93      534.47           1]\n",
      "[     313.78      211.54      399.51      534.44           1]\n",
      "[      313.8      211.42      399.81      534.48           1]\n",
      "[    -1.1586      217.52      94.558      464.73           3]\n",
      "[     313.75      211.34      399.98      534.54           1]\n",
      "[      123.7       208.8      220.97       414.3           4]\n",
      "[    -0.9768      217.78       94.39      464.42           3]\n",
      "[      313.7      211.28      400.09       534.6           1]\n"
     ]
    },
    {
     "name": "stderr",
     "output_type": "stream",
     "text": [
      "\n",
      "0: 640x384 5 persons, 953.5ms\n",
      "Speed: 20.0ms preprocess, 953.5ms inference, 17.0ms postprocess per image at shape (1, 3, 640, 384)\n"
     ]
    },
    {
     "name": "stdout",
     "output_type": "stream",
     "text": [
      "[     314.04      209.24      401.09      530.76           1]\n",
      "[     314.05      208.77       401.6      529.02           1]\n",
      "[     313.97      208.81      401.88      528.17           1]\n",
      "[    -1.2645      218.61      90.819      465.53           3]\n",
      "[     313.88      208.98      402.05      527.71           1]\n",
      "[     117.96      209.61       218.7      418.64           4]\n",
      "[    -1.0437      218.63      90.554      465.54           3]\n",
      "[     313.79      209.16      402.17      527.46           1]\n"
     ]
    },
    {
     "name": "stderr",
     "output_type": "stream",
     "text": [
      "\n",
      "0: 640x384 5 persons, 1067.4ms\n",
      "Speed: 15.0ms preprocess, 1067.4ms inference, 26.0ms postprocess per image at shape (1, 3, 640, 384)\n"
     ]
    },
    {
     "name": "stdout",
     "output_type": "stream",
     "text": [
      "[     311.66      207.77      397.13      522.31           1]\n",
      "[     311.37      207.98      394.71      519.66           1]\n",
      "[     311.64       208.6      393.43      518.15           1]\n",
      "[    -1.2618      219.06      86.861      471.12           3]\n",
      "[     312.03      209.24      392.69      517.22           1]\n",
      "[     114.58      209.16      216.99      419.09           4]\n",
      "[    -1.0299      218.74       86.58      471.55           3]\n",
      "[     312.39      209.77      392.23      516.61           1]\n"
     ]
    },
    {
     "name": "stderr",
     "output_type": "stream",
     "text": [
      "\n",
      "0: 640x384 3 persons, 1 chair, 970.4ms\n",
      "Speed: 42.0ms preprocess, 970.4ms inference, 16.0ms postprocess per image at shape (1, 3, 640, 384)\n"
     ]
    },
    {
     "name": "stdout",
     "output_type": "stream",
     "text": [
      "[     312.49      208.88      391.46      512.95           1]\n",
      "[      312.7      209.04      391.02       511.1           1]\n",
      "[      312.9      209.47      390.76      510.07           1]\n",
      "[    -1.0392      217.12      83.672      471.13           3]\n",
      "[     313.06       209.9      390.59      509.46           1]\n"
     ]
    },
    {
     "name": "stderr",
     "output_type": "stream",
     "text": [
      "\n",
      "0: 640x384 4 persons, 811.5ms\n",
      "Speed: 16.0ms preprocess, 811.5ms inference, 17.0ms postprocess per image at shape (1, 3, 640, 384)\n"
     ]
    },
    {
     "name": "stdout",
     "output_type": "stream",
     "text": [
      "[     312.62       210.7      389.09      509.94           1]\n",
      "[     312.65      211.07      388.35       510.1           1]\n",
      "[      312.8      211.25      387.95      510.15           1]\n",
      "[    -1.0073      219.43      80.657       471.7           3]\n",
      "[     312.97      211.35      387.72      510.17           1]\n"
     ]
    },
    {
     "name": "stderr",
     "output_type": "stream",
     "text": [
      "\n",
      "0: 640x384 4 persons, 757.6ms\n",
      "Speed: 32.0ms preprocess, 757.6ms inference, 18.0ms postprocess per image at shape (1, 3, 640, 384)\n"
     ]
    },
    {
     "name": "stdout",
     "output_type": "stream",
     "text": [
      "[     312.73      211.25      386.64      509.68           1]\n",
      "[     312.79      211.28       386.1      509.45           1]\n",
      "[     312.93      211.34       385.8      509.34           1]\n",
      "[   -0.81601      219.65      78.483      474.54           3]\n",
      "[     313.07      211.39      385.62      509.29           1]\n"
     ]
    },
    {
     "name": "stderr",
     "output_type": "stream",
     "text": [
      "\n",
      "0: 640x384 4 persons, 842.5ms\n",
      "Speed: 13.0ms preprocess, 842.5ms inference, 12.0ms postprocess per image at shape (1, 3, 640, 384)\n"
     ]
    },
    {
     "name": "stdout",
     "output_type": "stream",
     "text": [
      "[        313      211.91      385.05      509.44           1]\n",
      "[     313.06      212.17      384.75      509.45           1]\n",
      "[     313.16      212.31      384.59      509.43           1]\n",
      "[    -0.8815      220.11      75.579      475.11           3]\n",
      "[     313.25      212.39      384.49      509.41           1]\n"
     ]
    },
    {
     "name": "stderr",
     "output_type": "stream",
     "text": [
      "\n",
      "0: 640x384 4 persons, 827.0ms\n",
      "Speed: 15.0ms preprocess, 827.0ms inference, 19.0ms postprocess per image at shape (1, 3, 640, 384)\n"
     ]
    },
    {
     "name": "stdout",
     "output_type": "stream",
     "text": [
      "[     312.75      212.95      383.04      509.53           1]\n",
      "[     312.74      213.24      382.33      509.51           1]\n",
      "[     312.86       213.4      381.95      509.46           1]\n",
      "[     94.607       208.5      208.81      423.05           4]\n",
      "[        313      213.49      381.73      509.42           1]\n"
     ]
    },
    {
     "name": "stderr",
     "output_type": "stream",
     "text": [
      "\n",
      "0: 640x384 4 persons, 702.1ms\n",
      "Speed: 17.0ms preprocess, 702.1ms inference, 14.0ms postprocess per image at shape (1, 3, 640, 384)\n"
     ]
    },
    {
     "name": "stdout",
     "output_type": "stream",
     "text": [
      "[     312.75      213.77      380.67       509.8           1]\n",
      "[      312.8      213.85      380.14      509.98           1]\n",
      "[     312.93      213.85      379.85      510.08           1]\n",
      "[   -0.88948      216.96      69.577      461.82           3]\n",
      "[     313.06      213.83      379.67      510.14           1]\n"
     ]
    },
    {
     "name": "stderr",
     "output_type": "stream",
     "text": [
      "\n",
      "0: 640x384 4 persons, 667.9ms\n",
      "Speed: 20.0ms preprocess, 667.9ms inference, 8.0ms postprocess per image at shape (1, 3, 640, 384)\n",
      "\n"
     ]
    },
    {
     "name": "stdout",
     "output_type": "stream",
     "text": [
      "[     312.41         215      377.71      510.95           1]\n",
      "[     312.41      215.49      376.74       511.2           1]\n",
      "[     312.58      215.71      376.22      511.26           1]\n",
      "[      85.83      207.86      195.54      419.42           4]\n",
      "[     312.78      215.81      375.91      511.25           1]\n"
     ]
    },
    {
     "name": "stderr",
     "output_type": "stream",
     "text": [
      "0: 640x384 4 persons, 753.7ms\n",
      "Speed: 13.0ms preprocess, 753.7ms inference, 7.0ms postprocess per image at shape (1, 3, 640, 384)\n"
     ]
    },
    {
     "name": "stdout",
     "output_type": "stream",
     "text": [
      "[     312.76      216.61      375.26      511.14           1]\n",
      "[     312.88      217.06      374.91      510.94           1]\n",
      "[     313.01      217.33       374.7      510.76           1]\n",
      "[      82.37      209.33      188.74      420.78           4]\n",
      "[     313.13      217.51      374.58      510.61           1]\n"
     ]
    },
    {
     "name": "stderr",
     "output_type": "stream",
     "text": [
      "\n",
      "0: 640x384 4 persons, 655.9ms\n",
      "Speed: 14.0ms preprocess, 655.9ms inference, 14.0ms postprocess per image at shape (1, 3, 640, 384)\n"
     ]
    },
    {
     "name": "stdout",
     "output_type": "stream",
     "text": [
      "[     313.12      218.16       373.3      510.61           1]\n",
      "[     313.35      218.52       372.6      510.49           1]\n",
      "[      313.6      218.73      372.18      510.36           1]\n",
      "[     81.263      211.39      187.85      422.79           4]\n",
      "[     313.82      218.85      371.92      510.26           1]\n"
     ]
    },
    {
     "name": "stderr",
     "output_type": "stream",
     "text": [
      "\n",
      "0: 640x384 4 persons, 663.0ms\n",
      "Speed: 26.0ms preprocess, 663.0ms inference, 8.0ms postprocess per image at shape (1, 3, 640, 384)\n"
     ]
    },
    {
     "name": "stdout",
     "output_type": "stream",
     "text": [
      "[     313.35      219.58      371.09      510.84           1]\n",
      "[     313.23      219.87      370.73      511.04           1]\n",
      "[     313.24      219.98      370.55      511.11           1]\n",
      "[     79.168       212.8      185.13      425.46           4]\n",
      "[     313.28      220.01      370.47      511.13           1]\n"
     ]
    },
    {
     "name": "stderr",
     "output_type": "stream",
     "text": [
      "\n",
      "0: 640x384 4 persons, 1198.3ms\n",
      "Speed: 19.0ms preprocess, 1198.3ms inference, 11.0ms postprocess per image at shape (1, 3, 640, 384)\n"
     ]
    },
    {
     "name": "stdout",
     "output_type": "stream",
     "text": [
      "[     312.95      221.17       369.5      511.94           1]\n",
      "[     312.94      221.67      369.02      512.18           1]\n",
      "[     313.02      221.88      368.77      512.23           1]\n",
      "[     73.447      211.93      179.87      426.35           4]\n",
      "[     313.12      221.97      368.63      512.23           1]\n"
     ]
    },
    {
     "name": "stderr",
     "output_type": "stream",
     "text": [
      "\n",
      "0: 640x384 5 persons, 916.1ms\n",
      "Speed: 29.0ms preprocess, 916.1ms inference, 12.0ms postprocess per image at shape (1, 3, 640, 384)\n"
     ]
    },
    {
     "name": "stdout",
     "output_type": "stream",
     "text": [
      "[     312.74      222.44      368.36      512.42           1]\n",
      "[     312.59      222.65      368.28      512.45           1]\n",
      "[     312.52      222.75      368.27      512.44           1]\n",
      "[     70.327      212.29      176.87       425.9           4]\n",
      "[     312.49      222.79      368.29      512.41           1]\n",
      "[     133.59      213.48      210.09       383.6           6]\n",
      "[     70.298      212.36      176.84      425.82           4]\n",
      "[     312.48       222.8      368.31      512.39           1]\n"
     ]
    },
    {
     "name": "stderr",
     "output_type": "stream",
     "text": [
      "\n",
      "0: 640x384 4 persons, 947.0ms\n",
      "Speed: 15.0ms preprocess, 947.0ms inference, 12.0ms postprocess per image at shape (1, 3, 640, 384)\n",
      "\n"
     ]
    },
    {
     "name": "stdout",
     "output_type": "stream",
     "text": [
      "[     67.791      213.91       173.5      427.52           4]\n",
      "[      67.01      214.46      172.11      428.18           4]\n",
      "[      66.85      214.64      171.52      428.44           4]\n",
      "[     66.897      214.69      171.24      428.55           4]\n",
      "[     312.32       224.6      367.52      512.56           1]\n"
     ]
    },
    {
     "name": "stderr",
     "output_type": "stream",
     "text": [
      "0: 640x384 3 persons, 1 handbag, 949.1ms\n",
      "Speed: 18.0ms preprocess, 949.1ms inference, 21.0ms postprocess per image at shape (1, 3, 640, 384)\n"
     ]
    },
    {
     "name": "stdout",
     "output_type": "stream",
     "text": [
      "[     312.81       225.4      367.68      512.44           1]\n",
      "[     313.06      225.86      367.68      512.23           1]\n",
      "[      313.2      226.14      367.65      512.02           1]\n",
      "[     63.899       215.1      170.36      427.12           4]\n",
      "[     313.29      226.32      367.61      511.86           1]\n"
     ]
    },
    {
     "name": "stderr",
     "output_type": "stream",
     "text": [
      "\n",
      "0: 640x384 3 persons, 795.1ms\n",
      "Speed: 18.0ms preprocess, 795.1ms inference, 14.0ms postprocess per image at shape (1, 3, 640, 384)\n",
      "\n"
     ]
    },
    {
     "name": "stdout",
     "output_type": "stream",
     "text": [
      "[     61.598      215.32      168.07      428.17           4]\n",
      "[     60.749      215.26      167.23       428.7           4]\n",
      "[     60.454      215.13      166.94      428.99           4]\n"
     ]
    },
    {
     "name": "stderr",
     "output_type": "stream",
     "text": [
      "0: 640x384 3 persons, 1 refrigerator, 614.0ms\n",
      "Speed: 17.0ms preprocess, 614.0ms inference, 11.0ms postprocess per image at shape (1, 3, 640, 384)\n",
      "\n"
     ]
    },
    {
     "name": "stdout",
     "output_type": "stream",
     "text": [
      "[     58.962      215.29      164.34      428.89           4]\n",
      "[     58.617      215.39       163.2      428.79           4]\n",
      "[     58.656      215.46      162.65      428.71           4]\n",
      "[     58.803      215.51      162.37      428.65           4]\n",
      "[     313.15      227.89      364.71      511.24           1]\n"
     ]
    },
    {
     "name": "stderr",
     "output_type": "stream",
     "text": [
      "0: 640x384 3 persons, 770.7ms\n",
      "Speed: 28.0ms preprocess, 770.7ms inference, 9.0ms postprocess per image at shape (1, 3, 640, 384)\n",
      "\n"
     ]
    },
    {
     "name": "stdout",
     "output_type": "stream",
     "text": [
      "[      125.4      215.79       210.9      429.72           8]\n",
      "[     123.67      215.74       210.7       430.3           8]\n",
      "[     122.81      215.65      210.88      430.58           8]\n"
     ]
    },
    {
     "name": "stderr",
     "output_type": "stream",
     "text": [
      "0: 640x384 3 persons, 684.6ms\n",
      "Speed: 13.4ms preprocess, 684.6ms inference, 10.0ms postprocess per image at shape (1, 3, 640, 384)\n",
      "\n"
     ]
    },
    {
     "name": "stdout",
     "output_type": "stream",
     "text": [
      "[     53.902      216.64      157.12      432.46           4]\n",
      "[     53.356      216.62      156.35      433.27           4]\n",
      "[     53.217      216.46      156.05      433.71           4]\n"
     ]
    },
    {
     "name": "stderr",
     "output_type": "stream",
     "text": [
      "0: 640x384 3 persons, 614.9ms\n",
      "Speed: 17.0ms preprocess, 614.9ms inference, 8.0ms postprocess per image at shape (1, 3, 640, 384)\n",
      "\n"
     ]
    },
    {
     "name": "stdout",
     "output_type": "stream",
     "text": [
      "[     51.069      216.21      153.52       434.7           4]\n",
      "[     50.352      215.89      152.52      435.28           4]\n",
      "[     50.161       215.6      152.12      435.65           4]\n"
     ]
    },
    {
     "name": "stderr",
     "output_type": "stream",
     "text": [
      "0: 640x384 3 persons, 741.2ms\n",
      "Speed: 16.0ms preprocess, 741.2ms inference, 11.0ms postprocess per image at shape (1, 3, 640, 384)\n",
      "\n"
     ]
    },
    {
     "name": "stdout",
     "output_type": "stream",
     "text": [
      "[      46.89      215.55       148.7      436.36           4]\n",
      "[     45.709       215.4       147.4      436.76           4]\n",
      "[     45.317      215.23      146.93         437           4]\n"
     ]
    },
    {
     "name": "stderr",
     "output_type": "stream",
     "text": [
      "0: 640x384 3 persons, 628.9ms\n",
      "Speed: 14.0ms preprocess, 628.9ms inference, 10.0ms postprocess per image at shape (1, 3, 640, 384)\n",
      "\n"
     ]
    },
    {
     "name": "stdout",
     "output_type": "stream",
     "text": [
      "[      43.26      215.28      144.81      437.61           4]\n",
      "[     42.527       215.2      144.04      437.93           4]\n",
      "[     42.295      215.08      143.77      438.12           4]\n"
     ]
    },
    {
     "name": "stderr",
     "output_type": "stream",
     "text": [
      "0: 640x384 3 persons, 847.8ms\n",
      "Speed: 16.0ms preprocess, 847.8ms inference, 7.0ms postprocess per image at shape (1, 3, 640, 384)\n",
      "\n"
     ]
    },
    {
     "name": "stdout",
     "output_type": "stream",
     "text": [
      "[     40.945      213.76      142.39      436.19           4]\n",
      "[     40.473      213.37      141.89      435.34           4]\n",
      "[     40.333      213.29      141.74      434.94           4]\n"
     ]
    },
    {
     "name": "stderr",
     "output_type": "stream",
     "text": [
      "0: 640x384 3 persons, 730.6ms\n",
      "Speed: 18.0ms preprocess, 730.6ms inference, 10.0ms postprocess per image at shape (1, 3, 640, 384)\n",
      "\n"
     ]
    },
    {
     "name": "stdout",
     "output_type": "stream",
     "text": [
      "[     37.044      215.77      138.45      438.82           4]\n",
      "[     35.831      216.47      137.23      440.53           4]\n",
      "[     35.411      216.54       136.8      441.35           4]\n"
     ]
    },
    {
     "name": "stderr",
     "output_type": "stream",
     "text": [
      "0: 640x384 3 persons, 662.2ms\n",
      "Speed: 14.0ms preprocess, 662.2ms inference, 12.0ms postprocess per image at shape (1, 3, 640, 384)\n",
      "\n"
     ]
    },
    {
     "name": "stdout",
     "output_type": "stream",
     "text": [
      "[     32.576      218.12      134.82      445.97           4]\n",
      "[     31.395      218.17      134.25      448.23           4]\n",
      "[     30.882      217.79      134.17      449.46           4]\n"
     ]
    },
    {
     "name": "stderr",
     "output_type": "stream",
     "text": [
      "0: 640x384 3 persons, 635.5ms\n",
      "Speed: 17.0ms preprocess, 635.5ms inference, 8.0ms postprocess per image at shape (1, 3, 640, 384)\n",
      "\n"
     ]
    },
    {
     "name": "stdout",
     "output_type": "stream",
     "text": [
      "[     28.313      218.01      131.37      450.82           4]\n",
      "[     27.418      217.87       130.3      451.52           4]\n",
      "[      27.15      217.65       129.9      451.91           4]\n"
     ]
    },
    {
     "name": "stderr",
     "output_type": "stream",
     "text": [
      "0: 640x384 3 persons, 765.4ms\n",
      "Speed: 15.0ms preprocess, 765.4ms inference, 12.0ms postprocess per image at shape (1, 3, 640, 384)\n",
      "\n"
     ]
    },
    {
     "name": "stdout",
     "output_type": "stream",
     "text": [
      "[     24.764      219.26      126.89      455.54           4]\n",
      "[      24.01      219.49      125.67      457.27           4]\n",
      "[     23.849      219.28      125.17      458.17           4]\n"
     ]
    },
    {
     "name": "stderr",
     "output_type": "stream",
     "text": [
      "0: 640x384 3 persons, 935.7ms\n",
      "Speed: 12.0ms preprocess, 935.7ms inference, 21.0ms postprocess per image at shape (1, 3, 640, 384)\n",
      "\n"
     ]
    },
    {
     "name": "stdout",
     "output_type": "stream",
     "text": [
      "[     19.858      219.99      119.85      460.93           4]\n",
      "[     18.622      219.86      117.63      462.34           4]\n",
      "[     18.375      219.49      116.67      463.13           4]\n"
     ]
    },
    {
     "name": "stderr",
     "output_type": "stream",
     "text": [
      "0: 640x384 3 persons, 754.4ms\n",
      "Speed: 17.0ms preprocess, 754.4ms inference, 22.0ms postprocess per image at shape (1, 3, 640, 384)\n",
      "\n"
     ]
    },
    {
     "name": "stdout",
     "output_type": "stream",
     "text": [
      "[     15.104      218.83       113.7      463.91           4]\n",
      "[      13.86       218.3      112.67      464.43           4]\n",
      "[     13.402       217.9      112.37      464.79           4]\n"
     ]
    },
    {
     "name": "stderr",
     "output_type": "stream",
     "text": [
      "0: 640x384 3 persons, 1 handbag, 1 refrigerator, 857.7ms\n",
      "Speed: 15.0ms preprocess, 857.7ms inference, 13.0ms postprocess per image at shape (1, 3, 640, 384)\n"
     ]
    },
    {
     "name": "stdout",
     "output_type": "stream",
     "text": [
      "[     11.096      219.21      109.91      467.99           4]\n",
      "[     10.297      219.35         109      469.52           4]\n",
      "[     10.064      219.14      108.68      470.32           4]\n",
      "[     10.037      218.86      108.59      470.78           4]\n",
      "[     314.38      239.06      362.57      494.98           1]\n",
      "[     109.39      226.35      202.33      427.85           8]\n",
      "[     10.082       218.6      108.58      471.07           4]\n",
      "[     314.38      239.07      362.58      494.99           1]\n"
     ]
    },
    {
     "name": "stderr",
     "output_type": "stream",
     "text": [
      "\n",
      "0: 640x384 3 persons, 1 handbag, 976.6ms\n",
      "Speed: 26.0ms preprocess, 976.6ms inference, 12.0ms postprocess per image at shape (1, 3, 640, 384)\n",
      "\n"
     ]
    },
    {
     "name": "stdout",
     "output_type": "stream",
     "text": [
      "[     6.1386      219.31      105.44      473.59           4]\n",
      "[      4.544      219.25      104.42      474.84           4]\n",
      "[     3.8827      218.98      104.17      475.51           4]\n",
      "[     3.6019       218.7       104.2      475.91           4]\n",
      "[     312.71      240.07      362.24         496           1]\n"
     ]
    },
    {
     "name": "stderr",
     "output_type": "stream",
     "text": [
      "0: 640x384 3 persons, 1 refrigerator, 923.5ms\n",
      "Speed: 14.0ms preprocess, 923.5ms inference, 12.0ms postprocess per image at shape (1, 3, 640, 384)\n",
      "\n"
     ]
    },
    {
     "name": "stdout",
     "output_type": "stream",
     "text": [
      "[     312.87      240.53      362.04      496.23           1]\n",
      "[     312.99      240.74      361.91      496.27           1]\n",
      "[     313.08      240.85      361.82      496.25           1]\n",
      "[      105.7      226.26      203.02      431.61           8]\n",
      "[     313.15       240.9      361.76      496.22           1]\n"
     ]
    },
    {
     "name": "stderr",
     "output_type": "stream",
     "text": [
      "0: 640x384 3 persons, 1 refrigerator, 696.9ms\n",
      "Speed: 20.0ms preprocess, 696.9ms inference, 13.0ms postprocess per image at shape (1, 3, 640, 384)\n"
     ]
    },
    {
     "name": "stdout",
     "output_type": "stream",
     "text": [
      "[     104.68      225.69      203.46      433.51           8]\n",
      "[     104.07      225.06      203.87       434.6           8]\n",
      "[     103.67      224.51       204.2      435.26           8]\n",
      "[      103.4      224.07      204.45       435.7           8]\n",
      "[     312.29      243.71      360.64      497.43           1]\n"
     ]
    },
    {
     "name": "stderr",
     "output_type": "stream",
     "text": [
      "\n",
      "0: 640x384 3 persons, 855.1ms\n",
      "Speed: 21.6ms preprocess, 855.1ms inference, 13.0ms postprocess per image at shape (1, 3, 640, 384)\n",
      "\n"
     ]
    },
    {
     "name": "stdout",
     "output_type": "stream",
     "text": [
      "[     312.74      244.09       360.8      497.12           1]\n",
      "[     312.97      244.35      360.81      496.87           1]\n",
      "[     313.09      244.52      360.79      496.69           1]\n"
     ]
    },
    {
     "name": "stderr",
     "output_type": "stream",
     "text": [
      "0: 640x384 3 persons, 661.4ms\n",
      "Speed: 31.0ms preprocess, 661.4ms inference, 9.0ms postprocess per image at shape (1, 3, 640, 384)\n",
      "\n"
     ]
    },
    {
     "name": "stdout",
     "output_type": "stream",
     "text": [
      "[      102.2      222.53      200.35      438.02           8]\n",
      "[     102.45       222.1      199.53      438.43           8]\n",
      "[     102.74      221.77      199.05      438.71           8]\n"
     ]
    },
    {
     "name": "stderr",
     "output_type": "stream",
     "text": [
      "0: 640x384 3 persons, 798.9ms\n",
      "Speed: 13.0ms preprocess, 798.9ms inference, 8.0ms postprocess per image at shape (1, 3, 640, 384)\n",
      "\n"
     ]
    },
    {
     "name": "stdout",
     "output_type": "stream",
     "text": [
      "[     100.38      220.41      196.13      438.07           8]\n",
      "[     99.588      219.76      194.94      437.94           8]\n",
      "[     99.376      219.41      194.43      437.98           8]\n"
     ]
    },
    {
     "name": "stderr",
     "output_type": "stream",
     "text": [
      "0: 640x384 3 persons, 767.7ms\n",
      "Speed: 12.0ms preprocess, 767.7ms inference, 11.0ms postprocess per image at shape (1, 3, 640, 384)\n",
      "\n"
     ]
    },
    {
     "name": "stdout",
     "output_type": "stream",
     "text": [
      "[      96.85      219.55       192.8      439.01           8]\n",
      "[     95.754      219.44      192.36      439.55           8]\n",
      "[     95.248      219.29      192.33      439.86           8]\n"
     ]
    },
    {
     "name": "stderr",
     "output_type": "stream",
     "text": [
      "0: 640x384 5 persons, 624.4ms\n",
      "Speed: 16.0ms preprocess, 624.4ms inference, 7.0ms postprocess per image at shape (1, 3, 640, 384)\n",
      "\n"
     ]
    },
    {
     "name": "stdout",
     "output_type": "stream",
     "text": [
      "[      92.76      218.48      190.73       439.4           8]\n",
      "[     91.682      218.11      190.31      439.28           8]\n",
      "[     91.185      217.92      190.28      439.28           8]\n",
      "[     90.938      217.82      190.38       439.3           8]\n",
      "[     313.29      249.69      356.61      493.43           1]\n",
      "[     90.808      217.76       190.5      439.33           8]\n",
      "[     1.4534      224.75      93.833      487.65           4]\n",
      "[     313.28      249.76       356.6      493.35           1]\n"
     ]
    },
    {
     "name": "stderr",
     "output_type": "stream",
     "text": [
      "0: 640x384 4 persons, 742.7ms\n",
      "Speed: 15.0ms preprocess, 742.7ms inference, 7.0ms postprocess per image at shape (1, 3, 640, 384)\n",
      "\n"
     ]
    },
    {
     "name": "stdout",
     "output_type": "stream",
     "text": [
      "[      88.04      218.93      188.73      439.45           8]\n",
      "[     86.836      219.54      188.26      439.32           8]\n",
      "[     86.278       219.9      188.23      439.13           8]\n",
      "[     85.998      220.13      188.33      438.96           8]\n",
      "[     312.98      249.75      354.91      491.31           1]\n"
     ]
    },
    {
     "name": "stderr",
     "output_type": "stream",
     "text": [
      "0: 640x384 3 persons, 709.9ms\n",
      "Speed: 13.0ms preprocess, 709.9ms inference, 15.0ms postprocess per image at shape (1, 3, 640, 384)\n",
      "\n"
     ]
    },
    {
     "name": "stdout",
     "output_type": "stream",
     "text": [
      "[     86.792      220.92      190.78       439.5           8]\n",
      "[     86.823      221.26      192.02      439.65           8]\n",
      "[     86.638      221.41      192.71      439.67           8]\n"
     ]
    },
    {
     "name": "stderr",
     "output_type": "stream",
     "text": [
      "0: 640x384 4 persons, 1 refrigerator, 642.3ms\n",
      "Speed: 14.0ms preprocess, 642.3ms inference, 10.0ms postprocess per image at shape (1, 3, 640, 384)\n",
      "\n"
     ]
    },
    {
     "name": "stdout",
     "output_type": "stream",
     "text": [
      "[     83.522      222.16      188.86      440.28           8]\n",
      "[     82.483      222.47      187.28      440.48           8]\n",
      "[     82.203       222.6      186.61      440.53           8]\n",
      "[     82.188      222.65      186.31      440.53           8]\n",
      "[    -1.2441      259.19      82.931      490.32           4]\n",
      "[     82.253      222.68      186.16      440.51           8]\n",
      "[   -0.95562      260.98      82.586      489.15           4]\n",
      "[     314.09      249.83      353.81      483.02           1]\n"
     ]
    },
    {
     "name": "stderr",
     "output_type": "stream",
     "text": [
      "0: 640x384 5 persons, 1 refrigerator, 739.6ms\n",
      "Speed: 14.0ms preprocess, 739.6ms inference, 8.0ms postprocess per image at shape (1, 3, 640, 384)\n"
     ]
    },
    {
     "name": "stdout",
     "output_type": "stream",
     "text": [
      "[     81.769      222.52      184.69      440.01           8]\n",
      "[     81.776      222.51      183.98      439.76           8]\n",
      "[     81.923      222.55       183.6      439.61           8]\n",
      "[      82.09      222.59      183.38      439.52           8]\n",
      "[     314.12      248.87      352.83      476.83           1]\n",
      "[     82.237      222.63      183.25      439.46           8]\n",
      "[    -1.3689      264.92      77.014      460.69           4]\n",
      "[     314.17      249.11      352.76      476.46           1]\n",
      "[      149.3      236.08      200.19      430.86          14]\n",
      "[     82.357      222.67      183.16      439.41           8]\n",
      "[    -1.0242      266.65      76.604       458.5           4]\n",
      "[     314.21      249.33      352.72      476.23           1]\n"
     ]
    },
    {
     "name": "stderr",
     "output_type": "stream",
     "text": [
      "\n",
      "0: 640x384 6 persons, 1 refrigerator, 627.7ms\n",
      "Speed: 15.0ms preprocess, 627.7ms inference, 12.0ms postprocess per image at shape (1, 3, 640, 384)\n"
     ]
    },
    {
     "name": "stdout",
     "output_type": "stream",
     "text": [
      "[     81.503      223.49      180.79      441.19           8]\n",
      "[     81.459      223.63      179.64      442.04           8]\n",
      "[     81.654      223.54      179.03      442.48           8]\n",
      "[     81.886      223.41      178.67      442.74           8]\n",
      "[     314.33       249.2      352.62      468.41           1]\n",
      "[     149.65      235.97      198.86      430.92          14]\n",
      "[     82.094      223.28      178.44       442.9           8]\n",
      "[     314.33       249.6      352.62      467.87           1]\n",
      "[     149.75       235.9      198.79      431.01          14]\n",
      "[     82.263      223.18      178.29         443           8]\n",
      "[    -0.7801      275.74      72.431      467.53           4]\n",
      "[     314.34      249.93      352.62      467.53           1]\n",
      "[  0.0056331      435.08      222.97      845.92          15]\n",
      "[     149.82      235.84      198.76      431.07          14]\n",
      "[     82.396       223.1      178.19      443.08           8]\n",
      "[   -0.56332      275.82      72.195      467.67           4]\n",
      "[     314.34      250.18      352.62       467.3           1]\n"
     ]
    },
    {
     "name": "stderr",
     "output_type": "stream",
     "text": [
      "\n",
      "0: 640x384 6 persons, 904.0ms\n",
      "Speed: 16.0ms preprocess, 904.0ms inference, 15.0ms postprocess per image at shape (1, 3, 640, 384)\n"
     ]
    },
    {
     "name": "stdout",
     "output_type": "stream",
     "text": [
      "[     81.193       223.5      176.82      443.31           8]\n",
      "[     80.779      223.67      176.28      443.37           8]\n",
      "[     80.658      223.76      176.07      443.37           8]\n",
      "[     80.642       223.8      175.98      443.34           8]\n",
      "[      314.2      251.14      351.76      464.48           1]\n",
      "[     150.02      235.23      204.82      439.85          14]\n",
      "[     80.661      223.82      175.95      443.32           8]\n",
      "[     314.23      251.34      351.71      464.28           1]\n",
      "[     149.73       234.8      205.23       440.4          14]\n",
      "[     80.689      223.84      175.94      443.29           8]\n",
      "[   -0.79212      280.14      67.471      477.49           4]\n",
      "[     314.26      251.49      351.68      464.15           1]\n"
     ]
    },
    {
     "name": "stderr",
     "output_type": "stream",
     "text": [
      "\n",
      "0: 640x384 6 persons, 1 refrigerator, 1080.0ms\n",
      "Speed: 14.0ms preprocess, 1080.0ms inference, 25.0ms postprocess per image at shape (1, 3, 640, 384)\n"
     ]
    },
    {
     "name": "stdout",
     "output_type": "stream",
     "text": [
      "[     79.686      224.32      174.36      443.46           8]\n",
      "[     79.418      224.55      173.67      443.46           8]\n",
      "[     79.404      224.68      173.35      443.41           8]\n",
      "[     79.465      224.76      173.18      443.36           8]\n",
      "[     314.17      255.46      350.79      465.33           1]\n",
      "[      79.54       224.8      173.09      443.31           8]\n",
      "[   -0.61415      280.83      64.298      472.71           4]\n",
      "[      314.2      255.65      350.73      465.26           1]\n",
      "[     148.94       233.2      197.92      425.66          14]\n",
      "[     79.609      224.84      173.04      443.27           8]\n",
      "[   -0.43284      281.08      64.097      472.34           4]\n",
      "[     314.23      255.78       350.7      465.19           1]\n",
      "[  -0.061458      437.11      221.01      845.94          15]\n",
      "[     149.23      233.81      197.53      424.84          14]\n",
      "[     79.666      224.86      173.01      443.24           8]\n",
      "[   -0.29136      281.26      63.968      472.09           4]\n",
      "[     314.26      255.85      350.68      465.13           1]\n"
     ]
    },
    {
     "name": "stderr",
     "output_type": "stream",
     "text": [
      "\n",
      "0: 640x384 5 persons, 1 refrigerator, 979.6ms\n",
      "Speed: 18.0ms preprocess, 979.6ms inference, 16.0ms postprocess per image at shape (1, 3, 640, 384)\n"
     ]
    },
    {
     "name": "stdout",
     "output_type": "stream",
     "text": [
      "[     78.217      225.07      171.22      443.68           8]\n",
      "[     77.736      225.11       170.5      443.88           8]\n",
      "[      77.61      225.09      170.19      443.98           8]\n",
      "[     77.607      225.06      170.05      444.04           8]\n",
      "[     313.64      260.12      351.31      473.98           1]\n",
      "[     77.641      225.03      169.99      444.07           8]\n",
      "[    -0.8941      284.33      58.596      471.92           4]\n",
      "[     313.54      259.86      351.42      474.51           1]\n",
      "[     149.57      236.93      201.34      439.12          14]\n",
      "[     77.683         225      169.96      444.09           8]\n",
      "[   -0.64737      284.51      58.279      471.77           4]\n",
      "[     313.47      259.63      351.49      474.82           1]\n"
     ]
    },
    {
     "name": "stderr",
     "output_type": "stream",
     "text": [
      "\n",
      "0: 640x384 6 persons, 1 refrigerator, 945.5ms\n",
      "Speed: 17.0ms preprocess, 945.5ms inference, 15.0ms postprocess per image at shape (1, 3, 640, 384)\n"
     ]
    },
    {
     "name": "stdout",
     "output_type": "stream",
     "text": [
      "[     74.918      224.72      166.87      444.37           8]\n",
      "[     73.938      224.51      165.66      444.57           8]\n",
      "[     73.626      224.35      165.17      444.72           8]\n",
      "[     73.557      224.24      164.98      444.83           8]\n",
      "[     313.03      259.79      349.93      473.56           1]\n",
      "[     73.571      224.15       164.9      444.91           8]\n",
      "[   -0.67487         291      54.346      468.24           4]\n",
      "[     313.08       259.8      349.84      473.49           1]\n",
      "[     144.45      235.43      199.42      440.84          14]\n",
      "[     73.609      224.09      164.87      444.96           8]\n",
      "[   -0.46257       291.6      54.099      467.66           4]\n",
      "[     313.12      259.81      349.79      473.44           1]\n",
      "[     184.63      278.84      222.17      433.44          16]\n",
      "[     144.25      235.27      199.54      440.97          14]\n",
      "[     73.651      224.04      164.86         445           8]\n",
      "[   -0.29473      292.02       53.94      467.24           4]\n",
      "[     313.16      259.82      349.75       473.4           1]\n"
     ]
    },
    {
     "name": "stderr",
     "output_type": "stream",
     "text": [
      "\n",
      "0: 640x384 5 persons, 981.4ms\n",
      "Speed: 31.0ms preprocess, 981.4ms inference, 19.0ms postprocess per image at shape (1, 3, 640, 384)\n"
     ]
    },
    {
     "name": "stdout",
     "output_type": "stream",
     "text": [
      "[     71.539      223.09      162.44      444.64           8]\n",
      "[     70.807      222.63      161.49      444.61           8]\n",
      "[     70.587      222.37       161.1      444.68           8]\n",
      "[     70.551      222.22      160.95      444.76           8]\n",
      "[     313.25      261.56      349.69       473.6           1]\n",
      "[     144.85      235.16         200      442.01          14]\n",
      "[     70.577      222.12      160.89      444.84           8]\n",
      "[     313.26      261.62      349.69      473.57           1]\n"
     ]
    },
    {
     "name": "stderr",
     "output_type": "stream",
     "text": [
      "\n",
      "0: 640x384 5 persons, 1 refrigerator, 939.0ms\n",
      "Speed: 15.0ms preprocess, 939.0ms inference, 14.0ms postprocess per image at shape (1, 3, 640, 384)\n"
     ]
    },
    {
     "name": "stdout",
     "output_type": "stream",
     "text": [
      "[     67.269      221.39      158.34      444.26           8]\n",
      "[     65.899      221.09      157.52      444.07           8]\n",
      "[     65.306      220.96      157.33      444.02           8]\n",
      "[     65.034       220.9      157.35      444.01           8]\n",
      "[     313.11      259.15      348.85      471.97           1]\n",
      "[     64.901      220.87      157.43      444.03           8]\n",
      "[   -0.74218      299.78      45.413      460.43           4]\n",
      "[     313.14      258.97       348.8      472.05           1]\n",
      "[     144.91      235.98      200.02      443.17          14]\n",
      "[     64.834      220.86      157.52      444.04           8]\n",
      "[   -0.49737      300.19      45.115       459.9           4]\n",
      "[     313.16      258.87      348.77      472.12           1]\n"
     ]
    },
    {
     "name": "stderr",
     "output_type": "stream",
     "text": [
      "\n",
      "0: 640x384 5 persons, 1 refrigerator, 845.1ms\n",
      "Speed: 16.0ms preprocess, 845.1ms inference, 8.0ms postprocess per image at shape (1, 3, 640, 384)\n"
     ]
    },
    {
     "name": "stdout",
     "output_type": "stream",
     "text": [
      "[     62.104      221.49      155.73      444.72           8]\n",
      "[     60.923      221.72      155.23      444.99           8]\n",
      "[     60.378      221.81      155.18      445.09           8]\n",
      "[     60.107      221.84      155.27      445.14           8]\n",
      "[     314.07      253.32      348.89      468.58           1]\n",
      "[     59.962      221.85      155.39      445.16           8]\n",
      "[   -0.54656      306.68      41.214      465.52           4]\n",
      "[     314.13      253.02      348.86       468.7           1]\n",
      "[     177.09      265.11       221.7      444.42          16]\n",
      "[      59.88      221.85       155.5      445.16           8]\n",
      "[   -0.34942      306.74      40.983      465.64           4]\n",
      "[     314.17      252.85      348.83      468.82           1]\n"
     ]
    },
    {
     "name": "stderr",
     "output_type": "stream",
     "text": [
      "\n",
      "0: 640x384 5 persons, 1 dog, 1 refrigerator, 680.5ms\n",
      "Speed: 14.0ms preprocess, 680.5ms inference, 16.0ms postprocess per image at shape (1, 3, 640, 384)\n"
     ]
    },
    {
     "name": "stdout",
     "output_type": "stream",
     "text": [
      "[     56.208      221.54      153.35      445.47           8]\n",
      "[     54.569      221.32      152.81      445.69           8]\n",
      "[     53.778      221.17      152.83      445.85           8]\n",
      "[     174.92      266.86      220.86      445.46          16]\n",
      "[     53.361      221.06         153      445.96           8]\n",
      "[     174.82      266.96      220.92      445.39          16]\n",
      "[     53.124      220.98      153.19      446.04           8]\n",
      "[     314.27      261.31      348.73      465.53           1]\n",
      "[     174.76      267.01      220.98      445.33          16]\n",
      "[      52.98      220.92      153.35      446.09           8]\n",
      "[     314.27      261.98      348.73      464.96           1]\n",
      "[        406         664         478         819          19]\n",
      "[     174.72      267.04      221.03      445.28          16]\n",
      "[     142.54      238.03      193.23      444.09          14]\n",
      "[      52.89      220.88      153.49      446.13           8]\n",
      "[     314.27      262.44      348.73      464.54           1]\n"
     ]
    },
    {
     "name": "stderr",
     "output_type": "stream",
     "text": [
      "\n",
      "0: 640x384 5 persons, 570.3ms\n",
      "Speed: 16.0ms preprocess, 570.3ms inference, 10.0ms postprocess per image at shape (1, 3, 640, 384)\n"
     ]
    },
    {
     "name": "stdout",
     "output_type": "stream",
     "text": [
      "[     49.482      220.09      151.08      446.27           8]\n",
      "[     48.034      219.63      150.35      446.47           8]\n",
      "[     47.382      219.35      150.23      446.66           8]\n",
      "[     171.99      268.02       219.8      446.21          16]\n",
      "[     47.068      219.16       150.3      446.82           8]\n",
      "[     171.86      268.08      219.87      446.18          16]\n",
      "[     46.904      219.03      150.41      446.94           8]\n",
      "[     314.12      256.91      347.87         464           1]\n"
     ]
    },
    {
     "name": "stderr",
     "output_type": "stream",
     "text": [
      "\n",
      "0: 640x384 7 persons, 1 refrigerator, 713.5ms\n",
      "Speed: 17.0ms preprocess, 713.5ms inference, 10.0ms postprocess per image at shape (1, 3, 640, 384)\n"
     ]
    },
    {
     "name": "stdout",
     "output_type": "stream",
     "text": [
      "[     44.497      218.92      149.58      447.05           8]\n",
      "[      43.33      218.85      149.56      447.13           8]\n",
      "[     42.709      218.79      149.77      447.18           8]\n",
      "[     170.87      267.23       219.9      445.96          16]\n",
      "[     42.349      218.76      150.02      447.22           8]\n",
      "[      170.8       267.2      219.97      445.94          16]\n",
      "[     42.126      218.73      150.24      447.25           8]\n",
      "[     314.22      260.29      347.75      465.62           1]\n",
      "[     170.77      267.19      220.02      445.94          16]\n",
      "[     140.17      239.02       193.7      444.05          14]\n",
      "[     41.983      218.71      150.42      447.27           8]\n",
      "[     314.22      260.36      347.75      465.64           1]\n",
      "[     170.74      267.18      220.06      445.93          16]\n",
      "[    0.17173      441.12      218.84      845.95          15]\n",
      "[      140.1      239.01      193.77      444.06          14]\n",
      "[      41.89       218.7      150.56      447.28           8]\n",
      "[     314.22       260.4      347.75      465.63           1]\n",
      "[     170.73      267.17      220.09      445.92          16]\n",
      "[    0.14187      441.14      218.88      845.95          15]\n",
      "[     140.06      239.01      193.83      444.06          14]\n",
      "[     41.829      218.69      150.67      447.29           8]\n",
      "[     314.23      260.43      347.75      465.61           1]\n"
     ]
    },
    {
     "name": "stderr",
     "output_type": "stream",
     "text": [
      "\n",
      "0: 640x384 7 persons, 1 dog, 1 refrigerator, 720.1ms\n",
      "Speed: 11.0ms preprocess, 720.1ms inference, 13.0ms postprocess per image at shape (1, 3, 640, 384)\n"
     ]
    },
    {
     "name": "stdout",
     "output_type": "stream",
     "text": [
      "[     37.798      217.32      149.53      448.01           8]\n",
      "[     35.781      216.46      149.61      448.63           8]\n",
      "[     34.671      215.89      150.03      449.11           8]\n",
      "[     168.03      268.12      218.82      446.96          16]\n",
      "[     34.003       215.5      150.47      449.46           8]\n",
      "[      167.9      268.17      218.88      446.95          16]\n",
      "[     33.575      215.23      150.85      449.73           8]\n",
      "[     314.41      267.57      348.59      467.59           1]\n",
      "[     314.47      268.92       348.6      385.06          21]\n",
      "[     167.82      268.19      218.94      446.93          16]\n",
      "[     33.289      215.04      151.16      449.92           8]\n",
      "[     314.37      267.87      348.65      467.43           1]\n",
      "[     314.42      269.34      348.66      384.66          21]\n",
      "[     167.78       268.2      218.99      446.91          16]\n",
      "[  -0.025922      441.04      218.02      844.99          15]\n",
      "[     33.094       214.9      151.39      450.06           8]\n",
      "[     314.34      268.05      348.69      467.28           1]\n",
      "[     314.37      269.65       348.7      384.45          21]\n",
      "[     167.75      268.21      219.03       446.9          16]\n",
      "[   -0.00483      441.06      217.99      844.95          15]\n",
      "[     139.32      238.88      195.64      444.15          14]\n",
      "[      32.96       214.8      151.57      450.16           8]\n",
      "[     314.31      268.17      348.71      467.16           1]\n",
      "[     314.33      269.86      348.73      384.35          21]\n",
      "[     337.74      503.89      479.61      845.26          20]\n",
      "[     167.74      268.22      219.07      446.88          16]\n",
      "[   0.012653      441.08      217.97      844.93          15]\n",
      "[     139.22      238.88      195.76      444.15          14]\n",
      "[     32.869      214.73       151.7      450.23           8]\n",
      "[     314.29      268.24      348.73      467.06           1]\n"
     ]
    },
    {
     "name": "stderr",
     "output_type": "stream",
     "text": [
      "\n",
      "0: 640x384 6 persons, 917.3ms\n",
      "Speed: 13.0ms preprocess, 917.3ms inference, 11.6ms postprocess per image at shape (1, 3, 640, 384)\n"
     ]
    },
    {
     "name": "stdout",
     "output_type": "stream",
     "text": [
      "[      28.13      216.85      146.03      452.69           8]\n",
      "[     26.513      217.59      143.74      453.68           8]\n",
      "[     26.045      217.82      142.77       454.1           8]\n",
      "[     166.05      268.87      218.81       446.2          16]\n",
      "[     25.984      217.87      142.34      454.28           8]\n",
      "[     165.94      268.99      218.89      446.07          16]\n",
      "[     26.053      217.86      142.15      454.36           8]\n",
      "[     313.23         259      347.75      465.02           1]\n",
      "[     329.45      372.48      480.95      829.32          20]\n",
      "[     165.87      269.07      218.95      445.98          16]\n",
      "[     26.152      217.83      142.05       454.4           8]\n",
      "[      313.2      258.38      347.75      465.45           1]\n"
     ]
    },
    {
     "name": "stderr",
     "output_type": "stream",
     "text": [
      "\n",
      "0: 640x384 5 persons, 586.3ms\n",
      "Speed: 15.5ms preprocess, 586.3ms inference, 15.0ms postprocess per image at shape (1, 3, 640, 384)\n"
     ]
    },
    {
     "name": "stdout",
     "output_type": "stream",
     "text": [
      "[     21.509      218.43      138.91      455.09           8]\n",
      "[      19.51      218.64         138      455.36           8]\n",
      "[     18.593      218.71      137.88      455.46           8]\n",
      "[     331.09      359.43      481.43      842.87          20]\n",
      "[     18.138      218.72      138.01       455.5           8]\n",
      "[     331.35      358.15      481.26      844.68          20]\n",
      "[     17.895      218.71      138.18      455.51           8]\n",
      "[     313.34      255.45      348.63      464.31           1]\n"
     ]
    },
    {
     "name": "stderr",
     "output_type": "stream",
     "text": [
      "\n",
      "0: 640x384 4 persons, 704.2ms\n",
      "Speed: 15.0ms preprocess, 704.2ms inference, 8.0ms postprocess per image at shape (1, 3, 640, 384)\n",
      "\n"
     ]
    },
    {
     "name": "stdout",
     "output_type": "stream",
     "text": [
      "[     14.303      220.65      134.63      455.51           8]\n",
      "[     12.967      221.72      133.31      455.17           8]\n",
      "[     12.494      222.36      132.84      454.79           8]\n",
      "[     332.41      337.03      480.35       844.3          20]\n",
      "[     12.348      222.77       132.7      454.46           8]\n"
     ]
    },
    {
     "name": "stderr",
     "output_type": "stream",
     "text": [
      "0: 640x384 5 persons, 1 refrigerator, 677.4ms\n",
      "Speed: 14.0ms preprocess, 677.4ms inference, 14.0ms postprocess per image at shape (1, 3, 640, 384)\n"
     ]
    },
    {
     "name": "stdout",
     "output_type": "stream",
     "text": [
      "[     9.3557      222.68      131.08      453.26           8]\n",
      "[      8.014      222.82      130.74      452.62           8]\n",
      "[     7.3658         223      130.82      452.23           8]\n",
      "[     331.46      306.08      481.38       842.6          20]\n",
      "[     7.0268      223.16         131      451.99           8]\n",
      "[     331.43      304.08      481.43      844.19          20]\n",
      "[     6.8372       223.3       131.2      451.82           8]\n",
      "[     313.14      256.02      347.83      463.83           1]\n",
      "[     331.42      302.86      481.45       845.5          20]\n",
      "[     158.93      271.91      217.83      448.17          16]\n",
      "[     6.7269       223.4      131.37       451.7           8]\n",
      "[     313.14      255.99      347.83      463.87           1]\n"
     ]
    },
    {
     "name": "stderr",
     "output_type": "stream",
     "text": [
      "\n",
      "0: 640x384 5 persons, 1 refrigerator, 740.2ms\n",
      "Speed: 21.0ms preprocess, 740.2ms inference, 16.0ms postprocess per image at shape (1, 3, 640, 384)\n"
     ]
    },
    {
     "name": "stdout",
     "output_type": "stream",
     "text": [
      "[      4.051      224.59      128.89      452.45           8]\n",
      "[     3.0273      225.11      128.02      452.66           8]\n",
      "[     2.6434      225.36      127.74      452.68           8]\n",
      "[     327.69      294.37      479.17      846.98          20]\n",
      "[     2.5089       225.5      127.68      452.63           8]\n",
      "[      327.6      293.95      479.15      847.49          20]\n",
      "[     2.4723      225.57       127.7      452.58           8]\n",
      "[     313.17      256.05      347.82      463.87           1]\n",
      "[     327.57      293.72      479.15      847.89          20]\n",
      "[     154.21       273.2      216.53      448.93          16]\n",
      "[     2.4742      225.62      127.74      452.53           8]\n",
      "[     313.16         256      347.82      463.93           1]\n"
     ]
    },
    {
     "name": "stderr",
     "output_type": "stream",
     "text": [
      "\n",
      "0: 640x384 5 persons, 1 refrigerator, 864.0ms\n",
      "Speed: 15.0ms preprocess, 864.0ms inference, 12.0ms postprocess per image at shape (1, 3, 640, 384)\n"
     ]
    },
    {
     "name": "stdout",
     "output_type": "stream",
     "text": [
      "[    0.99492      224.54      126.01      451.65           8]\n",
      "[    0.49937      224.09      125.34      451.34           8]\n",
      "[    0.36719      223.89      125.07      451.25           8]\n",
      "[     326.67      275.77      479.12      845.43          20]\n",
      "[    0.36366       223.8      124.97      451.23           8]\n",
      "[     326.67      274.73      479.11      846.19          20]\n",
      "[     0.2658       443.9      219.78      844.15          15]\n",
      "[    0.40121      223.76      124.94      451.24           8]\n",
      "[     326.68       274.1      479.12      846.84          20]\n",
      "[    0.21549      443.95      219.84      844.08          15]\n",
      "[    0.44804      223.73      124.93      451.25           8]\n",
      "[     313.17      256.77      347.82      463.19           1]\n"
     ]
    },
    {
     "name": "stderr",
     "output_type": "stream",
     "text": [
      "\n",
      "0: 640x384 5 persons, 1 refrigerator, 938.7ms\n",
      "Speed: 16.0ms preprocess, 938.7ms inference, 12.0ms postprocess per image at shape (1, 3, 640, 384)\n"
     ]
    },
    {
     "name": "stdout",
     "output_type": "stream",
     "text": [
      "[   -0.45449      225.04      122.62      452.55           8]\n",
      "[    -0.5318      225.53      121.51      453.05           8]\n",
      "[    -0.3606      225.72      120.93      453.23           8]\n",
      "[     318.38      257.83      478.41      846.58          20]\n",
      "[   -0.14419      225.79       120.6      453.29           8]\n",
      "[     317.81      256.82       478.8      847.37          20]\n",
      "[    0.11108      444.21      219.93      844.82          15]\n",
      "[   0.052597      225.81      120.39      453.31           8]\n",
      "[     317.45      256.21      479.13      848.01          20]\n",
      "[   0.094608      444.18      219.94      844.86          15]\n",
      "[    0.21453      225.82      120.26      453.31           8]\n",
      "[     313.03       259.9      346.95      465.17           1]\n"
     ]
    },
    {
     "name": "stderr",
     "output_type": "stream",
     "text": [
      "\n",
      "0: 640x384 5 persons, 1 refrigerator, 948.7ms\n",
      "Speed: 14.0ms preprocess, 948.7ms inference, 14.0ms postprocess per image at shape (1, 3, 640, 384)\n"
     ]
    },
    {
     "name": "stdout",
     "output_type": "stream",
     "text": [
      "[   -0.68928      225.17      118.59      452.65           8]\n",
      "[   -0.88319      224.93      117.84      452.39           8]\n",
      "[   -0.84223      224.83      117.47      452.28           8]\n",
      "[     314.34      247.82      479.32      848.85          20]\n",
      "[    -0.7389       224.8      117.28      452.24           8]\n",
      "[     314.14      247.33      479.49       849.3          20]\n",
      "[    0.21904      444.11      220.82      844.92          15]\n",
      "[   -0.63218      224.79      117.17      452.22           8]\n",
      "[     314.01      247.03      479.62      849.66          20]\n",
      "[     152.19      269.35      214.65      404.78          16]\n",
      "[    0.17716       444.1      220.87      844.93          15]\n",
      "[   -0.53946      224.79       117.1      452.22           8]\n"
     ]
    },
    {
     "name": "stderr",
     "output_type": "stream",
     "text": [
      "\n",
      "0: 640x384 5 persons, 1 refrigerator, 854.8ms\n",
      "Speed: 16.0ms preprocess, 854.8ms inference, 10.0ms postprocess per image at shape (1, 3, 640, 384)\n"
     ]
    },
    {
     "name": "stdout",
     "output_type": "stream",
     "text": [
      "[    -1.0311      226.46      115.67      452.51           8]\n",
      "[    -1.0387      227.33      114.97      452.37           8]\n",
      "[   -0.90638      227.84       114.6      452.13           8]\n",
      "[     312.96      240.67      479.77      849.37          20]\n",
      "[   -0.75401      228.16      114.38      451.91           8]\n",
      "[     313.98      273.36      344.96      371.67          21]\n",
      "[     312.93      240.37      479.81      849.61          20]\n",
      "[   -0.61887      228.38      114.24      451.72           8]\n",
      "[     314.01      273.39      344.92      371.65          21]\n",
      "[     312.91      240.19      479.85      849.83          20]\n",
      "[     151.66      275.23      213.19      404.72          16]\n",
      "[   -0.50878      228.53      114.16      451.58           8]\n"
     ]
    },
    {
     "name": "stderr",
     "output_type": "stream",
     "text": [
      "\n",
      "0: 640x384 5 persons, 1 refrigerator, 708.7ms\n",
      "Speed: 14.0ms preprocess, 708.7ms inference, 16.0ms postprocess per image at shape (1, 3, 640, 384)\n"
     ]
    },
    {
     "name": "stdout",
     "output_type": "stream",
     "text": [
      "[   -0.61335      229.02      113.64      452.39           8]\n",
      "[   -0.57053      229.14      113.38      452.75           8]\n",
      "[   -0.49156      229.15      113.23      452.92           8]\n",
      "[     312.67      222.15      479.15      845.99          20]\n",
      "[   -0.41381      229.11      113.15      453.01           8]\n",
      "[     312.75      221.07      479.07      846.68          20]\n",
      "[     147.63      248.87      210.14      403.14          16]\n",
      "[   -0.34769      229.07      113.09      453.06           8]\n",
      "[     312.81       220.4      479.02      847.28          20]\n",
      "[     147.59      247.09      210.08      404.56          16]\n",
      "[   -0.29435      229.04      113.06       453.1           8]\n",
      "[     315.85      275.77      344.14      463.48           1]\n"
     ]
    },
    {
     "name": "stderr",
     "output_type": "stream",
     "text": [
      "\n",
      "0: 640x384 4 persons, 795.5ms\n",
      "Speed: 15.0ms preprocess, 795.5ms inference, 17.0ms postprocess per image at shape (1, 3, 640, 384)\n",
      "\n"
     ]
    },
    {
     "name": "stdout",
     "output_type": "stream",
     "text": [
      "[     312.38      211.23      478.81      843.45          20]\n",
      "[     312.18      206.87      478.77      842.96          20]\n",
      "[      312.1      204.61      478.78      843.49          20]\n",
      "[     312.06      203.33       478.8      844.22          20]\n",
      "[   -0.68887      232.49      110.51      454.64           8]\n"
     ]
    },
    {
     "name": "stderr",
     "output_type": "stream",
     "text": [
      "0: 640x384 4 persons, 989.7ms\n",
      "Speed: 27.0ms preprocess, 989.7ms inference, 12.0ms postprocess per image at shape (1, 3, 640, 384)\n",
      "\n"
     ]
    },
    {
     "name": "stdout",
     "output_type": "stream",
     "text": [
      "[     313.43      201.58      479.39      845.21          20]\n",
      "[      314.1      200.49      479.47      846.11          20]\n",
      "[     314.46      199.79      479.39      846.83          20]\n",
      "[     314.68      199.32      479.28      847.39          20]\n",
      "[   -0.65388      239.44      108.44      458.87           8]\n"
     ]
    },
    {
     "name": "stderr",
     "output_type": "stream",
     "text": [
      "0: 640x384 4 persons, 1 handbag, 1 refrigerator, 828.2ms\n",
      "Speed: 14.0ms preprocess, 828.2ms inference, 8.0ms postprocess per image at shape (1, 3, 640, 384)\n",
      "\n"
     ]
    },
    {
     "name": "stdout",
     "output_type": "stream",
     "text": [
      "[     313.61      196.19      479.08      846.71          20]\n",
      "[     313.06      194.63      479.16      846.89          20]\n",
      "[     312.75      193.78      479.29      847.29          20]\n",
      "[     312.55      193.29      479.42      847.67          20]\n",
      "[  -0.016109      234.98       105.8      464.53           8]\n",
      "[     312.43         193      479.52      847.99          20]\n",
      "[    0.21369      234.21      105.55      465.28           8]\n",
      "[     315.21      272.15      343.75      452.92           1]\n",
      "[     312.35      192.83      479.59      848.23          20]\n",
      "[     136.44      276.67      214.29      431.24          16]\n",
      "[    0.39013      233.65      105.37      465.81           8]\n",
      "[      315.2      272.76      343.77       451.8           1]\n"
     ]
    },
    {
     "name": "stderr",
     "output_type": "stream",
     "text": [
      "0: 640x384 4 persons, 1 refrigerator, 779.8ms\n",
      "Speed: 16.0ms preprocess, 779.8ms inference, 14.0ms postprocess per image at shape (1, 3, 640, 384)\n"
     ]
    },
    {
     "name": "stdout",
     "output_type": "stream",
     "text": [
      "[   -0.51083      233.17      103.68       466.9           8]\n",
      "[   -0.70636      232.69      102.91      467.59           8]\n",
      "[   -0.66923      232.29      102.52      468.04           8]\n",
      "[     314.71      185.07      480.27      847.22          20]\n",
      "[   -0.57088      231.98      102.31      468.36           8]\n",
      "[      314.9      184.63      480.15      847.53          20]\n",
      "[     133.08      279.52      213.68      447.22          16]\n",
      "[   -0.46979      231.74      102.18      468.58           8]\n"
     ]
    },
    {
     "name": "stderr",
     "output_type": "stream",
     "text": [
      "\n",
      "0: 640x384 4 persons, 1 refrigerator, 810.7ms\n",
      "Speed: 106.5ms preprocess, 810.7ms inference, 12.0ms postprocess per image at shape (1, 3, 640, 384)\n"
     ]
    },
    {
     "name": "stdout",
     "output_type": "stream",
     "text": [
      "[   -0.57359       231.1      101.64      468.54           8]\n",
      "[   -0.52789      230.74      101.37      468.62           8]\n",
      "[   -0.44616      230.52      101.22      468.72           8]\n",
      "[     312.78      182.37      480.26      848.96          20]\n",
      "[   -0.36638      230.38      101.13      468.81           8]\n",
      "[     312.63      182.24      480.37      849.13          20]\n",
      "[     132.89      274.86      214.91      447.88          16]\n",
      "[   -0.29899      230.28      101.07      468.89           8]\n"
     ]
    },
    {
     "name": "stderr",
     "output_type": "stream",
     "text": [
      "\n",
      "0: 640x384 5 persons, 1 refrigerator, 615.0ms\n",
      "Speed: 15.0ms preprocess, 615.0ms inference, 7.6ms postprocess per image at shape (1, 3, 640, 384)\n",
      "\n"
     ]
    },
    {
     "name": "stdout",
     "output_type": "stream",
     "text": [
      "[   -0.43461      230.21      100.57      468.93           8]\n",
      "[   -0.41582      230.16      100.32      468.97           8]\n",
      "[   -0.35557      230.12      100.19      468.99           8]\n",
      "[     313.04      190.91      479.94      845.69          20]\n",
      "[   -0.29251      230.09      100.11      469.01           8]\n",
      "[     313.13      191.95      479.85      844.81          20]\n",
      "[     131.73      274.93      214.13      449.48          16]\n",
      "[   -0.23806      230.07      100.06      469.02           8]\n",
      "[      313.2      192.66      479.79      844.16          20]\n",
      "[     131.71      274.86      214.13      449.54          16]\n",
      "[  -0.022238      443.93      221.01      846.09          15]\n",
      "[   -0.19408      230.05      100.03      469.03           8]\n"
     ]
    },
    {
     "name": "stderr",
     "output_type": "stream",
     "text": [
      "0: 640x384 4 persons, 1 refrigerator, 757.0ms\n",
      "Speed: 21.0ms preprocess, 757.0ms inference, 11.0ms postprocess per image at shape (1, 3, 640, 384)\n",
      "\n"
     ]
    },
    {
     "name": "stdout",
     "output_type": "stream",
     "text": [
      "[   -0.91786       228.1      98.155      467.06           8]\n",
      "[   -0.98529      227.36      97.248      466.31           8]\n",
      "[   -0.85576      227.09      96.765      466.03           8]\n",
      "[     312.28      192.45      478.69      840.42          20]\n",
      "[   -0.69089      226.99      96.483      465.92           8]\n",
      "[     312.29      192.76      478.64      840.04          20]\n",
      "[     132.69      268.45      215.23      447.68          16]\n",
      "[     -0.542      226.96      96.305      465.89           8]\n"
     ]
    },
    {
     "name": "stderr",
     "output_type": "stream",
     "text": [
      "0: 640x384 4 persons, 1 refrigerator, 644.4ms\n",
      "Speed: 16.0ms preprocess, 644.4ms inference, 11.9ms postprocess per image at shape (1, 3, 640, 384)\n"
     ]
    },
    {
     "name": "stdout",
     "output_type": "stream",
     "text": [
      "[    0.70717      227.58      98.978      468.52           8]\n",
      "[    0.93855      227.47      100.24      469.87           8]\n",
      "[    0.84606      227.19       100.9      470.62           8]\n",
      "[     310.65      195.25      478.27      845.63          20]\n",
      "[    0.67789       226.9      101.28      471.09           8]\n",
      "[     310.56      195.21      478.32      845.86          20]\n",
      "[      132.7      259.94      215.29      446.85          16]\n",
      "[    0.51613      226.65      101.52      471.39           8]\n"
     ]
    },
    {
     "name": "stderr",
     "output_type": "stream",
     "text": [
      "\n",
      "0: 640x384 3 persons, 1 refrigerator, 652.0ms\n",
      "Speed: 20.0ms preprocess, 652.0ms inference, 11.0ms postprocess per image at shape (1, 3, 640, 384)\n",
      "\n"
     ]
    },
    {
     "name": "stdout",
     "output_type": "stream",
     "text": [
      "[ -0.0031292      226.13      100.76      472.59           8]\n",
      "[   -0.15734      225.62      100.42      473.34           8]\n",
      "[   -0.18314       225.2      100.26      473.85           8]\n",
      "[     310.42      190.54      478.48      844.54          20]\n",
      "[   -0.16829      224.87      100.18      474.21           8]\n"
     ]
    },
    {
     "name": "stderr",
     "output_type": "stream",
     "text": [
      "0: 640x384 4 persons, 1 refrigerator, 942.2ms\n",
      "Speed: 13.0ms preprocess, 942.2ms inference, 13.0ms postprocess per image at shape (1, 3, 640, 384)\n"
     ]
    },
    {
     "name": "stdout",
     "output_type": "stream",
     "text": [
      "[   -0.15277      224.47      100.14      475.92           8]\n",
      "[   -0.13394      223.94      100.11      476.95           8]\n",
      "[   -0.11677      223.45      100.09      477.61           8]\n",
      "[     131.66      243.39      214.28      447.85          16]\n",
      "[   -0.10252      223.07      100.08      478.05           8]\n",
      "[     131.68      243.05      214.26      448.28          16]\n",
      "[   0.046992       444.9      221.97      846.12          15]\n",
      "[  -0.091163      222.77      100.07      478.37           8]\n"
     ]
    },
    {
     "name": "stderr",
     "output_type": "stream",
     "text": [
      "\n",
      "0: 640x384 5 persons, 1 refrigerator, 1040.4ms\n",
      "Speed: 15.0ms preprocess, 1040.4ms inference, 12.0ms postprocess per image at shape (1, 3, 640, 384)\n"
     ]
    },
    {
     "name": "stdout",
     "output_type": "stream",
     "text": [
      "[    -4.8335      232.14      88.491      483.35           8]\n",
      "[    -5.4155      236.64      82.899      484.28           8]\n",
      "[    -4.7255      239.06       79.92      483.86           8]\n",
      "[      131.7      241.81      214.25      449.75          16]\n",
      "[    -3.7861      240.52      78.174      483.11           8]\n",
      "[     131.71      241.65      214.25      449.95          16]\n",
      "[   0.025456         445      221.99      846.03          15]\n",
      "[    -2.9262      241.46      77.071      482.37           8]\n",
      "[     310.54      199.86      479.46      847.32          20]\n",
      "[     131.72      241.55      214.24      450.09          16]\n",
      "[   0.022171      445.01      221.99      846.02          15]\n",
      "[     -2.226      242.11      76.337      481.74           8]\n"
     ]
    },
    {
     "name": "stderr",
     "output_type": "stream",
     "text": [
      "\n",
      "0: 640x384 4 persons, 1 handbag, 1 refrigerator, 1361.2ms\n",
      "Speed: 21.0ms preprocess, 1361.2ms inference, 12.0ms postprocess per image at shape (1, 3, 640, 384)\n"
     ]
    },
    {
     "name": "stdout",
     "output_type": "stream",
     "text": [
      "[    -2.6433      246.52       73.53      488.39           8]\n",
      "[    -2.3551      247.71       72.07      491.34           8]\n",
      "[    -1.9112      247.79      71.237      492.75           8]\n",
      "[      130.9      241.86      214.07      448.89          16]\n",
      "[    -1.4926      247.52      70.723      493.51           8]\n",
      "[     311.23       202.6      478.76      846.71          20]\n",
      "[     130.85      241.99       214.1      448.76          16]\n",
      "[    -1.1461      247.19      70.388      493.94           8]\n",
      "[     311.33      202.89      478.66      846.43          20]\n",
      "[     130.82      242.09      214.13      448.68          16]\n",
      "[  0.0099858      444.29         222      846.73          15]\n",
      "[   -0.87337      246.89      70.165      494.21           8]\n"
     ]
    },
    {
     "name": "stderr",
     "output_type": "stream",
     "text": [
      "\n",
      "0: 640x384 3 persons, 1 refrigerator, 1044.9ms\n",
      "Speed: 19.0ms preprocess, 1044.9ms inference, 13.0ms postprocess per image at shape (1, 3, 640, 384)\n",
      "\n"
     ]
    },
    {
     "name": "stdout",
     "output_type": "stream",
     "text": [
      "[    -1.4207      243.22      68.159      490.62           8]\n",
      "[    -1.3537      241.79      67.162      489.25           8]\n",
      "[    -1.1216      241.22      66.619      488.73           8]\n",
      "[     129.93      243.09      214.02      448.76          16]\n",
      "[   -0.87834      240.98      66.297      488.54           8]\n"
     ]
    },
    {
     "name": "stderr",
     "output_type": "stream",
     "text": [
      "0: 640x384 3 persons, 1 refrigerator, 856.8ms\n",
      "Speed: 16.0ms preprocess, 856.8ms inference, 11.0ms postprocess per image at shape (1, 3, 640, 384)\n",
      "\n"
     ]
    },
    {
     "name": "stdout",
     "output_type": "stream",
     "text": [
      "[     129.22      242.54      213.41      448.04          16]\n",
      "[     128.94      242.37      213.19      447.74          16]\n",
      "[     128.83      242.32      213.13      447.61          16]\n",
      "[     128.78      242.33      213.12      447.55          16]\n",
      "[    -1.1669      235.42      61.678      484.69           8]\n"
     ]
    },
    {
     "name": "stderr",
     "output_type": "stream",
     "text": [
      "0: 640x384 3 persons, 1 refrigerator, 694.1ms\n",
      "Speed: 13.0ms preprocess, 694.1ms inference, 18.0ms postprocess per image at shape (1, 3, 640, 384)\n",
      "\n"
     ]
    },
    {
     "name": "stdout",
     "output_type": "stream",
     "text": [
      "[     309.61      211.03      477.67      845.14          20]\n",
      "[     309.54      211.96       477.5      845.66          20]\n",
      "[     309.53      212.35      477.43      845.79          20]\n",
      "[     309.54      212.53      477.39      845.79          20]\n",
      "[     127.07      244.04      212.81      447.86          16]\n"
     ]
    },
    {
     "name": "stderr",
     "output_type": "stream",
     "text": [
      "0: 640x384 3 persons, 1 refrigerator, 640.8ms\n",
      "Speed: 16.0ms preprocess, 640.8ms inference, 9.0ms postprocess per image at shape (1, 3, 640, 384)\n",
      "\n"
     ]
    },
    {
     "name": "stdout",
     "output_type": "stream",
     "text": [
      "[     309.74      212.23      477.84      844.82          20]\n",
      "[     309.78      212.23      478.05      844.32          20]\n",
      "[     309.76      212.31      478.16      844.03          20]\n",
      "[     309.74       212.4      478.22      843.85          20]\n",
      "[     124.97      242.98      211.87      449.01          16]\n"
     ]
    },
    {
     "name": "stderr",
     "output_type": "stream",
     "text": [
      "0: 640x384 3 persons, 1 refrigerator, 955.6ms\n",
      "Speed: 16.0ms preprocess, 955.6ms inference, 13.0ms postprocess per image at shape (1, 3, 640, 384)\n"
     ]
    },
    {
     "name": "stdout",
     "output_type": "stream",
     "text": [
      "[     310.37      215.08      478.91      844.39          20]\n",
      "[      310.6      216.46      479.19      844.22          20]\n",
      "[     310.68      217.25      479.29      843.86          20]\n",
      "[      310.7      217.75      479.33      843.52          20]\n",
      "[   -0.64367      257.37      52.186       490.3           8]\n"
     ]
    },
    {
     "name": "stderr",
     "output_type": "stream",
     "text": [
      "\n",
      "0: 640x384 4 persons, 1 refrigerator, 892.5ms\n",
      "Speed: 15.0ms preprocess, 892.5ms inference, 17.0ms postprocess per image at shape (1, 3, 640, 384)\n",
      "\n"
     ]
    },
    {
     "name": "stdout",
     "output_type": "stream",
     "text": [
      "[     310.52      220.04      478.89      845.18          20]\n",
      "[     310.49      221.01      478.67      845.68          20]\n",
      "[     310.52      221.45      478.55      845.77          20]\n",
      "[     310.55      221.66      478.48      845.73          20]\n",
      "[     123.24      243.44      212.67      450.59          16]\n",
      "[     310.59      221.78      478.43      845.65          20]\n",
      "[     123.08      243.48      212.78      450.58          16]\n",
      "[     2.3833      264.14      65.548      491.64           8]\n"
     ]
    },
    {
     "name": "stderr",
     "output_type": "stream",
     "text": [
      "0: 640x384 4 persons, 1 handbag, 823.5ms\n",
      "Speed: 15.0ms preprocess, 823.5ms inference, 17.0ms postprocess per image at shape (1, 3, 640, 384)\n"
     ]
    },
    {
     "name": "stdout",
     "output_type": "stream",
     "text": [
      "[      310.8      221.11      478.86      845.66          20]\n",
      "[     310.85      220.72      479.06      845.76          20]\n",
      "[     310.83      220.49      479.16      845.88          20]\n",
      "[     310.81      220.33      479.22      845.97          20]\n",
      "[     119.98      243.82      210.86      452.25          16]\n",
      "[   -0.18504      265.43      43.908      487.48          27]\n",
      "[     310.79      220.22      479.25      846.04          20]\n",
      "[     119.86      243.76      210.89      452.34          16]\n"
     ]
    },
    {
     "name": "stderr",
     "output_type": "stream",
     "text": [
      "\n",
      "0: 640x384 4 persons, 1 handbag, 852.6ms\n",
      "Speed: 19.0ms preprocess, 852.6ms inference, 22.0ms postprocess per image at shape (1, 3, 640, 384)\n"
     ]
    },
    {
     "name": "stdout",
     "output_type": "stream",
     "text": [
      "[     310.77      222.38      479.27      847.77          20]\n",
      "[     310.75      223.27      479.28      848.34          20]\n",
      "[     310.74      223.65      479.29      848.48          20]\n",
      "[     310.74      223.83      479.29      848.48          20]\n",
      "[     117.72       251.5      209.03      455.68          16]\n",
      "[   -0.67907      269.26      37.239      487.86          27]\n",
      "[     310.73      223.92      479.29      848.43          20]\n",
      "[     117.68      251.94      209.01      455.46          16]\n"
     ]
    },
    {
     "name": "stderr",
     "output_type": "stream",
     "text": [
      "\n",
      "0: 640x384 3 persons, 748.8ms\n",
      "Speed: 15.0ms preprocess, 748.8ms inference, 10.0ms postprocess per image at shape (1, 3, 640, 384)\n",
      "\n"
     ]
    },
    {
     "name": "stdout",
     "output_type": "stream",
     "text": [
      "[     115.09      262.51      207.67      458.65          16]\n",
      "[     113.94      267.62      207.36      458.72          16]\n",
      "[      113.4      270.33      207.37      457.91          16]\n"
     ]
    },
    {
     "name": "stderr",
     "output_type": "stream",
     "text": [
      "0: 640x384 4 persons, 1 refrigerator, 981.7ms\n",
      "Speed: 16.0ms preprocess, 981.7ms inference, 12.0ms postprocess per image at shape (1, 3, 640, 384)\n",
      "\n"
     ]
    },
    {
     "name": "stdout",
     "output_type": "stream",
     "text": [
      "[     112.18      274.64      207.11      458.81          16]\n",
      "[     111.58      276.79      207.18      458.56          16]\n",
      "[     111.26      277.97      207.34      458.03          16]\n",
      "[     309.14      225.66      470.77      845.53          20]\n",
      "[     111.07      278.66      207.49      457.49          16]\n",
      "[     353.58      407.36      490.23      817.85          28]\n",
      "[      309.5      225.84      470.22      845.31          20]\n",
      "[     110.95       279.1      207.62      457.04          16]\n"
     ]
    },
    {
     "name": "stderr",
     "output_type": "stream",
     "text": [
      "0: 640x384 5 persons, 1 refrigerator, 749.2ms\n",
      "Speed: 14.0ms preprocess, 749.2ms inference, 12.0ms postprocess per image at shape (1, 3, 640, 384)\n"
     ]
    },
    {
     "name": "stdout",
     "output_type": "stream",
     "text": [
      "[     109.48      282.39      207.16      458.25          16]\n",
      "[     108.77      283.95      207.17      458.34          16]\n",
      "[     108.38      284.76      207.31      458.08          16]\n",
      "[     311.62      229.87      476.16      848.27          20]\n",
      "[     108.16      285.21      207.47      457.77          16]\n",
      "[     311.45      230.05      476.52      848.24          20]\n",
      "[     108.02      285.48      207.61      457.49          16]\n",
      "[  -0.016584      452.98      218.04      845.13          15]\n",
      "[      311.3      230.13      476.75      848.18          20]\n",
      "[     107.93      285.65      207.72      457.26          16]\n",
      "[ -0.0028847      453.02      218.01      845.08          15]\n",
      "[   -0.99434      271.05      46.627      485.07           8]\n"
     ]
    },
    {
     "name": "stderr",
     "output_type": "stream",
     "text": [
      "\n",
      "0: 640x384 4 persons, 1 refrigerator, 779.9ms\n",
      "Speed: 14.0ms preprocess, 779.9ms inference, 19.0ms postprocess per image at shape (1, 3, 640, 384)\n"
     ]
    },
    {
     "name": "stdout",
     "output_type": "stream",
     "text": [
      "[      104.8      286.41         205      457.73          16]\n",
      "[     103.55      286.73      204.06      457.84          16]\n",
      "[     103.04      286.86      203.77      457.81          16]\n",
      "[      310.8      230.19      476.25      844.01          20]\n",
      "[     102.83      286.92      203.71      457.76          16]\n",
      "[      310.8      230.47      476.23      843.63          20]\n",
      "[     102.74      286.94      203.74      457.69          16]\n",
      "[    0.36805      273.24      44.307      493.93           8]\n"
     ]
    },
    {
     "name": "stderr",
     "output_type": "stream",
     "text": [
      "\n",
      "0: 640x384 3 persons, 1 refrigerator, 789.7ms\n",
      "Speed: 14.0ms preprocess, 789.7ms inference, 12.0ms postprocess per image at shape (1, 3, 640, 384)\n"
     ]
    },
    {
     "name": "stdout",
     "output_type": "stream",
     "text": [
      "[     95.121      270.56      198.31      451.17          16]\n",
      "[     91.969      262.57      196.55      450.46          16]\n",
      "[     90.614      258.26      196.11      451.51          16]\n",
      "[     90.003      255.69      196.12      452.91          16]\n",
      "[    0.41088      272.57      41.327      495.78           8]\n"
     ]
    },
    {
     "name": "stderr",
     "output_type": "stream",
     "text": [
      "\n",
      "0: 640x384 4 persons, 1 refrigerator, 919.3ms\n",
      "Speed: 28.0ms preprocess, 919.3ms inference, 15.0ms postprocess per image at shape (1, 3, 640, 384)\n"
     ]
    },
    {
     "name": "stdout",
     "output_type": "stream",
     "text": [
      "[     89.146      272.87       194.2      462.12          16]\n",
      "[     89.098      280.74      193.27      464.28          16]\n",
      "[     89.302      284.69      192.76      464.11          16]\n",
      "[     312.74      177.59      478.39      824.76          20]\n",
      "[     89.554      286.88      192.46      463.31          16]\n",
      "[     312.76      174.69      478.37       826.3          20]\n",
      "[     89.786       288.2      192.27      462.46          16]\n",
      "[   -0.82374      277.96      35.483      499.43           8]\n"
     ]
    },
    {
     "name": "stderr",
     "output_type": "stream",
     "text": [
      "\n",
      "0: 640x384 5 persons, 1 refrigerator, 976.2ms\n",
      "Speed: 25.0ms preprocess, 976.2ms inference, 11.0ms postprocess per image at shape (1, 3, 640, 384)\n"
     ]
    },
    {
     "name": "stdout",
     "output_type": "stream",
     "text": [
      "[     315.48      176.64      480.22      831.84          20]\n",
      "[     316.65      176.83      480.77      834.64          20]\n",
      "[     317.19       176.5      480.86      836.21          20]\n",
      "[     317.46      176.09       480.8      837.18          20]\n",
      "[     83.948      291.45      188.31      463.25          16]\n",
      "[     317.61      175.74      480.71      837.84          20]\n",
      "[     83.745      291.65      188.37      463.08          16]\n",
      "[    -0.4252      311.63      33.055      508.42           8]\n",
      "[     129.87         252      172.19      311.18          31]\n",
      "[      317.7      175.46      480.62       838.3          20]\n",
      "[     83.653      291.76      188.46      462.93          16]\n",
      "[   -0.25589      313.35      32.886       507.3           8]\n"
     ]
    },
    {
     "name": "stderr",
     "output_type": "stream",
     "text": [
      "\n",
      "0: 640x384 4 persons, 916.1ms\n",
      "Speed: 15.0ms preprocess, 916.1ms inference, 13.0ms postprocess per image at shape (1, 3, 640, 384)\n"
     ]
    },
    {
     "name": "stdout",
     "output_type": "stream",
     "text": [
      "[     316.17      176.01      479.52       840.5          20]\n",
      "[     315.51      175.96      479.17      841.65          20]\n",
      "[     315.21      175.76      479.08      842.32          20]\n",
      "[     315.05      175.55      479.08      842.74          20]\n",
      "[     82.258      292.23      186.08      464.27          16]\n"
     ]
    },
    {
     "name": "stderr",
     "output_type": "stream",
     "text": [
      "\n",
      "0: 640x384 5 persons, 820.3ms\n",
      "Speed: 18.0ms preprocess, 820.3ms inference, 13.0ms postprocess per image at shape (1, 3, 640, 384)\n"
     ]
    },
    {
     "name": "stdout",
     "output_type": "stream",
     "text": [
      "[     316.08      179.94      479.95      845.65          20]\n",
      "[      316.5      181.87      480.25      846.51          20]\n",
      "[     316.68       182.8      480.34      846.64          20]\n",
      "[     316.75       183.3      480.35      846.55          20]\n",
      "[     82.663      292.37      182.76         462          16]\n",
      "[     316.79      183.59      480.34      846.41          20]\n",
      "[     82.925      292.52      182.49      461.77          16]\n",
      "[    -0.4848      327.21       26.16      507.01           8]\n"
     ]
    },
    {
     "name": "stderr",
     "output_type": "stream",
     "text": [
      "\n",
      "0: 640x384 5 persons, 1 chair, 1 refrigerator, 599.5ms\n",
      "Speed: 13.0ms preprocess, 599.5ms inference, 12.0ms postprocess per image at shape (1, 3, 640, 384)\n"
     ]
    },
    {
     "name": "stdout",
     "output_type": "stream",
     "text": [
      "[     316.62      184.24      479.85      846.46          20]\n",
      "[     316.61      184.59      479.61      846.37          20]\n",
      "[     316.64      184.81      479.48      846.25          20]\n",
      "[     316.68      184.94       479.4      846.14          20]\n",
      "[     76.234      294.41      178.25      465.81          16]\n",
      "[     123.07      255.91      170.67      314.32          31]\n",
      "[     316.72      185.04      479.34      846.05          20]\n",
      "[     75.968      294.32      178.33      466.01          16]\n",
      "[     311.94      250.56      431.23      495.61          32]\n",
      "[     122.96       255.9      170.81      314.36          31]\n",
      "[     316.75      185.11       479.3      845.98          20]\n",
      "[     75.833      294.23      178.44      466.12          16]\n",
      "[     312.23      250.81      430.97      495.19          32]\n",
      "[     122.88      255.88       170.9      314.37          31]\n",
      "[     316.77      185.15      479.27      845.93          20]\n",
      "[     75.763      294.15      178.54      466.18          16]\n"
     ]
    },
    {
     "name": "stderr",
     "output_type": "stream",
     "text": [
      "\n",
      "0: 640x384 4 persons, 1 chair, 1 refrigerator, 663.4ms\n",
      "Speed: 20.0ms preprocess, 663.4ms inference, 9.0ms postprocess per image at shape (1, 3, 640, 384)\n"
     ]
    },
    {
     "name": "stdout",
     "output_type": "stream",
     "text": [
      "[     316.98      187.51      479.71      846.83          20]\n",
      "[     317.02      188.65      479.92      846.92          20]\n",
      "[        317      189.26      480.02      846.76          20]\n",
      "[     316.97      189.62      480.08      846.55          20]\n",
      "[     72.016      294.12      176.45      467.12          16]\n",
      "[     121.86      256.06      170.99      316.13          31]\n",
      "[     316.94      189.85      480.12      846.37          20]\n",
      "[     71.862      294.06      176.53      467.18          16]\n",
      "[     313.07      257.73      425.38      498.46          32]\n",
      "[     121.81         256      171.04      316.21          31]\n",
      "[     316.92      190.01      480.14      846.21          20]\n",
      "[     71.784      294.01      176.62      467.22          16]\n"
     ]
    },
    {
     "name": "stderr",
     "output_type": "stream",
     "text": [
      "\n",
      "0: 640x384 6 persons, 1000.5ms\n",
      "Speed: 14.0ms preprocess, 1000.5ms inference, 11.0ms postprocess per image at shape (1, 3, 640, 384)\n"
     ]
    },
    {
     "name": "stdout",
     "output_type": "stream",
     "text": [
      "[     69.408      294.63      173.81      467.89          16]\n",
      "[       68.6      294.85      172.68      468.14          16]\n",
      "[     68.372      294.91      172.23      468.24          16]\n",
      "[     314.36      192.54      479.66      845.64          20]\n",
      "[     68.348      294.93      172.04      468.27          16]\n",
      "[     313.57      254.35      421.98      480.55          32]\n",
      "[     314.18      192.79      479.77      845.41          20]\n",
      "[     68.391      294.93      171.95      468.28          16]\n",
      "[     313.71      254.82      421.84      479.74          32]\n",
      "[     122.79      257.74      172.16      317.45          31]\n",
      "[     314.07      192.97      479.86      845.23          20]\n",
      "[     68.448      294.92      171.92      468.28          16]\n"
     ]
    },
    {
     "name": "stderr",
     "output_type": "stream",
     "text": [
      "\n",
      "0: 640x384 6 persons, 1 chair, 1 refrigerator, 676.6ms\n",
      "Speed: 15.5ms preprocess, 676.6ms inference, 12.0ms postprocess per image at shape (1, 3, 640, 384)\n"
     ]
    },
    {
     "name": "stdout",
     "output_type": "stream",
     "text": [
      "[     313.99      194.95      479.94      845.85          20]\n",
      "[     313.94      195.93      479.99      845.84          20]\n",
      "[     313.91      196.46      480.03      845.66          20]\n",
      "[     313.88      196.78      480.06      845.46          20]\n",
      "[     64.757      295.04      168.75      469.11          16]\n",
      "[     314.01         258      420.68      474.55          32]\n",
      "[     313.86      196.99      480.08      845.28          20]\n",
      "[     64.672         295      168.73      469.15          16]\n",
      "[     314.02      258.32      420.69      474.24          32]\n",
      "[     120.13      258.91      171.81      319.29          31]\n",
      "[     313.85      197.12       480.1      845.13          20]\n",
      "[     64.647      294.96      168.75      469.18          16]\n",
      "[     314.03      258.56       420.7      474.03          32]\n",
      "[     120.01      258.91       171.9      319.31          31]\n",
      "[     313.85      197.22      480.11      845.02          20]\n",
      "[     64.648      294.93      168.79       469.2          16]\n",
      "[    0.18882      463.01      217.84      845.06          15]\n",
      "[     76.751      430.11       164.1      470.08          33]\n",
      "[     314.03      258.73      420.71       473.9          32]\n",
      "[     119.94       258.9      171.97      319.32          31]\n",
      "[     313.84      197.29      480.12      844.93          20]\n",
      "[     64.658      294.91      168.82      469.21          16]\n",
      "[    0.15232      463.05      217.88      845.03          15]\n"
     ]
    },
    {
     "name": "stderr",
     "output_type": "stream",
     "text": [
      "\n",
      "0: 640x384 4 persons, 1 refrigerator, 564.6ms\n",
      "Speed: 13.0ms preprocess, 564.6ms inference, 9.0ms postprocess per image at shape (1, 3, 640, 384)\n"
     ]
    },
    {
     "name": "stdout",
     "output_type": "stream",
     "text": [
      "[     63.178      295.82      167.08      469.59          16]\n",
      "[     62.678      296.26      166.39      469.64          16]\n",
      "[     62.539      296.49      166.11      469.59          16]\n",
      "[     314.33      199.61      478.64      847.58          20]\n",
      "[     62.528      296.62         166      469.51          16]\n",
      "[     119.39      261.09      208.53      464.98          34]\n",
      "[     314.46      199.65      478.48      847.62          20]\n",
      "[     62.558       296.7      165.96      469.44          16]\n"
     ]
    },
    {
     "name": "stderr",
     "output_type": "stream",
     "text": [
      "\n",
      "0: 640x384 5 persons, 709.6ms\n",
      "Speed: 16.0ms preprocess, 709.6ms inference, 10.0ms postprocess per image at shape (1, 3, 640, 384)\n"
     ]
    },
    {
     "name": "stdout",
     "output_type": "stream",
     "text": [
      "[      61.29       297.6      164.63       470.5          16]\n",
      "[     60.834      297.91      164.14      470.92          16]\n",
      "[     60.684         298      163.96       471.1          16]\n",
      "[     120.68      261.12      210.31      467.79          34]\n",
      "[     60.648      298.01       163.9      471.17          16]\n",
      "[      120.7      260.97      210.35      467.91          34]\n",
      "[     314.03      206.99      478.93      847.33          20]\n",
      "[     60.654         298      163.89       471.2          16]\n"
     ]
    },
    {
     "name": "stderr",
     "output_type": "stream",
     "text": [
      "\n",
      "0: 640x384 5 persons, 697.4ms\n",
      "Speed: 14.0ms preprocess, 697.4ms inference, 15.0ms postprocess per image at shape (1, 3, 640, 384)\n"
     ]
    },
    {
     "name": "stdout",
     "output_type": "stream",
     "text": [
      "[     313.32      201.97      478.33       845.9          20]\n",
      "[     313.04      199.48      478.13      845.94          20]\n",
      "[     312.92       198.1      478.06      846.37          20]\n",
      "[     312.87      197.27      478.05      846.85          20]\n",
      "[      58.05      299.76      162.59      472.41          16]\n",
      "[     311.73      261.18      410.03      444.11          32]\n",
      "[     312.85      196.73      478.06      847.26          20]\n",
      "[     57.933      299.83      162.65      472.39          16]\n"
     ]
    },
    {
     "name": "stderr",
     "output_type": "stream",
     "text": [
      "\n",
      "0: 640x384 4 persons, 581.6ms\n",
      "Speed: 13.0ms preprocess, 581.6ms inference, 8.0ms postprocess per image at shape (1, 3, 640, 384)\n",
      "\n"
     ]
    },
    {
     "name": "stdout",
     "output_type": "stream",
     "text": [
      "[     313.22      196.25      478.99      846.39          20]\n",
      "[     313.27      196.14      479.45         846          20]\n",
      "[     313.21      196.15      479.69       845.8          20]\n",
      "[     313.14       196.2      479.83      845.69          20]\n",
      "[     57.478      300.07      161.19      473.12          16]\n"
     ]
    },
    {
     "name": "stderr",
     "output_type": "stream",
     "text": [
      "0: 640x384 4 persons, 718.9ms\n",
      "Speed: 28.0ms preprocess, 718.9ms inference, 8.0ms postprocess per image at shape (1, 3, 640, 384)\n",
      "\n"
     ]
    },
    {
     "name": "stdout",
     "output_type": "stream",
     "text": [
      "[     312.42      195.87      479.27       844.7          20]\n",
      "[     312.12      195.87      479.09      844.21          20]\n",
      "[     311.99      195.96      479.04      843.95          20]\n",
      "[     311.93      196.06      479.03      843.79          20]\n",
      "[      53.99       300.8      158.69      473.36          16]\n"
     ]
    },
    {
     "name": "stderr",
     "output_type": "stream",
     "text": [
      "0: 640x384 4 persons, 1 chair, 752.0ms\n",
      "Speed: 13.0ms preprocess, 752.0ms inference, 12.8ms postprocess per image at shape (1, 3, 640, 384)\n",
      "\n"
     ]
    },
    {
     "name": "stdout",
     "output_type": "stream",
     "text": [
      "[     52.282      301.85      157.68      474.93          16]\n",
      "[     51.533      302.17      157.43      475.59          16]\n",
      "[     51.181      302.22      157.44       475.9          16]\n",
      "[     117.76      262.21      211.19      425.31          34]\n",
      "[     51.002      302.18      157.52      476.05          16]\n",
      "[     117.59      262.43      211.39      425.09          34]\n",
      "[     311.86      195.83      479.09      841.01          20]\n",
      "[     50.905      302.13      157.61      476.13          16]\n"
     ]
    },
    {
     "name": "stderr",
     "output_type": "stream",
     "text": [
      "0: 640x384 4 persons, 1 chair, 795.0ms\n",
      "Speed: 15.0ms preprocess, 795.0ms inference, 17.0ms postprocess per image at shape (1, 3, 640, 384)\n"
     ]
    },
    {
     "name": "stdout",
     "output_type": "stream",
     "text": [
      "[     49.818      302.74      156.11      476.82          16]\n",
      "[     49.492      302.95      155.49      477.09          16]\n",
      "[     49.437      303.01      155.21      477.19          16]\n",
      "[     120.02      266.02      214.02      436.75          34]\n",
      "[     49.471      303.01      155.09      477.23          16]\n",
      "[     120.07      265.61      214.07      437.51          34]\n",
      "[        311       196.8      478.95      839.03          20]\n",
      "[     49.526         303      155.02      477.24          16]\n"
     ]
    },
    {
     "name": "stderr",
     "output_type": "stream",
     "text": [
      "\n",
      "0: 640x384 5 persons, 1 chair, 842.6ms\n",
      "Speed: 15.0ms preprocess, 842.6ms inference, 11.0ms postprocess per image at shape (1, 3, 640, 384)\n"
     ]
    },
    {
     "name": "stdout",
     "output_type": "stream",
     "text": [
      "[     49.014      303.92       153.6      477.62          16]\n",
      "[     48.993      304.35      152.92      477.66          16]\n",
      "[     49.116      304.58      152.55      477.59          16]\n",
      "[      119.7      270.19      214.45      465.29          34]\n",
      "[     49.262      304.72      152.34      477.51          16]\n",
      "[     119.71      268.77      214.42      467.37          34]\n",
      "[     311.91      200.32      480.07      841.64          20]\n",
      "[     49.392       304.8      152.21      477.43          16]\n",
      "[     119.73      267.58      214.39      468.72          34]\n",
      "[     311.92      200.45      480.09      841.62          20]\n",
      "[     49.499      304.85      152.13      477.37          16]\n"
     ]
    },
    {
     "name": "stderr",
     "output_type": "stream",
     "text": [
      "\n",
      "0: 640x384 4 persons, 898.5ms\n",
      "Speed: 24.0ms preprocess, 898.5ms inference, 13.0ms postprocess per image at shape (1, 3, 640, 384)\n"
     ]
    },
    {
     "name": "stdout",
     "output_type": "stream",
     "text": [
      "[      49.12      305.53      151.89      477.97          16]\n",
      "[     48.963       305.8      151.83      478.18          16]\n",
      "[     48.896      305.91      151.83      478.24          16]\n",
      "[     312.41      202.13      478.61         845          20]\n",
      "[     48.867      305.95      151.85      478.25          16]\n"
     ]
    },
    {
     "name": "stderr",
     "output_type": "stream",
     "text": [
      "\n",
      "0: 640x384 4 persons, 1 chair, 1 refrigerator, 1317.2ms\n",
      "Speed: 16.0ms preprocess, 1317.2ms inference, 12.0ms postprocess per image at shape (1, 3, 640, 384)\n"
     ]
    },
    {
     "name": "stdout",
     "output_type": "stream",
     "text": [
      "[     48.287      306.62      150.49      478.88          16]\n",
      "[     48.213      306.88      149.84      479.11          16]\n",
      "[     48.295      306.98      149.51      479.18          16]\n",
      "[     314.42      207.46      478.58       844.8          20]\n",
      "[      48.41      307.01      149.32       479.2          16]\n",
      "[     117.78      261.61      212.18      451.74          34]\n",
      "[     314.59      207.91      478.46      844.44          20]\n",
      "[     48.516      307.02       149.2      479.19          16]\n",
      "[      117.8      262.38      212.13      450.49          34]\n",
      "[     312.89      266.95      389.96      437.15          32]\n",
      "[      314.7       208.2      478.36      844.16          20]\n",
      "[     48.604      307.02      149.13      479.18          16]\n"
     ]
    },
    {
     "name": "stderr",
     "output_type": "stream",
     "text": [
      "\n",
      "0: 640x384 5 persons, 1 chair, 1 refrigerator, 870.4ms\n",
      "Speed: 20.0ms preprocess, 870.4ms inference, 8.0ms postprocess per image at shape (1, 3, 640, 384)\n"
     ]
    },
    {
     "name": "stdout",
     "output_type": "stream",
     "text": [
      "[     46.337      307.48      146.19      479.36          16]\n",
      "[     45.604       307.7      144.97      479.37          16]\n",
      "[     45.426      307.82      144.43      479.33          16]\n",
      "[     118.24      263.82      209.68      447.87          34]\n",
      "[     45.437      307.89      144.18      479.28          16]\n",
      "[     118.43      264.12      209.46      447.58          34]\n",
      "[     312.46      213.15      478.55      841.12          20]\n",
      "[     45.502      307.93      144.06      479.23          16]\n",
      "[-1.4211e-14         472         223         846          41]\n",
      "[     118.57      264.33      209.31      447.38          34]\n",
      "[      312.3      213.65      478.68      840.62          20]\n",
      "[     45.573      307.95      143.99       479.2          16]\n",
      "[-1.4211e-14         472         223         846          41]\n",
      "[     312.94      301.04      414.47      827.24          39]\n",
      "[     118.68       264.5      209.21      447.24          34]\n",
      "[     312.19         214      478.78      840.27          20]\n",
      "[     45.638      307.97      143.95      479.17          16]\n"
     ]
    },
    {
     "name": "stderr",
     "output_type": "stream",
     "text": [
      "\n",
      "0: 640x384 4 persons, 1 backpack, 739.3ms\n",
      "Speed: 13.6ms preprocess, 739.3ms inference, 17.0ms postprocess per image at shape (1, 3, 640, 384)\n"
     ]
    },
    {
     "name": "stdout",
     "output_type": "stream",
     "text": [
      "[     44.111      308.16       142.9      479.62          16]\n",
      "[      43.46      308.19       142.6      479.83          16]\n",
      "[     43.167      308.16      142.56      479.93          16]\n",
      "[     313.69      216.76       479.3      842.46          20]\n",
      "[     43.024      308.12       142.6      479.99          16]\n",
      "[     117.79      269.76      209.12      473.55          34]\n",
      "[     313.78      216.85      479.25      842.46          20]\n",
      "[     42.951      308.09      142.66      480.03          16]\n"
     ]
    },
    {
     "name": "stderr",
     "output_type": "stream",
     "text": [
      "\n",
      "0: 640x384 4 persons, 1 backpack, 1 refrigerator, 649.9ms\n",
      "Speed: 14.0ms preprocess, 649.9ms inference, 16.0ms postprocess per image at shape (1, 3, 640, 384)\n"
     ]
    },
    {
     "name": "stdout",
     "output_type": "stream",
     "text": [
      "[     40.954      308.34      140.76      479.77          16]\n",
      "[     40.192      308.51      140.07      479.59          16]\n",
      "[     39.908      308.64      139.83      479.45          16]\n",
      "[     314.75      223.12       479.3      845.21          20]\n",
      "[     39.807      308.73      139.77      479.35          16]\n",
      "[     117.06      266.37      204.79      475.37          34]\n",
      "[     314.83      223.46      479.24      845.03          20]\n",
      "[     39.778       308.8      139.76      479.28          16]\n",
      "[     170.97      278.78      215.03      437.61          42]\n",
      "[     117.25         266      204.53      475.65          34]\n",
      "[     314.88      223.66      479.19      844.86          20]\n",
      "[     39.777      308.85      139.78      479.22          16]\n"
     ]
    },
    {
     "name": "stderr",
     "output_type": "stream",
     "text": [
      "\n",
      "0: 640x384 4 persons, 1 backpack, 1 refrigerator, 819.9ms\n",
      "Speed: 24.0ms preprocess, 819.9ms inference, 14.0ms postprocess per image at shape (1, 3, 640, 384)\n"
     ]
    },
    {
     "name": "stdout",
     "output_type": "stream",
     "text": [
      "[     37.552      309.07      138.12      479.65          16]\n",
      "[     36.623      309.11       137.6      479.85          16]\n",
      "[     36.216       309.1      137.49      479.95          16]\n",
      "[     316.64      226.59      479.43      837.76          20]\n",
      "[     36.026      309.07      137.52         480          16]\n",
      "[      116.5      265.44      202.29      476.96          34]\n",
      "[     316.77      227.26      479.34      836.98          20]\n",
      "[     35.931      309.04      137.59      480.03          16]\n",
      "[     346.05      363.57      479.86      652.89          43]\n",
      "[     116.58      265.32      202.18      477.05          34]\n",
      "[     316.85      227.75      479.26      836.43          20]\n",
      "[     35.882      309.02      137.65      480.05          16]\n"
     ]
    },
    {
     "name": "stderr",
     "output_type": "stream",
     "text": [
      "\n",
      "0: 640x384 4 persons, 1 backpack, 1 refrigerator, 702.8ms\n",
      "Speed: 14.0ms preprocess, 702.8ms inference, 8.1ms postprocess per image at shape (1, 3, 640, 384)\n"
     ]
    },
    {
     "name": "stdout",
     "output_type": "stream",
     "text": [
      "[      33.16      309.18      135.84      480.54          16]\n",
      "[     31.983      309.19      135.32      480.78          16]\n",
      "[     31.438      309.14      135.26       480.9          16]\n",
      "[     314.47      230.92      478.59       835.2          20]\n",
      "[     31.166       309.1      135.34      480.98          16]\n",
      "[     117.65       261.1       202.2      453.72          34]\n",
      "[     314.31      231.25      478.68       834.9          20]\n",
      "[     31.019      309.05      135.45      481.03          16]\n",
      "[     344.92      351.37      480.02      647.92          43]\n",
      "[     117.75      262.02      202.12      452.37          34]\n",
      "[     314.21      231.47      478.76      834.68          20]\n",
      "[     30.935      309.02      135.55      481.06          16]\n"
     ]
    },
    {
     "name": "stderr",
     "output_type": "stream",
     "text": [
      "\n",
      "0: 640x384 3 persons, 1 backpack, 1 refrigerator, 712.6ms\n",
      "Speed: 13.0ms preprocess, 712.6ms inference, 13.0ms postprocess per image at shape (1, 3, 640, 384)\n",
      "\n"
     ]
    },
    {
     "name": "stdout",
     "output_type": "stream",
     "text": [
      "[     313.49       234.7      478.16      837.32          20]\n",
      "[      313.2      236.02      477.96      838.21          20]\n",
      "[     313.07      236.59       477.9      838.46          20]\n",
      "[     313.02      236.84       477.9      838.48          20]\n",
      "[     27.822      309.79      132.77      481.27          16]\n",
      "[     116.13      268.37      201.77      470.43          34]\n",
      "[     312.99      236.96      477.91      838.44          20]\n",
      "[     27.755      309.84      132.75      481.24          16]\n"
     ]
    },
    {
     "name": "stderr",
     "output_type": "stream",
     "text": [
      "0: 640x384 3 persons, 1 backpack, 668.4ms\n",
      "Speed: 12.5ms preprocess, 668.4ms inference, 12.0ms postprocess per image at shape (1, 3, 640, 384)\n",
      "\n"
     ]
    },
    {
     "name": "stdout",
     "output_type": "stream",
     "text": [
      "[     312.71      236.35      478.19      835.79          20]\n",
      "[     312.51      236.46       478.4      834.42          20]\n",
      "[     312.36      236.75      478.56      833.64          20]\n",
      "[     312.25      237.04      478.67      833.16          20]\n",
      "[     25.224      310.79      128.33      485.31          16]\n"
     ]
    },
    {
     "name": "stderr",
     "output_type": "stream",
     "text": [
      "0: 640x384 4 persons, 1 backpack, 1 refrigerator, 670.1ms\n",
      "Speed: 17.0ms preprocess, 670.1ms inference, 13.0ms postprocess per image at shape (1, 3, 640, 384)\n",
      "\n"
     ]
    },
    {
     "name": "stdout",
     "output_type": "stream",
     "text": [
      "[     23.326      311.48       126.2      488.64          16]\n",
      "[     22.673      311.28      125.36      490.35          16]\n",
      "[     22.483      310.85      125.03      491.32          16]\n",
      "[     312.07         239      478.87      831.07          20]\n",
      "[     22.459      310.43      124.91      491.92          16]\n",
      "[      113.1      267.53      199.72      476.82          34]\n",
      "[     312.05      239.28       478.9      830.77          20]\n",
      "[      22.49      310.08      124.86      492.31          16]\n",
      "[     338.37      335.88      479.46      627.04          43]\n",
      "[     113.02      267.39      199.78      476.96          34]\n",
      "[     312.03      239.49      478.92      830.56          20]\n",
      "[     22.536       309.8      124.85      492.58          16]\n"
     ]
    },
    {
     "name": "stderr",
     "output_type": "stream",
     "text": [
      "0: 640x384 4 persons, 1 backpack, 738.1ms\n",
      "Speed: 14.0ms preprocess, 738.1ms inference, 13.0ms postprocess per image at shape (1, 3, 640, 384)\n"
     ]
    },
    {
     "name": "stdout",
     "output_type": "stream",
     "text": [
      "[     312.48      240.31      479.13      832.99          20]\n",
      "[     312.69      240.34      479.17      834.19          20]\n",
      "[      312.8      240.14      479.15      834.85          20]\n",
      "[     312.87      239.91      479.13      835.24          20]\n",
      "[     20.481      309.96      122.05      496.34          16]\n",
      "[     109.88      266.92      196.89      476.29          34]\n",
      "[     312.91      239.71       479.1      835.49          20]\n",
      "[     20.507      309.73      121.96      496.63          16]\n"
     ]
    },
    {
     "name": "stderr",
     "output_type": "stream",
     "text": [
      "\n",
      "0: 640x384 4 persons, 1 backpack, 614.0ms\n",
      "Speed: 15.0ms preprocess, 614.0ms inference, 13.0ms postprocess per image at shape (1, 3, 640, 384)\n",
      "\n"
     ]
    },
    {
     "name": "stdout",
     "output_type": "stream",
     "text": [
      "[     17.922      310.41      119.33      499.86          16]\n",
      "[     16.973      310.21      118.34      501.52          16]\n",
      "[     16.647      309.79      117.97      502.47          16]\n",
      "[     312.96      239.31      479.05      839.89          20]\n",
      "[     16.554      309.38      117.85      503.05          16]\n",
      "[     103.63       267.7      194.99      476.43          34]\n",
      "[     312.97      238.99      479.04      840.27          20]\n",
      "[     16.546      309.03      117.82      503.43          16]\n"
     ]
    },
    {
     "name": "stderr",
     "output_type": "stream",
     "text": [
      "0: 640x384 4 persons, 1 backpack, 900.6ms\n",
      "Speed: 17.0ms preprocess, 900.6ms inference, 12.0ms postprocess per image at shape (1, 3, 640, 384)\n",
      "\n"
     ]
    },
    {
     "name": "stdout",
     "output_type": "stream",
     "text": [
      "[     15.531      309.35      116.24      505.05          16]\n",
      "[     15.264      309.22      115.57      505.89          16]\n",
      "[     15.256      308.98      115.26      506.37          16]\n",
      "[     312.14      235.67      478.86      839.52          20]\n",
      "[     15.326      308.75       115.1      506.67          16]\n",
      "[     103.37      263.75      193.22      451.92          34]\n",
      "[     312.08      235.43      478.89      839.65          20]\n",
      "[      15.41      308.55      115.03      506.86          16]\n"
     ]
    },
    {
     "name": "stderr",
     "output_type": "stream",
     "text": [
      "0: 640x384 4 persons, 1 backpack, 907.5ms\n",
      "Speed: 16.0ms preprocess, 907.5ms inference, 10.0ms postprocess per image at shape (1, 3, 640, 384)\n"
     ]
    },
    {
     "name": "stdout",
     "output_type": "stream",
     "text": [
      "[     13.334      308.33      112.57      507.71          16]\n",
      "[     12.633      308.04      111.58      508.22          16]\n",
      "[     12.438      307.78      111.18      508.54          16]\n",
      "[     311.83      232.42      478.13      838.56          20]\n",
      "[     12.422      307.56      111.01      508.75          16]\n",
      "[     99.992      269.24      190.62      450.09          34]\n",
      "[     311.86      232.24      478.09      838.66          20]\n",
      "[     12.463       307.4      110.94       508.9          16]\n"
     ]
    },
    {
     "name": "stderr",
     "output_type": "stream",
     "text": [
      "\n",
      "0: 640x384 4 persons, 1 backpack, 921.6ms\n",
      "Speed: 19.0ms preprocess, 921.6ms inference, 13.0ms postprocess per image at shape (1, 3, 640, 384)\n"
     ]
    },
    {
     "name": "stdout",
     "output_type": "stream",
     "text": [
      "[     312.54      230.35      478.71       835.3          20]\n",
      "[     312.81      229.89      478.94      833.78          20]\n",
      "[     312.92      229.92      479.02      833.03          20]\n",
      "[     312.96      230.07      479.04      832.63          20]\n",
      "[     7.9203      307.24      107.58         514          16]\n",
      "[     329.79      338.45      469.88      586.74          43]\n",
      "[     312.98      230.24      479.04      832.39          20]\n",
      "[     7.7784      306.91      107.59      514.42          16]\n"
     ]
    },
    {
     "name": "stderr",
     "output_type": "stream",
     "text": [
      "\n",
      "0: 640x384 4 persons, 1 backpack, 867.0ms\n",
      "Speed: 22.0ms preprocess, 867.0ms inference, 16.0ms postprocess per image at shape (1, 3, 640, 384)\n"
     ]
    },
    {
     "name": "stdout",
     "output_type": "stream",
     "text": [
      "[     4.9057      307.99      104.58      517.92          16]\n",
      "[     3.8659      307.96      103.43      519.66          16]\n",
      "[     3.5191      307.62         103      520.62          16]\n",
      "[     312.84      226.59      478.18      815.96          20]\n",
      "[     3.4302      307.25      102.85      521.19          16]\n",
      "[      92.36      268.91      185.12      455.13          34]\n",
      "[     312.88      227.31      478.11      814.85          20]\n",
      "[     3.4336      306.92       102.8      521.56          16]\n"
     ]
    },
    {
     "name": "stderr",
     "output_type": "stream",
     "text": [
      "\n",
      "0: 640x384 4 persons, 1 backpack, 818.2ms\n",
      "Speed: 16.0ms preprocess, 818.2ms inference, 14.7ms postprocess per image at shape (1, 3, 640, 384)\n"
     ]
    },
    {
     "name": "stdout",
     "output_type": "stream",
     "text": [
      "[     1.4956       306.7      100.86      523.72          16]\n",
      "[    0.78971      306.18      100.13      524.96          16]\n",
      "[    0.55259      305.65      99.879      525.72          16]\n",
      "[     88.366      269.79      180.11      467.16          34]\n",
      "[    0.49173      305.21      99.803      526.22          16]\n",
      "[     88.377      269.12      179.95      468.11          34]\n",
      "[     312.99      227.72         478      810.52          20]\n",
      "[    0.49522      304.86      99.793      526.57          16]\n"
     ]
    },
    {
     "name": "stderr",
     "output_type": "stream",
     "text": [
      "\n",
      "0: 640x384 4 persons, 1 backpack, 795.2ms\n",
      "Speed: 25.0ms preprocess, 795.2ms inference, 13.0ms postprocess per image at shape (1, 3, 640, 384)\n"
     ]
    },
    {
     "name": "stdout",
     "output_type": "stream",
     "text": [
      "[   -0.32207       304.6      98.691       526.8          16]\n",
      "[   -0.56163      304.41      98.243      526.96          16]\n",
      "[   -0.59505      304.26      98.057      527.08          16]\n",
      "[     325.14      319.26      465.55      568.51          43]\n",
      "[   -0.56113      304.15      97.978      527.16          16]\n",
      "[     325.08      319.37      465.57      568.42          43]\n",
      "[     83.696      268.81      175.67      471.49          34]\n",
      "[   -0.51033      304.06      97.946      527.22          16]\n"
     ]
    },
    {
     "name": "stderr",
     "output_type": "stream",
     "text": [
      "\n",
      "0: 640x384 4 persons, 1 backpack, 746.8ms\n",
      "Speed: 19.0ms preprocess, 746.8ms inference, 11.0ms postprocess per image at shape (1, 3, 640, 384)\n",
      "\n"
     ]
    },
    {
     "name": "stdout",
     "output_type": "stream",
     "text": [
      "[  -0.080675      302.69      98.862      525.95          16]\n",
      "[   0.011544      302.14      99.309      525.49          16]\n",
      "[ -0.0039239      301.92      99.551      525.32          16]\n",
      "[     79.599      266.59      171.73       475.7          34]\n",
      "[     -0.045      301.82      99.698      525.27          16]\n",
      "[      325.2      324.75      461.49      567.53          43]\n",
      "[     79.537      266.14      171.68      476.16          34]\n",
      "[  -0.084605      301.78      99.795      525.25          16]\n"
     ]
    },
    {
     "name": "stderr",
     "output_type": "stream",
     "text": [
      "0: 640x384 4 persons, 1 backpack, 720.0ms\n",
      "Speed: 13.0ms preprocess, 720.0ms inference, 13.0ms postprocess per image at shape (1, 3, 640, 384)\n"
     ]
    },
    {
     "name": "stdout",
     "output_type": "stream",
     "text": [
      "[   -0.87479      301.31       98.01      525.05          16]\n",
      "[   -0.99172      301.09      97.166      525.01          16]\n",
      "[   -0.89806      300.97      96.729      525.04          16]\n",
      "[     76.096      262.77      170.25       472.4          34]\n",
      "[   -0.75867       300.9       96.48      525.07          16]\n",
      "[     75.931      262.72      170.37      472.28          34]\n",
      "[     312.31      242.15      472.44      815.32          20]\n",
      "[   -0.62755      300.86      96.328       525.1          16]\n"
     ]
    },
    {
     "name": "stderr",
     "output_type": "stream",
     "text": [
      "\n",
      "0: 640x384 5 persons, 1 backpack, 573.6ms\n",
      "Speed: 18.0ms preprocess, 573.6ms inference, 10.0ms postprocess per image at shape (1, 3, 640, 384)\n"
     ]
    },
    {
     "name": "stdout",
     "output_type": "stream",
     "text": [
      "[   -0.13939      300.83      97.156      525.14          16]\n",
      "[ -0.0057756      300.81      97.537      525.16          16]\n",
      "[  0.0073176      300.79       97.73      525.18          16]\n",
      "[      74.43      263.28      176.08      475.68          34]\n",
      "[  -0.014586      300.78      97.839      525.19          16]\n",
      "[     73.987      263.14      176.66      475.91          34]\n",
      "[     311.54      239.08      469.36      816.62          20]\n",
      "[  -0.041783      300.77      97.907       525.2          16]\n",
      "[     161.07      277.46      222.88      475.75          42]\n",
      "[     73.656      263.03      177.06      476.04          34]\n",
      "[     311.65       238.8       469.2      816.89          20]\n",
      "[  -0.065141      300.77      97.952      525.21          16]\n"
     ]
    },
    {
     "name": "stderr",
     "output_type": "stream",
     "text": [
      "\n",
      "0: 640x384 5 persons, 1 backpack, 692.9ms\n",
      "Speed: 14.0ms preprocess, 692.9ms inference, 12.0ms postprocess per image at shape (1, 3, 640, 384)\n",
      "\n"
     ]
    },
    {
     "name": "stdout",
     "output_type": "stream",
     "text": [
      "[     311.93      240.11      469.56      816.91          20]\n",
      "[     312.03      240.83      469.72      816.71          20]\n",
      "[     312.06      241.26      469.79      816.48          20]\n",
      "[     312.06      241.54      469.83      816.29          20]\n",
      "[   -0.62306      301.97      95.528      527.04          16]\n",
      "[     69.378       262.5      171.31      474.53          34]\n",
      "[     312.06      241.73      469.85      816.13          20]\n",
      "[   -0.51262      301.96      95.362      527.11          16]\n",
      "[     160.82      277.33      223.12      475.79          42]\n",
      "[     69.409      262.56      171.14      474.43          34]\n",
      "[     312.06      241.87      469.87      816.02          20]\n",
      "[   -0.41929      301.94      95.258      527.15          16]\n"
     ]
    },
    {
     "name": "stderr",
     "output_type": "stream",
     "text": [
      "0: 640x384 6 persons, 1 backpack, 819.0ms\n",
      "Speed: 13.0ms preprocess, 819.0ms inference, 31.0ms postprocess per image at shape (1, 3, 640, 384)\n"
     ]
    },
    {
     "name": "stdout",
     "output_type": "stream",
     "text": [
      "[     312.63      243.72      471.27      815.49          20]\n",
      "[      312.7      244.83      471.94      814.89          20]\n",
      "[     312.62      245.54       472.3      814.37          20]\n",
      "[     312.51      246.02      472.51      813.95          20]\n",
      "[   -0.73742      302.56      92.594      526.51          16]\n",
      "[     334.42      353.04      454.58      559.05          43]\n",
      "[     312.41      246.36      472.65      813.64          20]\n",
      "[   -0.59195      302.66      92.397      526.41          16]\n",
      "[     334.44      353.28      454.57      558.83          43]\n",
      "[     68.319      259.48      173.39      459.16          34]\n",
      "[     312.33       246.6      472.74      813.41          20]\n",
      "[   -0.47316      302.72      92.271      526.34          16]\n",
      "[     334.46      353.45      454.56      558.67          43]\n",
      "[     161.68       277.2      223.32      474.84          42]\n",
      "[     68.178      260.01      173.57      458.42          34]\n",
      "[     312.27      246.77       472.8      813.24          20]\n",
      "[   -0.38035      302.77      92.188      526.28          16]\n"
     ]
    },
    {
     "name": "stderr",
     "output_type": "stream",
     "text": [
      "\n",
      "0: 640x384 6 persons, 1 backpack, 723.6ms\n",
      "Speed: 16.0ms preprocess, 723.6ms inference, 12.0ms postprocess per image at shape (1, 3, 640, 384)\n"
     ]
    },
    {
     "name": "stdout",
     "output_type": "stream",
     "text": [
      "[     313.44      247.06      474.89      811.65          20]\n",
      "[     313.73       247.5      475.83      810.72          20]\n",
      "[     313.71      247.89       476.3      810.14          20]\n",
      "[     335.19      353.95      453.83      555.11          43]\n",
      "[     313.61      248.22      476.55      809.75          20]\n",
      "[     335.28      354.17      453.74      554.82          43]\n",
      "[     313.51      248.46       476.7      809.48          20]\n",
      "[    0.27657      301.25      94.648      526.77          16]\n",
      "[     335.34      354.34      453.67      554.62          43]\n",
      "[     65.374      260.22      163.24      451.23          34]\n",
      "[     313.41      248.65       476.8      809.29          20]\n",
      "[    0.19707      301.12      94.785      526.88          16]\n",
      "[     335.39      354.47      453.62      554.48          43]\n",
      "[     163.45      276.85      222.58      471.07          42]\n",
      "[     65.719      260.63      162.76      450.78          34]\n",
      "[     313.34      248.78      476.86      809.16          20]\n",
      "[     0.1312      301.04      94.872      526.95          16]\n"
     ]
    },
    {
     "name": "stderr",
     "output_type": "stream",
     "text": [
      "\n",
      "0: 640x384 7 persons, 1 backpack, 1 refrigerator, 625.8ms\n",
      "Speed: 15.0ms preprocess, 625.8ms inference, 14.0ms postprocess per image at shape (1, 3, 640, 384)\n"
     ]
    },
    {
     "name": "stdout",
     "output_type": "stream",
     "text": [
      "[     314.02      247.57      476.82      805.81          20]\n",
      "[      314.4      247.49      476.67      804.16          20]\n",
      "[     314.63      247.74      476.51      803.27          20]\n",
      "[      62.85       262.1      160.68      461.55          34]\n",
      "[     314.78      248.05      476.38      802.74          20]\n",
      "[     334.61      347.41      453.38      550.39          43]\n",
      "[     62.773      261.58      160.69      462.37          34]\n",
      "[     314.88      248.32      476.28      802.41          20]\n",
      "[     334.54       347.1      453.44      550.54          43]\n",
      "[     62.747      261.16      160.72       462.9          34]\n",
      "[     314.95      248.54       476.2      802.18          20]\n",
      "[     -1.882      299.79      83.642      529.22          16]\n",
      "[      334.5      346.92      453.47      550.68          43]\n",
      "[     164.78      277.71      223.29      473.27          42]\n",
      "[     62.743      260.83      160.76      463.26          34]\n",
      "[        315      248.71      476.14      802.03          20]\n",
      "[    -1.4507      299.59      83.058      529.44          16]\n",
      "[     311.59      285.19      370.27      428.29          44]\n",
      "[     334.47      346.81       453.5       550.8          43]\n",
      "[     164.83       277.7      223.25      473.32          42]\n",
      "[     62.748      260.59       160.8      463.51          34]\n",
      "[     315.04      248.84      476.09      801.92          20]\n",
      "[    -1.1145      299.43      82.691      529.59          16]\n",
      "[     311.68      284.89      370.19      428.63          44]\n",
      "[     334.45      346.74      453.52      550.89          43]\n",
      "[     164.86      277.68      223.23      473.35          42]\n",
      "[     62.758       260.4      160.83      463.69          34]\n",
      "[     315.06      248.93      476.05      801.84          20]\n",
      "[   -0.85796      299.32      82.449       529.7          16]\n"
     ]
    },
    {
     "name": "stderr",
     "output_type": "stream",
     "text": [
      "\n",
      "0: 640x384 6 persons, 1 backpack, 726.7ms\n",
      "Speed: 16.0ms preprocess, 726.7ms inference, 7.0ms postprocess per image at shape (1, 3, 640, 384)\n"
     ]
    },
    {
     "name": "stdout",
     "output_type": "stream",
     "text": [
      "[     315.43      248.78      475.02      797.45          20]\n",
      "[     315.82      249.48      474.37      795.04          20]\n",
      "[     316.15      250.31      473.94      793.58          20]\n",
      "[     56.894      260.77      155.74      471.35          34]\n",
      "[     316.41      251.05      473.64      792.64          20]\n",
      "[     337.63      339.89      457.46       545.7          43]\n",
      "[     56.744      260.33      155.69      471.96          34]\n",
      "[     316.61      251.63      473.43         792          20]\n",
      "[     337.62      339.66      457.58      545.77          43]\n",
      "[     165.75      276.58      223.32       472.4          42]\n",
      "[     56.691      259.97       155.7      472.36          34]\n",
      "[     316.75      252.08      473.28      791.55          20]\n",
      "[     337.58      339.56      457.64      545.85          43]\n",
      "[     165.81      276.59      223.27      472.37          42]\n",
      "[     56.678      259.69      155.74      472.63          34]\n",
      "[     316.86      252.42      473.17      791.24          20]\n",
      "[   -0.51931      308.01      80.262      531.22          16]\n"
     ]
    },
    {
     "name": "stderr",
     "output_type": "stream",
     "text": [
      "\n",
      "0: 640x384 5 persons, 1 backpack, 702.6ms\n",
      "Speed: 14.0ms preprocess, 702.6ms inference, 12.0ms postprocess per image at shape (1, 3, 640, 384)\n"
     ]
    },
    {
     "name": "stdout",
     "output_type": "stream",
     "text": [
      "[     55.284      259.57      155.22      474.04          34]\n",
      "[     54.622      259.25      155.18      474.83          34]\n",
      "[     54.279      258.93       155.3      475.31          34]\n",
      "[     336.17      337.62         459       540.9          43]\n",
      "[     54.086      258.66      155.44      475.62          34]\n",
      "[     335.95      337.75       459.2      540.66          43]\n",
      "[     168.46      275.78      223.64      472.17          42]\n",
      "[      53.97      258.45      155.56      475.83          34]\n",
      "[     335.79      337.89      459.35      540.52          43]\n",
      "[     168.63      275.75      223.51      472.18          42]\n",
      "[     53.898      258.29      155.66      475.97          34]\n",
      "[    -1.1354      301.75      73.837       527.3          16]\n"
     ]
    },
    {
     "name": "stderr",
     "output_type": "stream",
     "text": [
      "\n",
      "0: 640x384 5 persons, 1 backpack, 1 cup, 615.8ms\n",
      "Speed: 16.0ms preprocess, 615.8ms inference, 12.0ms postprocess per image at shape (1, 3, 640, 384)\n"
     ]
    },
    {
     "name": "stdout",
     "output_type": "stream",
     "text": [
      "[     51.621      257.97      154.06      475.61          34]\n",
      "[     50.653      257.85      153.58      475.46          34]\n",
      "[     50.216      257.81       153.5       475.4          34]\n",
      "[     50.005      257.79      153.55      475.36          34]\n",
      "[      322.1      247.76      476.06      774.88          20]\n",
      "[     339.53      338.42       458.6      536.13          43]\n",
      "[     49.896      257.79      153.63      475.34          34]\n",
      "[     322.17      248.03      476.06      774.25          20]\n",
      "[     339.81      338.69      458.36      535.84          43]\n",
      "[     49.836      257.78      153.71      475.33          34]\n",
      "[     322.21      248.31      476.04       773.9          20]\n",
      "[    -1.0342      303.31      68.676      528.64          16]\n",
      "[     339.99       338.9      458.18      535.65          43]\n",
      "[     168.87      275.68      223.22      472.28          42]\n",
      "[     49.802      257.78      153.77      475.31          34]\n",
      "[     322.22      248.54      476.01      773.68          20]\n",
      "[   -0.77769      303.32      68.386      528.67          16]\n"
     ]
    },
    {
     "name": "stderr",
     "output_type": "stream",
     "text": [
      "\n",
      "0: 640x384 6 persons, 1 backpack, 1 cup, 683.9ms\n",
      "Speed: 16.0ms preprocess, 683.9ms inference, 12.0ms postprocess per image at shape (1, 3, 640, 384)\n"
     ]
    },
    {
     "name": "stdout",
     "output_type": "stream",
     "text": [
      "[     48.204      257.31       152.8      475.12          34]\n",
      "[     47.501      257.08      152.55       475.1          34]\n",
      "[      47.17      256.96      152.55      475.12          34]\n",
      "[     345.02      349.31      461.17      532.43          43]\n",
      "[         47      256.89      152.62      475.15          34]\n",
      "[     345.25      350.33      461.09      531.58          43]\n",
      "[     46.907      256.84       152.7      475.18          34]\n",
      "[     325.83      253.87      477.39      771.67          20]\n",
      "[     345.38      351.03         461      530.95          43]\n",
      "[     46.854      256.81      152.77       475.2          34]\n",
      "[     325.99      254.35       477.3       771.3          20]\n",
      "[    -1.0407      307.83      62.682      529.28          16]\n",
      "[     345.46      351.52      460.91      530.49          43]\n",
      "[     168.92      275.57      223.12      471.39          42]\n",
      "[     46.822      256.79      152.83      475.22          34]\n",
      "[     326.09      254.68      477.21      771.02          20]\n",
      "[   -0.77749      308.05      62.373      529.11          16]\n",
      "[     312.96      281.09      366.99      420.74          44]\n",
      "[     345.51      351.87      460.83      530.15          43]\n",
      "[     168.93      275.62      223.11      471.33          42]\n",
      "[     46.804      256.78      152.88      475.23          34]\n",
      "[     326.14      254.91      477.13      770.82          20]\n",
      "[   -0.57496       308.2      62.179      528.97          16]\n"
     ]
    },
    {
     "name": "stderr",
     "output_type": "stream",
     "text": [
      "\n",
      "0: 640x384 6 persons, 1 backpack, 919.4ms\n",
      "Speed: 14.0ms preprocess, 919.4ms inference, 12.0ms postprocess per image at shape (1, 3, 640, 384)\n"
     ]
    },
    {
     "name": "stdout",
     "output_type": "stream",
     "text": [
      "[     44.374      257.23      150.77      475.43          34]\n",
      "[     43.406      257.45      150.03      475.46          34]\n",
      "[     43.013      257.56      149.81      475.44          34]\n",
      "[     346.28      348.77      463.99      523.17          43]\n",
      "[      42.85      257.63      149.77       475.4          34]\n",
      "[     346.12      348.91      464.21      522.82          43]\n",
      "[     42.781      257.67      149.79      475.37          34]\n",
      "[     325.23      255.13      475.91      759.55          20]\n",
      "[     345.98      349.05      464.34      522.61          43]\n",
      "[     42.754       257.7      149.83      475.34          34]\n",
      "[     325.22      255.72      475.88       758.8          20]\n",
      "[    -0.2481      333.17      60.997      532.48          16]\n",
      "[     345.88      349.18      464.43      522.49          43]\n",
      "[     170.71      274.98      223.35      471.99          42]\n",
      "[     42.744      257.72      149.86      475.32          34]\n",
      "[     325.21      256.18      475.86      758.31          20]\n",
      "[   -0.15389      334.42      60.915      531.54          16]\n"
     ]
    },
    {
     "name": "stderr",
     "output_type": "stream",
     "text": [
      "\n",
      "0: 640x384 5 persons, 1 backpack, 876.3ms\n",
      "Speed: 12.0ms preprocess, 876.3ms inference, 24.0ms postprocess per image at shape (1, 3, 640, 384)\n"
     ]
    },
    {
     "name": "stdout",
     "output_type": "stream",
     "text": [
      "[     40.047      257.91      148.02      475.78          34]\n",
      "[     38.887      257.94      147.49         476          34]\n",
      "[     38.354      257.91      147.41      476.11          34]\n",
      "[      38.09      257.88      147.47      476.17          34]\n",
      "[     328.59      249.74      476.49      744.73          20]\n",
      "[     350.36      335.05      467.96      515.42          43]\n",
      "[     37.948      257.85      147.57      476.21          34]\n",
      "[     328.82      250.04      476.34      744.05          20]\n",
      "[     350.45       334.4      467.97      515.76          43]\n",
      "[     37.867      257.82      147.67      476.23          34]\n",
      "[     328.96      250.35      476.21      743.65          20]\n",
      "[    -1.3126      347.04      51.983      531.89          16]\n"
     ]
    },
    {
     "name": "stderr",
     "output_type": "stream",
     "text": [
      "\n",
      "0: 640x384 5 persons, 1 backpack, 851.1ms\n",
      "Speed: 14.0ms preprocess, 851.1ms inference, 17.0ms postprocess per image at shape (1, 3, 640, 384)\n"
     ]
    },
    {
     "name": "stdout",
     "output_type": "stream",
     "text": [
      "[     35.753       258.2      144.59      477.16          34]\n",
      "[     35.136      258.25      143.27       477.6          34]\n",
      "[     35.045      258.19      142.66      477.84          34]\n",
      "[     35.121      258.11      142.36      477.98          34]\n",
      "[     330.38       245.9      477.78      729.21          20]\n",
      "[     348.42      335.44      469.89      512.86          43]\n",
      "[     35.235      258.04       142.2      478.06          34]\n",
      "[     330.39      246.42      477.82      728.36          20]\n",
      "[     348.15      335.66      470.14      512.68          43]\n",
      "[     35.345      257.98      142.11      478.12          34]\n",
      "[     330.38      246.88      477.83      727.85          20]\n",
      "[    -1.0606      351.56      45.624      530.19          16]\n"
     ]
    },
    {
     "name": "stderr",
     "output_type": "stream",
     "text": [
      "\n",
      "0: 640x384 4 persons, 1 backpack, 797.5ms\n",
      "Speed: 15.0ms preprocess, 797.5ms inference, 19.1ms postprocess per image at shape (1, 3, 640, 384)\n"
     ]
    },
    {
     "name": "stdout",
     "output_type": "stream",
     "text": [
      "[     32.254      257.88      138.05      478.87          34]\n",
      "[     31.269      257.68      136.36      479.31          34]\n",
      "[     31.044      257.49      135.62      479.59          34]\n",
      "[     31.075      257.33      135.28      479.77          34]\n",
      "[     327.01      246.07      477.11      713.88          20]\n",
      "[     353.12      329.58      473.17      507.83          43]\n",
      "[     31.177       257.2       135.1       479.9          34]\n",
      "[     326.76      246.85      477.26      712.88          20]\n"
     ]
    },
    {
     "name": "stderr",
     "output_type": "stream",
     "text": [
      "\n",
      "0: 640x384 3 persons, 1 backpack, 1224.2ms\n",
      "Speed: 17.0ms preprocess, 1224.2ms inference, 16.0ms postprocess per image at shape (1, 3, 640, 384)\n",
      "\n"
     ]
    },
    {
     "name": "stdout",
     "output_type": "stream",
     "text": [
      "[     28.472      259.31      131.95      484.32          34]\n",
      "[     27.552      259.68      130.69       486.4          34]\n",
      "[     27.291      259.51      130.18      487.49          34]\n",
      "[     27.266       259.2      129.97      488.11          34]\n",
      "[     323.74      245.32       476.2      703.59          20]\n"
     ]
    },
    {
     "name": "stderr",
     "output_type": "stream",
     "text": [
      "0: 640x384 3 persons, 1 backpack, 662.8ms\n",
      "Speed: 14.0ms preprocess, 662.8ms inference, 8.0ms postprocess per image at shape (1, 3, 640, 384)\n",
      "\n"
     ]
    },
    {
     "name": "stdout",
     "output_type": "stream",
     "text": [
      "[     24.047      258.64      126.63      488.77          34]\n",
      "[     22.878      258.19      125.36      489.22          34]\n",
      "[     22.485      257.85      124.89      489.54          34]\n",
      "[     22.381       257.6      124.73      489.76          34]\n",
      "[     324.88      244.98      475.99      697.95          20]\n"
     ]
    },
    {
     "name": "stderr",
     "output_type": "stream",
     "text": [
      "0: 640x384 3 persons, 1 backpack, 730.1ms\n",
      "Speed: 13.0ms preprocess, 730.1ms inference, 13.0ms postprocess per image at shape (1, 3, 640, 384)\n",
      "\n"
     ]
    },
    {
     "name": "stdout",
     "output_type": "stream",
     "text": [
      "[     18.163      259.72      119.12      493.49          34]\n",
      "[     16.842      260.21      116.78      495.18          34]\n",
      "[     16.562      260.16      115.75      496.03          34]\n",
      "[     16.629      259.96      115.27       496.5          34]\n",
      "[     328.66      246.16      477.31      697.95          20]\n"
     ]
    },
    {
     "name": "stderr",
     "output_type": "stream",
     "text": [
      "0: 640x384 3 persons, 1 backpack, 1113.4ms\n",
      "Speed: 14.0ms preprocess, 1113.4ms inference, 16.0ms postprocess per image at shape (1, 3, 640, 384)\n",
      "\n"
     ]
    },
    {
     "name": "stdout",
     "output_type": "stream",
     "text": [
      "[     11.815      261.01      109.56      501.39          34]\n",
      "[     10.195      260.67      107.26      503.95          34]\n",
      "[     9.7532      259.99      106.32      505.42          34]\n",
      "[     9.7252      259.31      105.92      506.35          34]\n",
      "[     329.14         247      476.97      696.42          20]\n"
     ]
    },
    {
     "name": "stderr",
     "output_type": "stream",
     "text": [
      "0: 640x384 3 persons, 1 backpack, 850.1ms\n",
      "Speed: 15.0ms preprocess, 850.1ms inference, 16.0ms postprocess per image at shape (1, 3, 640, 384)\n"
     ]
    },
    {
     "name": "stdout",
     "output_type": "stream",
     "text": [
      "[     7.3853      260.56      101.67      508.41          34]\n",
      "[     6.8806      260.85      99.761      509.33          34]\n",
      "[     6.9845      260.82      98.842      509.77          34]\n",
      "[     7.2512      260.71      98.361      509.99          34]\n",
      "[     330.11      247.48      476.98      692.08          20]\n"
     ]
    },
    {
     "name": "stderr",
     "output_type": "stream",
     "text": [
      "\n",
      "0: 640x384 4 persons, 1 backpack, 763.8ms\n",
      "Speed: 18.0ms preprocess, 763.8ms inference, 8.0ms postprocess per image at shape (1, 3, 640, 384)\n",
      "\n"
     ]
    },
    {
     "name": "stdout",
     "output_type": "stream",
     "text": [
      "[     4.4094      262.78      93.375      515.75          34]\n",
      "[     3.7581      262.82      91.146      518.63          34]\n",
      "[     3.8406      262.26      90.069      520.24          34]\n",
      "[     366.38      318.94       476.9      497.78          43]\n",
      "[     4.1252      261.62      89.504      521.21          34]\n",
      "[      366.4      319.07      476.88      497.67          43]\n",
      "[     4.4283      261.05      89.184      521.85          34]\n",
      "[     331.13      251.59      476.96      695.14          20]\n"
     ]
    },
    {
     "name": "stderr",
     "output_type": "stream",
     "text": [
      "0: 640x384 4 persons, 1 backpack, 737.2ms\n",
      "Speed: 13.5ms preprocess, 737.2ms inference, 8.0ms postprocess per image at shape (1, 3, 640, 384)\n",
      "\n"
     ]
    },
    {
     "name": "stdout",
     "output_type": "stream",
     "text": [
      "[     1.6939      260.67      85.465      524.16          34]\n",
      "[    0.87291         260      83.919      525.51          34]\n",
      "[     0.7345      259.35      83.248      526.36          34]\n",
      "[     366.26      323.56      475.93      498.31          43]\n",
      "[    0.81924      258.81      82.943      526.93          34]\n",
      "[     366.29      323.87      475.86      498.11          43]\n",
      "[    0.96036      258.38      82.798      527.33          34]\n",
      "[     331.27      252.14      476.81      696.86          20]\n"
     ]
    },
    {
     "name": "stderr",
     "output_type": "stream",
     "text": [
      "0: 640x384 5 persons, 1 backpack, 685.0ms\n",
      "Speed: 12.0ms preprocess, 685.0ms inference, 17.0ms postprocess per image at shape (1, 3, 640, 384)\n"
     ]
    },
    {
     "name": "stdout",
     "output_type": "stream",
     "text": [
      "[   -0.96708      257.57      79.573      528.09          34]\n",
      "[    -1.4341      256.95      78.158      528.65          34]\n",
      "[    -1.4059      256.48      77.493      529.06          34]\n",
      "[     366.87       325.9      474.21      497.15          43]\n",
      "[    -1.2362      256.12      77.156      529.37          34]\n",
      "[        367       326.1      474.05      496.97          43]\n",
      "[    -1.0483      255.86      76.973      529.59          34]\n",
      "[     331.28      253.98      476.76      699.12          20]\n",
      "[      367.1      326.24      473.94      496.83          43]\n",
      "[      154.4      267.94      223.34      466.11          42]\n",
      "[    -0.8805      255.66      76.871      529.75          34]\n",
      "[     331.27      253.94      476.77      699.22          20]\n"
     ]
    },
    {
     "name": "stderr",
     "output_type": "stream",
     "text": [
      "\n",
      "0: 640x384 4 persons, 1 backpack, 588.6ms\n",
      "Speed: 14.0ms preprocess, 588.6ms inference, 10.0ms postprocess per image at shape (1, 3, 640, 384)\n"
     ]
    },
    {
     "name": "stdout",
     "output_type": "stream",
     "text": [
      "[     365.41      326.81      472.36      496.91          43]\n",
      "[     364.74       327.1      471.78      496.86          43]\n",
      "[     364.48      327.26      471.59      496.79          43]\n",
      "[     364.37      327.37      471.53      496.71          43]\n",
      "[     329.59      255.02      476.42      697.11          20]\n",
      "[     364.33      327.43      471.52      496.65          43]\n",
      "[   -0.45888      248.14      72.765      485.33          34]\n",
      "[     329.47       255.2       476.5      696.89          20]\n"
     ]
    },
    {
     "name": "stderr",
     "output_type": "stream",
     "text": [
      "\n",
      "0: 640x384 5 persons, 1 backpack, 719.8ms\n",
      "Speed: 16.0ms preprocess, 719.8ms inference, 16.0ms postprocess per image at shape (1, 3, 640, 384)\n",
      "\n"
     ]
    },
    {
     "name": "stdout",
     "output_type": "stream",
     "text": [
      "[     360.58      325.89      468.08      495.58          43]\n",
      "[     359.11      325.22      466.84      495.25          43]\n",
      "[     358.53       324.9      466.43       495.2          43]\n",
      "[     358.29      324.74      466.32      495.22          43]\n",
      "[     150.98      268.28      223.79      471.85          42]\n",
      "[      358.2      324.65      466.31      495.27          43]\n",
      "[     150.92      268.13      223.87      472.06          42]\n",
      "[     327.99      257.04      473.91      695.01          20]\n",
      "[     358.16      324.59      466.35      495.32          43]\n",
      "[     150.88         268      223.93      472.19          42]\n",
      "[    -1.1266      260.73      67.561      518.98          34]\n",
      "[     328.01      257.23      473.83      694.82          20]\n"
     ]
    },
    {
     "name": "stderr",
     "output_type": "stream",
     "text": [
      "0: 640x384 6 persons, 1 backpack, 710.8ms\n",
      "Speed: 17.0ms preprocess, 710.8ms inference, 11.8ms postprocess per image at shape (1, 3, 640, 384)\n"
     ]
    },
    {
     "name": "stdout",
     "output_type": "stream",
     "text": [
      "[     355.56      324.81      465.71       495.1          43]\n",
      "[     354.24      324.97      465.83      494.95          43]\n",
      "[     353.51      325.08      466.14      494.85          43]\n",
      "[     353.07      325.16      466.46      494.77          43]\n",
      "[     326.79      257.02      475.07      691.99          20]\n",
      "[     352.78      325.21      466.73      494.72          43]\n",
      "[     150.81      267.71      224.07      472.42          42]\n",
      "[     326.61      257.15      475.26      691.79          20]\n",
      "[     352.58      325.25      466.95      494.69          43]\n",
      "[     150.82      267.69      224.08      472.43          42]\n",
      "[   -0.66177      257.14      65.229      523.33          34]\n",
      "[     326.49      257.26       475.4      691.66          20]\n",
      "[     311.03      286.57      368.88      545.21          53]\n",
      "[     352.45      325.28      467.12      494.67          43]\n",
      "[     150.82      267.68      224.08      472.43          42]\n",
      "[   -0.50782      256.66      65.091      523.78          34]\n",
      "[      326.4      257.34      475.49      691.58          20]\n"
     ]
    },
    {
     "name": "stderr",
     "output_type": "stream",
     "text": [
      "\n",
      "0: 640x384 5 persons, 1 backpack, 1076.4ms\n",
      "Speed: 23.0ms preprocess, 1076.4ms inference, 17.5ms postprocess per image at shape (1, 3, 640, 384)\n"
     ]
    },
    {
     "name": "stdout",
     "output_type": "stream",
     "text": [
      "[      324.3      257.86      474.34      689.76          20]\n",
      "[     323.34      258.45      474.07      688.68          20]\n",
      "[     322.86      258.96       474.1      687.99          20]\n",
      "[     352.93      325.02      466.77      492.93          43]\n",
      "[      322.6      259.36      474.21      687.53          20]\n",
      "[        353       325.1      466.74      492.81          43]\n",
      "[   -0.95081      254.89      60.609      527.41          34]\n",
      "[     322.45      259.67      474.32      687.21          20]\n",
      "[     353.05      325.16      466.71      492.74          43]\n",
      "[     152.44      266.47      223.53      465.43          42]\n",
      "[    -0.7317      254.51       60.34      527.79          34]\n",
      "[     322.35      259.89      474.42      686.99          20]\n"
     ]
    },
    {
     "name": "stderr",
     "output_type": "stream",
     "text": [
      "\n",
      "0: 640x384 4 persons, 1 backpack, 948.0ms\n",
      "Speed: 17.0ms preprocess, 948.0ms inference, 14.0ms postprocess per image at shape (1, 3, 640, 384)\n"
     ]
    },
    {
     "name": "stdout",
     "output_type": "stream",
     "text": [
      "[     320.79      258.83      472.73      682.83          20]\n",
      "[     320.23      258.97      472.07      680.72          20]\n",
      "[     320.05      259.43      471.81      679.55          20]\n",
      "[     352.32         325      462.48      490.91          43]\n",
      "[     320.01      259.89      471.71      678.83          20]\n",
      "[     352.51      325.09       462.2      490.78          43]\n",
      "[     151.85      264.56      223.13      442.89          42]\n",
      "[     320.01      260.29      471.67      678.37          20]\n"
     ]
    },
    {
     "name": "stderr",
     "output_type": "stream",
     "text": [
      "\n",
      "0: 640x384 6 persons, 1 backpack, 878.0ms\n",
      "Speed: 21.0ms preprocess, 878.0ms inference, 16.0ms postprocess per image at shape (1, 3, 640, 384)\n"
     ]
    },
    {
     "name": "stdout",
     "output_type": "stream",
     "text": [
      "[     319.08      259.51      469.34      677.19          20]\n",
      "[     318.98      259.29      468.23      676.68          20]\n",
      "[     319.13      259.27      467.64      676.45          20]\n",
      "[     349.61      328.53      453.05      490.39          43]\n",
      "[     319.34      259.32       467.3      676.34          20]\n",
      "[     349.93      328.84       452.5      490.15          43]\n",
      "[      151.9      268.01      223.07       439.2          42]\n",
      "[     319.52      259.37      467.09      676.28          20]\n",
      "[     350.22      329.05      452.16      489.97          43]\n",
      "[     151.91      268.48      223.06      438.81          42]\n",
      "[  -0.062598      253.61      50.695      530.55          34]\n",
      "[     319.67      259.42      466.96      676.25          20]\n",
      "[     318.11      261.21      392.31      681.39          54]\n",
      "[     350.46       329.2      451.95      489.83          43]\n",
      "[     151.92      268.81      223.05      438.54          42]\n",
      "[    0.22483      253.38        50.4      530.77          34]\n",
      "[     319.79      259.45      466.87      676.24          20]\n"
     ]
    },
    {
     "name": "stderr",
     "output_type": "stream",
     "text": [
      "\n",
      "0: 640x384 3 persons, 1 backpack, 817.1ms\n",
      "Speed: 17.0ms preprocess, 817.1ms inference, 13.0ms postprocess per image at shape (1, 3, 640, 384)\n"
     ]
    },
    {
     "name": "stdout",
     "output_type": "stream",
     "text": [
      "[      319.6      257.79      467.08      674.01          20]\n",
      "[     319.47      257.26      467.24      673.08          20]\n",
      "[     319.38      257.15      467.36      672.67          20]\n",
      "[     343.88      321.34      448.62      485.59          43]\n",
      "[     319.31      257.17      467.45      672.48          20]\n"
     ]
    },
    {
     "name": "stderr",
     "output_type": "stream",
     "text": [
      "\n",
      "0: 640x384 3 persons, 1 backpack, 868.1ms\n",
      "Speed: 40.0ms preprocess, 868.1ms inference, 14.0ms postprocess per image at shape (1, 3, 640, 384)\n"
     ]
    },
    {
     "name": "stdout",
     "output_type": "stream",
     "text": [
      "[     340.57      320.11      445.23       484.6          43]\n",
      "[     339.36      319.62      443.96      484.28          43]\n",
      "[     338.94      319.42      443.49      484.21          43]\n",
      "[     338.82      319.34      443.34      484.22          43]\n",
      "[     316.53      256.58      462.25      668.06          20]\n"
     ]
    },
    {
     "name": "stderr",
     "output_type": "stream",
     "text": [
      "\n",
      "0: 640x384 3 persons, 1 backpack, 746.0ms\n",
      "Speed: 16.0ms preprocess, 746.0ms inference, 12.0ms postprocess per image at shape (1, 3, 640, 384)\n"
     ]
    },
    {
     "name": "stdout",
     "output_type": "stream",
     "text": [
      "[     340.18      319.27      441.94      482.32          43]\n",
      "[     341.21      319.61      440.94      481.28          43]\n",
      "[     341.98         320      440.23      480.64          43]\n",
      "[     342.55      320.35      439.73      480.23          43]\n",
      "[     318.39      255.06      461.25      660.49          20]\n"
     ]
    },
    {
     "name": "stderr",
     "output_type": "stream",
     "text": [
      "\n",
      "0: 640x384 3 persons, 1 backpack, 626.4ms\n",
      "Speed: 20.0ms preprocess, 626.4ms inference, 15.0ms postprocess per image at shape (1, 3, 640, 384)\n",
      "\n"
     ]
    },
    {
     "name": "stdout",
     "output_type": "stream",
     "text": [
      "[     341.11      318.95      436.67      477.71          43]\n",
      "[     340.86      318.63      435.25      476.57          43]\n",
      "[        341      318.68      434.53      476.01          43]\n",
      "[     341.22      318.82      434.13      475.71          43]\n",
      "[     319.63       251.2      460.16      643.09          20]\n"
     ]
    },
    {
     "name": "stderr",
     "output_type": "stream",
     "text": [
      "0: 640x384 2 persons, 1 backpack, 665.9ms\n",
      "Speed: 19.0ms preprocess, 665.9ms inference, 12.0ms postprocess per image at shape (1, 3, 640, 384)\n",
      "\n"
     ]
    },
    {
     "name": "stdout",
     "output_type": "stream",
     "text": [
      "[      340.6      318.21      432.77      473.67          43]\n",
      "[     340.51      318.25      432.15      472.67          43]\n",
      "[      340.6      318.46      431.84      472.13          43]\n"
     ]
    },
    {
     "name": "stderr",
     "output_type": "stream",
     "text": [
      "0: 640x384 3 persons, 1 backpack, 672.7ms\n",
      "Speed: 14.0ms preprocess, 672.7ms inference, 11.5ms postprocess per image at shape (1, 3, 640, 384)\n",
      "\n"
     ]
    },
    {
     "name": "stdout",
     "output_type": "stream",
     "text": [
      "[     315.57      251.84      454.61      634.16          20]\n",
      "[     315.11      252.39      453.95      632.13          20]\n",
      "[     314.99      253.07      453.68      630.97          20]\n",
      "[     340.14      317.63      431.35      471.92          43]\n",
      "[     314.99      253.67      453.57      630.25          20]\n"
     ]
    },
    {
     "name": "stderr",
     "output_type": "stream",
     "text": [
      "0: 640x384 4 persons, 1 backpack, 688.5ms\n",
      "Speed: 16.0ms preprocess, 688.5ms inference, 14.0ms postprocess per image at shape (1, 3, 640, 384)\n"
     ]
    },
    {
     "name": "stdout",
     "output_type": "stream",
     "text": [
      "[     314.75      254.62       453.8      629.99          20]\n",
      "[     314.59      255.22      453.98      629.71          20]\n",
      "[     314.48      255.62      454.12      629.48          20]\n",
      "[     339.88       316.9      429.73      468.74          43]\n",
      "[      314.4       255.9      454.23      629.31          20]\n",
      "[     139.23      272.42      196.45      446.84          56]\n",
      "[     339.96      317.03      429.64      468.56          43]\n",
      "[     314.35       256.1      454.32      629.19          20]\n"
     ]
    },
    {
     "name": "stderr",
     "output_type": "stream",
     "text": [
      "\n",
      "0: 640x384 4 persons, 1 backpack, 867.8ms\n",
      "Speed: 16.0ms preprocess, 867.8ms inference, 12.0ms postprocess per image at shape (1, 3, 640, 384)\n"
     ]
    },
    {
     "name": "stdout",
     "output_type": "stream",
     "text": [
      "[     313.94       255.8      453.46      628.91          20]\n",
      "[     313.87       255.7      453.06      628.83          20]\n",
      "[      313.9      255.67      452.87      628.82          20]\n",
      "[     340.02       319.9      428.69       468.8          43]\n",
      "[     313.97      255.67      452.76      628.84          20]\n",
      "[     340.08      320.11      428.63      468.69          43]\n",
      "[     138.62      269.12      223.24      471.27          42]\n",
      "[     314.03      255.68       452.7      628.86          20]\n"
     ]
    },
    {
     "name": "stderr",
     "output_type": "stream",
     "text": [
      "\n",
      "0: 640x384 4 persons, 1 backpack, 1 dining table, 787.5ms\n",
      "Speed: 27.0ms preprocess, 787.5ms inference, 10.0ms postprocess per image at shape (1, 3, 640, 384)\n"
     ]
    },
    {
     "name": "stdout",
     "output_type": "stream",
     "text": [
      "[     313.89      256.44       452.2       628.8          20]\n",
      "[     313.91      256.87      451.95      628.65          20]\n",
      "[     313.97      257.15      451.82       628.5          20]\n",
      "[     339.24      320.48      427.54      468.42          43]\n",
      "[     314.04      257.34      451.75      628.38          20]\n",
      "[     133.59      267.82      199.19      444.01          56]\n",
      "[     339.23      320.51      427.53       468.4          43]\n",
      "[     314.09      257.47       451.7      628.29          20]\n",
      "[     133.36      268.18      199.46      443.37          56]\n",
      "[     339.24      320.53      427.52      468.39          43]\n",
      "[     148.31      265.23      224.72      444.39          42]\n",
      "[     314.13      257.56      451.67      628.22          20]\n"
     ]
    },
    {
     "name": "stderr",
     "output_type": "stream",
     "text": [
      "\n",
      "0: 640x384 4 persons, 1 backpack, 688.9ms\n",
      "Speed: 17.0ms preprocess, 688.9ms inference, 7.5ms postprocess per image at shape (1, 3, 640, 384)\n",
      "\n"
     ]
    },
    {
     "name": "stdout",
     "output_type": "stream",
     "text": [
      "[     314.17      259.01      451.66      628.75          20]\n",
      "[      314.2      259.73      451.64      628.79          20]\n",
      "[     314.22      260.12      451.64      628.69          20]\n",
      "[     339.15      324.63      426.68      468.34          43]\n",
      "[     314.23      260.35      451.64      628.57          20]\n",
      "[     129.96      268.63      190.72      439.93          56]\n",
      "[     339.19      324.95      426.64      468.11          43]\n",
      "[     314.24       260.5      451.64      628.47          20]\n"
     ]
    },
    {
     "name": "stderr",
     "output_type": "stream",
     "text": [
      "0: 640x384 4 persons, 1 backpack, 688.1ms\n",
      "Speed: 19.0ms preprocess, 688.1ms inference, 14.0ms postprocess per image at shape (1, 3, 640, 384)\n",
      "\n"
     ]
    },
    {
     "name": "stdout",
     "output_type": "stream",
     "text": [
      "[     313.12       260.9      448.86      628.09          20]\n",
      "[     312.98      261.19      447.52       627.8          20]\n",
      "[     313.15       261.4      446.81      627.59          20]\n",
      "[     339.13      324.64      425.73      467.44          43]\n",
      "[     313.38      261.56       446.4      627.44          20]\n",
      "[     128.51      267.54      199.19      443.17          56]\n",
      "[     339.17      324.63      425.68      467.42          43]\n",
      "[     313.58      261.67      446.14      627.33          20]\n"
     ]
    },
    {
     "name": "stderr",
     "output_type": "stream",
     "text": [
      "0: 640x384 3 persons, 1 backpack, 698.7ms\n",
      "Speed: 17.0ms preprocess, 698.7ms inference, 12.0ms postprocess per image at shape (1, 3, 640, 384)\n",
      "\n"
     ]
    },
    {
     "name": "stdout",
     "output_type": "stream",
     "text": [
      "[     314.32      263.78      447.36      628.49          20]\n",
      "[     314.53      264.74      447.91      628.76          20]\n",
      "[     314.55      265.21      448.19      628.75          20]\n",
      "[     119.56      266.64      185.18      445.21          56]\n",
      "[     314.51      265.47      448.34      628.65          20]\n"
     ]
    },
    {
     "name": "stderr",
     "output_type": "stream",
     "text": [
      "0: 640x384 4 persons, 1 backpack, 666.0ms\n",
      "Speed: 13.0ms preprocess, 666.0ms inference, 7.0ms postprocess per image at shape (1, 3, 640, 384)\n",
      "\n"
     ]
    },
    {
     "name": "stdout",
     "output_type": "stream",
     "text": [
      "[     313.71      266.56      446.58      628.91          20]\n",
      "[     313.57      267.12      445.75      628.85          20]\n",
      "[     313.65      267.43      445.32      628.72          20]\n",
      "[     111.97       271.1      177.14      471.07          56]\n",
      "[     313.77      267.62      445.08      628.58          20]\n",
      "[     111.92      269.84      176.93      472.98          56]\n",
      "[     337.17      326.61      422.66      466.45          43]\n",
      "[     313.89      267.74      444.93      628.47          20]\n"
     ]
    },
    {
     "name": "stderr",
     "output_type": "stream",
     "text": [
      "0: 640x384 3 persons, 1 backpack, 875.7ms\n",
      "Speed: 16.0ms preprocess, 875.7ms inference, 17.0ms postprocess per image at shape (1, 3, 640, 384)\n"
     ]
    },
    {
     "name": "stdout",
     "output_type": "stream",
     "text": [
      "[     313.42      268.95      443.44      629.21          20]\n",
      "[     313.42      269.48       442.7       629.4          20]\n",
      "[     313.56      269.73       442.3      629.41          20]\n",
      "[     103.45      265.87      182.59      474.97          56]\n",
      "[     313.72      269.86      442.07      629.36          20]\n"
     ]
    },
    {
     "name": "stderr",
     "output_type": "stream",
     "text": [
      "\n",
      "0: 640x384 3 persons, 1 backpack, 824.5ms\n",
      "Speed: 13.5ms preprocess, 824.5ms inference, 14.0ms postprocess per image at shape (1, 3, 640, 384)\n",
      "\n"
     ]
    },
    {
     "name": "stdout",
     "output_type": "stream",
     "text": [
      "[     314.31      270.02      442.11      628.57          20]\n",
      "[     314.65      270.24      442.03      628.09          20]\n",
      "[     314.85      270.44      441.93      627.78          20]\n",
      "[     97.871      265.26      180.34      476.26          56]\n",
      "[     314.98      270.59      441.85      627.58          20]\n"
     ]
    },
    {
     "name": "stderr",
     "output_type": "stream",
     "text": [
      "0: 640x384 3 persons, 1 backpack, 1 dining table, 919.9ms\n",
      "Speed: 20.0ms preprocess, 919.9ms inference, 14.0ms postprocess per image at shape (1, 3, 640, 384)\n",
      "\n"
     ]
    },
    {
     "name": "stdout",
     "output_type": "stream",
     "text": [
      "[     314.42      270.79      441.13       626.7          20]\n",
      "[     314.24      271.05      440.84      626.17          20]\n",
      "[      314.2      271.28      440.71      625.84          20]\n",
      "[     91.129      262.57      178.06      472.76          56]\n",
      "[      314.2      271.47      440.66      625.61          20]\n",
      "[     154.71      265.11      223.07      470.61          57]\n",
      "[     90.774      262.59      178.29      472.58          56]\n",
      "[     314.21       271.6      440.63      625.45          20]\n"
     ]
    },
    {
     "name": "stderr",
     "output_type": "stream",
     "text": [
      "0: 640x384 3 persons, 1 backpack, 925.2ms\n",
      "Speed: 16.0ms preprocess, 925.2ms inference, 16.0ms postprocess per image at shape (1, 3, 640, 384)\n",
      "\n"
     ]
    },
    {
     "name": "stdout",
     "output_type": "stream",
     "text": [
      "[     312.74      270.95      438.85      623.48          20]\n",
      "[     312.24      270.93      438.12      622.51          20]\n",
      "[     312.09      271.09      437.82      621.98          20]\n",
      "[     86.144      261.61      178.09      471.43          56]\n",
      "[     312.08      271.28      437.69      621.66          20]\n"
     ]
    },
    {
     "name": "stderr",
     "output_type": "stream",
     "text": [
      "0: 640x384 3 persons, 1 backpack, 846.0ms\n",
      "Speed: 15.0ms preprocess, 846.0ms inference, 12.0ms postprocess per image at shape (1, 3, 640, 384)\n"
     ]
    },
    {
     "name": "stdout",
     "output_type": "stream",
     "text": [
      "[     311.91      271.06      437.16      620.53          20]\n",
      "[     311.92      271.14      436.91      619.94          20]\n",
      "[     311.98      271.29      436.78      619.61          20]\n",
      "[     79.088      261.02      175.19      467.92          56]\n",
      "[     312.04      271.44       436.7      619.41          20]\n"
     ]
    },
    {
     "name": "stderr",
     "output_type": "stream",
     "text": [
      "\n",
      "0: 640x384 3 persons, 1 backpack, 951.6ms\n",
      "Speed: 18.0ms preprocess, 951.6ms inference, 12.0ms postprocess per image at shape (1, 3, 640, 384)\n",
      "\n"
     ]
    },
    {
     "name": "stdout",
     "output_type": "stream",
     "text": [
      "[     311.61      271.01      434.53      617.87          20]\n",
      "[     311.76      271.06      433.41      617.08          20]\n",
      "[     312.05      271.23      432.77      616.65          20]\n",
      "[     72.956      261.61      177.26      473.29          56]\n",
      "[     312.33      271.41      432.38      616.38          20]\n"
     ]
    },
    {
     "name": "stderr",
     "output_type": "stream",
     "text": [
      "0: 640x384 3 persons, 1 backpack, 994.0ms\n",
      "Speed: 28.0ms preprocess, 994.0ms inference, 18.0ms postprocess per image at shape (1, 3, 640, 384)\n"
     ]
    },
    {
     "name": "stdout",
     "output_type": "stream",
     "text": [
      "[     311.52      268.55      428.61      610.74          20]\n",
      "[     311.74      267.99      426.66      608.09          20]\n",
      "[     312.22      268.18      425.56      606.73          20]\n",
      "[     66.136      259.85      175.15      472.22          56]\n",
      "[     312.69      268.56      424.89      605.95          20]\n"
     ]
    },
    {
     "name": "stderr",
     "output_type": "stream",
     "text": [
      "\n",
      "0: 640x384 3 persons, 1 backpack, 1 dining table, 846.5ms\n",
      "Speed: 19.0ms preprocess, 846.5ms inference, 16.0ms postprocess per image at shape (1, 3, 640, 384)\n"
     ]
    },
    {
     "name": "stdout",
     "output_type": "stream",
     "text": [
      "[     61.518      262.01      173.76      477.17          56]\n",
      "[     59.268      262.41      173.79      479.46          56]\n",
      "[     58.064      262.25      174.22      480.63          56]\n",
      "[     57.363      261.96       174.7      481.27          56]\n",
      "[      312.4      269.85      421.19      605.64          20]\n",
      "[     154.84      263.02      223.01         469          57]\n",
      "[     56.928      261.69      175.11      481.65          56]\n",
      "[      312.6      269.95      420.93       605.6          20]\n"
     ]
    },
    {
     "name": "stderr",
     "output_type": "stream",
     "text": [
      "\n",
      "0: 640x384 3 persons, 1 backpack, 876.5ms\n",
      "Speed: 27.0ms preprocess, 876.5ms inference, 14.0ms postprocess per image at shape (1, 3, 640, 384)\n",
      "\n"
     ]
    },
    {
     "name": "stdout",
     "output_type": "stream",
     "text": [
      "[     312.87      269.37      420.03      602.96          20]\n",
      "[     313.18      269.53      419.49      601.61          20]\n",
      "[     313.46      269.87      419.16      600.85          20]\n",
      "[     52.936      261.43       171.3      483.87          56]\n",
      "[     313.68       270.2      418.94      600.39          20]\n"
     ]
    },
    {
     "name": "stderr",
     "output_type": "stream",
     "text": [
      "0: 640x384 3 persons, 1 backpack, 1 dining table, 1039.8ms\n",
      "Speed: 19.0ms preprocess, 1039.8ms inference, 11.0ms postprocess per image at shape (1, 3, 640, 384)\n"
     ]
    },
    {
     "name": "stdout",
     "output_type": "stream",
     "text": [
      "[     312.83      268.15      417.21      597.19          20]\n",
      "[     312.66      267.59      416.41      595.79          20]\n",
      "[     312.73      267.55      416.01      595.13          20]\n",
      "[     50.268       262.2      169.98      486.08          56]\n",
      "[     312.84      267.66      415.79       594.8          20]\n",
      "[     148.22      262.97      222.54       470.1          57]\n",
      "[     50.187      262.17      170.04      486.16          56]\n",
      "[     312.96      267.79      415.66      594.62          20]\n"
     ]
    },
    {
     "name": "stderr",
     "output_type": "stream",
     "text": [
      "\n",
      "0: 640x384 3 persons, 1 backpack, 1 dining table, 823.8ms\n",
      "Speed: 16.0ms preprocess, 823.8ms inference, 23.0ms postprocess per image at shape (1, 3, 640, 384)\n"
     ]
    },
    {
     "name": "stdout",
     "output_type": "stream",
     "text": [
      "[     312.76      266.21      413.92      590.34          20]\n",
      "[     312.97      266.12      412.99      588.25          20]\n",
      "[     313.26      266.47      412.46      587.12          20]\n",
      "[     47.289      261.98      168.11      486.27          56]\n",
      "[     313.53      266.89      412.12      586.46          20]\n",
      "[      143.7      262.76      224.04      474.33          57]\n",
      "[     47.217      261.99      168.13      486.23          56]\n",
      "[     313.75      267.26       411.9      586.04          20]\n"
     ]
    },
    {
     "name": "stderr",
     "output_type": "stream",
     "text": [
      "\n",
      "0: 640x384 3 persons, 1 backpack, 1 dining table, 822.7ms\n",
      "Speed: 14.0ms preprocess, 822.7ms inference, 12.0ms postprocess per image at shape (1, 3, 640, 384)\n"
     ]
    },
    {
     "name": "stdout",
     "output_type": "stream",
     "text": [
      "[     312.88      266.99      410.17      584.37          20]\n",
      "[     312.72      267.16      409.38      583.51          20]\n",
      "[     312.78      267.43      408.98      583.02          20]\n",
      "[     43.152      262.79       164.3       490.4          56]\n",
      "[     312.89      267.68      408.76      582.73          20]\n",
      "[     140.26      260.89      224.48      472.17          57]\n",
      "[     43.097      262.63      164.23      490.65          56]\n",
      "[     313.01      267.88      408.63      582.55          20]\n"
     ]
    },
    {
     "name": "stderr",
     "output_type": "stream",
     "text": [
      "\n",
      "0: 640x384 3 persons, 1 backpack, 1 dining table, 780.4ms\n",
      "Speed: 19.0ms preprocess, 780.4ms inference, 15.0ms postprocess per image at shape (1, 3, 640, 384)\n"
     ]
    },
    {
     "name": "stdout",
     "output_type": "stream",
     "text": [
      "[     42.075      262.12      162.64      489.87          56]\n",
      "[     41.806      261.97      161.96      489.51          56]\n",
      "[     41.799      261.94      161.65      489.34          56]\n",
      "[     41.871      261.96       161.5      489.23          56]\n",
      "[     313.11      268.38      407.61      582.21          20]\n",
      "[     137.84      261.37       223.9      474.64          57]\n",
      "[     41.959      261.98      161.42      489.17          56]\n",
      "[     313.18       268.4      407.55      582.23          20]\n"
     ]
    },
    {
     "name": "stderr",
     "output_type": "stream",
     "text": [
      "\n",
      "0: 640x384 3 persons, 1 backpack, 1 dining table, 786.7ms\n",
      "Speed: 14.0ms preprocess, 786.7ms inference, 12.0ms postprocess per image at shape (1, 3, 640, 384)\n"
     ]
    },
    {
     "name": "stdout",
     "output_type": "stream",
     "text": [
      "[     313.05      268.06      407.05      581.31          20]\n",
      "[     313.07      268.04       406.8      580.86          20]\n",
      "[     313.13      268.11      406.67      580.64          20]\n",
      "[     39.159      263.19      158.35      490.92          56]\n",
      "[     313.19       268.2      406.59      580.51          20]\n",
      "[     135.01      261.85      223.73      474.21          57]\n",
      "[     39.156      263.21      158.27      490.95          56]\n",
      "[     313.25      268.27      406.55      580.44          20]\n"
     ]
    },
    {
     "name": "stderr",
     "output_type": "stream",
     "text": [
      "\n",
      "0: 640x384 3 persons, 1 backpack, 1 dining table, 1045.4ms\n",
      "Speed: 21.0ms preprocess, 1045.4ms inference, 16.0ms postprocess per image at shape (1, 3, 640, 384)\n"
     ]
    },
    {
     "name": "stdout",
     "output_type": "stream",
     "text": [
      "[     312.53      268.83      404.67      580.55          20]\n",
      "[     312.47      269.13      403.75      580.52          20]\n",
      "[      312.6       269.3      403.27      580.46          20]\n",
      "[     31.877         263      149.55      490.13          56]\n",
      "[     312.77      269.41      402.99      580.41          20]\n",
      "[     132.06      261.99      223.67      474.05          57]\n",
      "[     31.848      263.06      149.29      490.04          56]\n",
      "[     312.92      269.48      402.82      580.37          20]\n"
     ]
    },
    {
     "name": "stderr",
     "output_type": "stream",
     "text": [
      "\n",
      "0: 640x384 4 persons, 1 handbag, 1 dining table, 1204.4ms\n",
      "Speed: 36.0ms preprocess, 1204.4ms inference, 13.0ms postprocess per image at shape (1, 3, 640, 384)\n"
     ]
    },
    {
     "name": "stdout",
     "output_type": "stream",
     "text": [
      "[     28.643      263.38      145.91       489.7          56]\n",
      "[     27.487      263.62      144.63      489.46          56]\n",
      "[     27.107      263.79      144.16      489.28          56]\n",
      "[     27.015      263.91         144      489.14          56]\n",
      "[     311.73      270.58      399.03      580.34          20]\n",
      "[     128.06      262.05      222.64      473.98          57]\n",
      "[     27.027      264.01      143.96      489.05          56]\n",
      "[     311.86      270.61      398.81      580.33          20]\n",
      "[     127.88       262.1      222.78      473.92          57]\n",
      "[     27.072      264.08      143.96      488.97          56]\n",
      "[     311.98      270.64      398.68      580.32          20]\n"
     ]
    },
    {
     "name": "stderr",
     "output_type": "stream",
     "text": [
      "\n",
      "0: 640x384 4 persons, 1 backpack, 1036.9ms\n",
      "Speed: 30.0ms preprocess, 1036.9ms inference, 22.0ms postprocess per image at shape (1, 3, 640, 384)\n"
     ]
    },
    {
     "name": "stdout",
     "output_type": "stream",
     "text": [
      "[     24.703      264.13      141.84      488.91          56]\n",
      "[      23.79      264.17       141.1      488.87          56]\n",
      "[     23.444       264.2      140.88      488.84          56]\n",
      "[     23.322      264.22      140.84      488.81          56]\n",
      "[     312.76      271.49      396.99      579.48          20]\n",
      "[     125.03       261.8      222.68      472.18          57]\n",
      "[     23.289      264.24      140.87      488.79          56]\n",
      "[     312.92      271.56      396.83      579.42          20]\n"
     ]
    },
    {
     "name": "stderr",
     "output_type": "stream",
     "text": [
      "\n",
      "0: 640x384 4 persons, 1 backpack, 1 dining table, 1061.9ms\n",
      "Speed: 15.0ms preprocess, 1061.9ms inference, 13.0ms postprocess per image at shape (1, 3, 640, 384)\n"
     ]
    },
    {
     "name": "stdout",
     "output_type": "stream",
     "text": [
      "[     20.954      264.26      138.03      488.76          56]\n",
      "[     20.183      264.28      136.89      488.74          56]\n",
      "[     19.986       264.3      136.42      488.72          56]\n",
      "[     19.989      264.31      136.22      488.71          56]\n",
      "[     312.09      272.95      394.71      577.03          20]\n",
      "[     119.48      262.73       222.2      471.22          57]\n",
      "[     20.053      264.32      136.13       488.7          56]\n",
      "[     312.14      273.15      394.61      576.81          20]\n",
      "[     119.16      262.88      222.45      471.07          57]\n",
      "[     20.129      264.33       136.1      488.68          56]\n",
      "[     319.04      321.32      388.69      442.79          43]\n",
      "[      312.2       273.3      394.55      576.65          20]\n"
     ]
    },
    {
     "name": "stderr",
     "output_type": "stream",
     "text": [
      "\n",
      "0: 640x384 3 persons, 1 handbag, 1140.3ms\n",
      "Speed: 16.0ms preprocess, 1140.3ms inference, 11.0ms postprocess per image at shape (1, 3, 640, 384)\n",
      "\n"
     ]
    },
    {
     "name": "stdout",
     "output_type": "stream",
     "text": [
      "[     17.589      264.34      133.47      488.67          56]\n",
      "[     16.664      264.35      132.48      488.66          56]\n",
      "[     16.352      264.36      132.12      488.65          56]\n",
      "[     16.269      264.37         132      488.64          56]\n",
      "[     311.85      274.22      391.95      574.73          20]\n"
     ]
    },
    {
     "name": "stderr",
     "output_type": "stream",
     "text": [
      "0: 640x384 3 persons, 985.4ms\n",
      "Speed: 34.0ms preprocess, 985.4ms inference, 12.0ms postprocess per image at shape (1, 3, 640, 384)\n",
      "\n"
     ]
    },
    {
     "name": "stdout",
     "output_type": "stream",
     "text": [
      "[     13.847      264.37      129.83      488.64          56]\n",
      "[     12.911      264.38      129.07      488.63          56]\n",
      "[     12.554      264.38      128.84      488.62          56]\n"
     ]
    },
    {
     "name": "stderr",
     "output_type": "stream",
     "text": [
      "0: 640x384 4 persons, 799.5ms\n",
      "Speed: 14.0ms preprocess, 799.5ms inference, 14.0ms postprocess per image at shape (1, 3, 640, 384)\n"
     ]
    },
    {
     "name": "stdout",
     "output_type": "stream",
     "text": [
      "[     8.6957      263.27      125.35      487.78          56]\n",
      "[     7.1979       262.8      124.11       487.5          56]\n",
      "[     6.6191       262.6      123.73      487.43          56]\n",
      "[     6.4017       262.5      123.65      487.43          56]\n",
      "[     311.51      277.42      385.22      573.65          20]\n"
     ]
    },
    {
     "name": "stderr",
     "output_type": "stream",
     "text": [
      "\n",
      "0: 640x384 4 persons, 824.9ms\n",
      "Speed: 16.0ms preprocess, 824.9ms inference, 16.0ms postprocess per image at shape (1, 3, 640, 384)\n",
      "\n"
     ]
    },
    {
     "name": "stdout",
     "output_type": "stream",
     "text": [
      "[     4.1674      261.38      121.26      488.53          56]\n",
      "[     3.3829      260.56      120.36      489.34          56]\n",
      "[     3.1436      259.96      120.03      489.94          56]\n",
      "[     3.1044      259.53      119.92      490.38          56]\n",
      "[     312.58      279.51      383.09      572.51          20]\n"
     ]
    },
    {
     "name": "stderr",
     "output_type": "stream",
     "text": [
      "0: 640x384 4 persons, 814.7ms\n",
      "Speed: 16.0ms preprocess, 814.7ms inference, 15.0ms postprocess per image at shape (1, 3, 640, 384)\n"
     ]
    },
    {
     "name": "stdout",
     "output_type": "stream",
     "text": [
      "[     1.3181      258.36      116.49      492.87          56]\n",
      "[    0.97011      257.22      114.92       494.5          56]\n",
      "[     1.0923      256.28      114.14      495.64          56]\n",
      "[     1.3339      255.54      113.71      496.45          56]\n",
      "[     312.82       280.6      380.92      570.43          20]\n"
     ]
    },
    {
     "name": "stderr",
     "output_type": "stream",
     "text": [
      "\n",
      "0: 640x384 4 persons, 941.8ms\n",
      "Speed: 20.0ms preprocess, 941.8ms inference, 16.0ms postprocess per image at shape (1, 3, 640, 384)\n"
     ]
    },
    {
     "name": "stdout",
     "output_type": "stream",
     "text": [
      "[    0.41473      258.53      110.71      503.28          56]\n",
      "[    0.47197      258.92      109.22       506.6          56]\n",
      "[    0.80193       258.5      108.41      508.39          56]\n",
      "[     1.1608      257.92      107.94      509.46          56]\n",
      "[     313.57      280.89      378.19      568.08          20]\n"
     ]
    },
    {
     "name": "stderr",
     "output_type": "stream",
     "text": [
      "\n",
      "0: 640x384 4 persons, 1058.2ms\n",
      "Speed: 48.0ms preprocess, 1058.2ms inference, 18.0ms postprocess per image at shape (1, 3, 640, 384)\n",
      "\n"
     ]
    },
    {
     "name": "stdout",
     "output_type": "stream",
     "text": [
      "[   -0.78653      257.76      104.02      511.73          56]\n",
      "[     -1.147      257.22      102.21      513.03          56]\n",
      "[   -0.99491      256.65       101.3      513.84          56]\n",
      "[   -0.71728      256.17       100.8      514.38          56]\n",
      "[     313.83      280.33      375.93      562.55          20]\n"
     ]
    },
    {
     "name": "stderr",
     "output_type": "stream",
     "text": [
      "0: 640x384 4 persons, 971.5ms\n",
      "Speed: 15.0ms preprocess, 971.5ms inference, 18.0ms postprocess per image at shape (1, 3, 640, 384)\n",
      "\n"
     ]
    },
    {
     "name": "stdout",
     "output_type": "stream",
     "text": [
      "[    -2.4262      257.08      96.614      516.72          56]\n",
      "[    -2.6072      257.14      94.619      517.86          56]\n",
      "[    -2.3219      256.94      93.577      518.48          56]\n",
      "[    -1.9464      256.69      92.983      518.85          56]\n",
      "[     313.74      281.56      373.02      563.21          20]\n"
     ]
    },
    {
     "name": "stderr",
     "output_type": "stream",
     "text": [
      "0: 640x384 4 persons, 890.1ms\n",
      "Speed: 15.0ms preprocess, 890.1ms inference, 15.0ms postprocess per image at shape (1, 3, 640, 384)\n"
     ]
    },
    {
     "name": "stdout",
     "output_type": "stream",
     "text": [
      "[    -2.9281      256.06      89.375      518.83          56]\n",
      "[    -2.8081      255.69      87.577      518.93          56]\n",
      "[    -2.3922      255.44      86.593      519.04          56]\n",
      "[     71.527      254.73      187.26      444.87          57]\n",
      "[    -1.9558      255.27      86.006      519.14          56]\n"
     ]
    },
    {
     "name": "stderr",
     "output_type": "stream",
     "text": [
      "\n",
      "0: 640x384 4 persons, 1266.3ms\n",
      "Speed: 16.0ms preprocess, 1266.3ms inference, 15.0ms postprocess per image at shape (1, 3, 640, 384)\n",
      "\n"
     ]
    },
    {
     "name": "stdout",
     "output_type": "stream",
     "text": [
      "[    -3.0944      254.59      81.925      517.81          56]\n",
      "[    -2.9799      254.46      79.891      517.17          56]\n",
      "[     -2.526      254.49      78.776      516.82          56]\n",
      "[    -2.0461      254.58      78.111      516.61          56]\n",
      "[     312.57      281.87      363.99      552.84          20]\n"
     ]
    },
    {
     "name": "stderr",
     "output_type": "stream",
     "text": [
      "0: 640x384 4 persons, 995.0ms\n",
      "Speed: 15.0ms preprocess, 995.0ms inference, 14.4ms postprocess per image at shape (1, 3, 640, 384)\n"
     ]
    },
    {
     "name": "stdout",
     "output_type": "stream",
     "text": [
      "[    -3.3382      252.22      73.517      511.73          56]\n",
      "[    -3.2165      251.84      71.225      509.37          56]\n",
      "[     -2.711      252.08      69.965      508.11          56]\n",
      "[    -2.1751      252.47      69.212      507.35          56]\n",
      "[     313.83      281.29      362.81      548.36          20]\n"
     ]
    },
    {
     "name": "stderr",
     "output_type": "stream",
     "text": [
      "\n",
      "0: 640x384 4 persons, 878.5ms\n",
      "Speed: 14.0ms preprocess, 878.5ms inference, 12.0ms postprocess per image at shape (1, 3, 640, 384)\n",
      "\n"
     ]
    },
    {
     "name": "stdout",
     "output_type": "stream",
     "text": [
      "[    -2.6615      252.96      66.414      505.44          56]\n",
      "[    -2.4083      253.63      64.977      504.25          56]\n",
      "[    -1.9833      254.24      64.167      503.47          56]\n",
      "[     52.192      252.74      171.67      456.68          57]\n",
      "[    -1.5748      254.74      63.673      502.92          56]\n"
     ]
    },
    {
     "name": "stderr",
     "output_type": "stream",
     "text": [
      "0: 640x384 4 persons, 1195.4ms\n",
      "Speed: 21.0ms preprocess, 1195.4ms inference, 14.0ms postprocess per image at shape (1, 3, 640, 384)\n"
     ]
    },
    {
     "name": "stdout",
     "output_type": "stream",
     "text": [
      "[     48.487      251.29      168.57      453.23          57]\n",
      "[     47.034      251.07      167.54      451.61          57]\n",
      "[     46.466      251.22      167.27      450.77          57]\n",
      "[      46.25      251.46      167.27       450.3          57]\n",
      "[    -2.2087      255.46      55.455      506.32          56]\n"
     ]
    },
    {
     "name": "stderr",
     "output_type": "stream",
     "text": [
      "\n",
      "0: 640x384 2 persons, 994.5ms\n",
      "Speed: 28.0ms preprocess, 994.5ms inference, 15.0ms postprocess per image at shape (1, 3, 640, 384)\n",
      "\n"
     ]
    },
    {
     "name": "stdout",
     "output_type": "stream",
     "text": [
      "[     42.442      252.35      163.91       452.6          57]\n",
      "[     40.968      252.45      162.75      453.73          57]\n"
     ]
    },
    {
     "name": "stderr",
     "output_type": "stream",
     "text": [
      "0: 640x384 3 persons, 1208.3ms\n",
      "Speed: 20.0ms preprocess, 1208.3ms inference, 15.0ms postprocess per image at shape (1, 3, 640, 384)\n"
     ]
    },
    {
     "name": "stdout",
     "output_type": "stream",
     "text": [
      "[     36.018      251.58      158.32      454.43          57]\n",
      "[     34.107      250.97      156.78      454.97          57]\n",
      "[     33.378      250.55      156.32      455.38          57]\n"
     ]
    },
    {
     "name": "stderr",
     "output_type": "stream",
     "text": [
      "\n",
      "0: 640x384 2 persons, 825.1ms\n",
      "Speed: 17.4ms preprocess, 825.1ms inference, 17.9ms postprocess per image at shape (1, 3, 640, 384)\n",
      "\n"
     ]
    },
    {
     "name": "stdout",
     "output_type": "stream",
     "text": [
      "[     27.589       252.8      151.32      460.97          57]\n",
      "[     25.324      253.06      149.61      463.67          57]\n"
     ]
    },
    {
     "name": "stderr",
     "output_type": "stream",
     "text": [
      "0: 640x384 2 persons, 880.6ms\n",
      "Speed: 20.0ms preprocess, 880.6ms inference, 12.0ms postprocess per image at shape (1, 3, 640, 384)\n",
      "\n"
     ]
    },
    {
     "name": "stdout",
     "output_type": "stream",
     "text": [
      "[     21.364      252.72      146.32      465.12          57]\n",
      "[     19.816      252.26      145.25      465.97          57]\n"
     ]
    },
    {
     "name": "stderr",
     "output_type": "stream",
     "text": [
      "0: 640x384 2 persons, 950.2ms\n",
      "Speed: 15.0ms preprocess, 950.2ms inference, 12.0ms postprocess per image at shape (1, 3, 640, 384)\n",
      "\n"
     ]
    },
    {
     "name": "stdout",
     "output_type": "stream",
     "text": [
      "[      15.48      252.61      141.55      468.36          57]\n",
      "[     13.798      252.37      140.33      469.61          57]\n"
     ]
    },
    {
     "name": "stderr",
     "output_type": "stream",
     "text": [
      "0: 640x384 2 persons, 849.6ms\n",
      "Speed: 16.0ms preprocess, 849.6ms inference, 17.0ms postprocess per image at shape (1, 3, 640, 384)\n",
      "\n"
     ]
    },
    {
     "name": "stdout",
     "output_type": "stream",
     "text": [
      "[     9.0672       251.5      137.57      470.17          57]\n",
      "[     7.0021      250.92      136.94       470.6          57]\n"
     ]
    },
    {
     "name": "stderr",
     "output_type": "stream",
     "text": [
      "0: 640x384 2 persons, 793.6ms\n",
      "Speed: 24.0ms preprocess, 793.6ms inference, 19.0ms postprocess per image at shape (1, 3, 640, 384)\n",
      "\n"
     ]
    },
    {
     "name": "stdout",
     "output_type": "stream",
     "text": [
      "[     4.3536      250.44       134.8      471.66          57]\n",
      "[     3.3363      249.99      134.14      472.31          57]\n"
     ]
    },
    {
     "name": "stderr",
     "output_type": "stream",
     "text": [
      "0: 640x384 2 persons, 875.5ms\n",
      "Speed: 15.0ms preprocess, 875.5ms inference, 15.0ms postprocess per image at shape (1, 3, 640, 384)\n",
      "\n"
     ]
    },
    {
     "name": "stdout",
     "output_type": "stream",
     "text": [
      "[  -0.026548      250.43      130.49      471.91          57]\n",
      "[    -1.1785      250.74      129.12       471.6          57]\n"
     ]
    },
    {
     "name": "stderr",
     "output_type": "stream",
     "text": [
      "0: 640x384 2 persons, 946.5ms\n",
      "Speed: 16.0ms preprocess, 946.5ms inference, 12.0ms postprocess per image at shape (1, 3, 640, 384)\n",
      "\n"
     ]
    },
    {
     "name": "stdout",
     "output_type": "stream",
     "text": [
      "[    -2.4519      251.15      126.31      471.82          57]\n",
      "[    -2.5957      251.34      125.05      471.85          57]\n"
     ]
    },
    {
     "name": "stderr",
     "output_type": "stream",
     "text": [
      "0: 640x384 2 persons, 967.8ms\n",
      "Speed: 15.0ms preprocess, 967.8ms inference, 16.0ms postprocess per image at shape (1, 3, 640, 384)\n",
      "\n"
     ]
    },
    {
     "name": "stdout",
     "output_type": "stream",
     "text": [
      "[    -2.9528       251.7      123.05      471.56          57]\n",
      "[    -2.7348      251.95      122.07      471.32          57]\n"
     ]
    },
    {
     "name": "stderr",
     "output_type": "stream",
     "text": [
      "0: 640x384 2 persons, 1286.8ms\n",
      "Speed: 18.0ms preprocess, 1286.8ms inference, 27.0ms postprocess per image at shape (1, 3, 640, 384)\n",
      "\n"
     ]
    },
    {
     "name": "stdout",
     "output_type": "stream",
     "text": [
      "[     -3.622      251.68      117.56      470.91          57]\n",
      "[    -3.2647      251.61      115.28      470.73          57]\n"
     ]
    },
    {
     "name": "stderr",
     "output_type": "stream",
     "text": [
      "0: 640x384 2 persons, 1 refrigerator, 1553.2ms\n",
      "Speed: 33.0ms preprocess, 1553.2ms inference, 17.0ms postprocess per image at shape (1, 3, 640, 384)\n"
     ]
    },
    {
     "name": "stdout",
     "output_type": "stream",
     "text": [
      "[    -4.0167       251.6       111.5      470.62          57]\n",
      "[    -3.7126      251.61       109.6      470.55          57]\n",
      "[     -3.151      251.63      108.55      470.51          57]\n"
     ]
    },
    {
     "name": "stderr",
     "output_type": "stream",
     "text": [
      "\n",
      "0: 640x384 2 persons, 1149.8ms\n",
      "Speed: 67.0ms preprocess, 1149.8ms inference, 13.0ms postprocess per image at shape (1, 3, 640, 384)\n",
      "\n"
     ]
    },
    {
     "name": "stdout",
     "output_type": "stream",
     "text": [
      "[    -3.7386      252.06      105.14      471.37          57]\n",
      "[    -3.4145      252.14      103.41      471.77          57]\n"
     ]
    },
    {
     "name": "stderr",
     "output_type": "stream",
     "text": [
      "0: 640x384 2 persons, 926.5ms\n",
      "Speed: 21.0ms preprocess, 926.5ms inference, 11.0ms postprocess per image at shape (1, 3, 640, 384)\n",
      "\n"
     ]
    },
    {
     "name": "stdout",
     "output_type": "stream",
     "text": [
      "[    -3.8266      252.33      100.13      472.41          57]\n",
      "[    -3.4285       252.3      98.429      472.73          57]\n"
     ]
    },
    {
     "name": "stderr",
     "output_type": "stream",
     "text": [
      "0: 640x384 2 persons, 885.1ms\n",
      "Speed: 15.0ms preprocess, 885.1ms inference, 12.0ms postprocess per image at shape (1, 3, 640, 384)\n",
      "\n"
     ]
    },
    {
     "name": "stdout",
     "output_type": "stream",
     "text": [
      "[    -4.1881      252.66      94.225      473.78          57]\n",
      "[    -3.8225      252.66      92.076      474.31          57]\n"
     ]
    },
    {
     "name": "stderr",
     "output_type": "stream",
     "text": [
      "0: 640x384 2 persons, 1 refrigerator, 816.5ms\n",
      "Speed: 14.0ms preprocess, 816.5ms inference, 11.0ms postprocess per image at shape (1, 3, 640, 384)\n",
      "\n"
     ]
    },
    {
     "name": "stdout",
     "output_type": "stream",
     "text": [
      "[    -4.1432      252.53      88.557      475.27          57]\n",
      "[    -3.6536      252.26      86.711      475.84          57]\n",
      "[    -3.0082      251.99       85.65      476.22          57]\n"
     ]
    },
    {
     "name": "stderr",
     "output_type": "stream",
     "text": [
      "0: 640x384 2 persons, 1 refrigerator, 607.0ms\n",
      "Speed: 15.0ms preprocess, 607.0ms inference, 9.0ms postprocess per image at shape (1, 3, 640, 384)\n",
      "\n"
     ]
    },
    {
     "name": "stdout",
     "output_type": "stream",
     "text": [
      "[    -3.3672      251.54       82.68      476.69          57]\n",
      "[    -3.0007      251.18       81.14      477.04          57]\n",
      "[    -2.4829       250.9      80.265       477.3          57]\n"
     ]
    },
    {
     "name": "stderr",
     "output_type": "stream",
     "text": [
      "0: 640x384 2 persons, 1 refrigerator, 758.8ms\n",
      "Speed: 16.0ms preprocess, 758.8ms inference, 9.0ms postprocess per image at shape (1, 3, 640, 384)\n",
      "\n"
     ]
    },
    {
     "name": "stdout",
     "output_type": "stream",
     "text": [
      "[    -2.3818      250.45      78.806      477.74          57]\n",
      "[    -2.0308       250.1      78.018      478.07          57]\n",
      "[    -1.6609      249.84      77.556      478.31          57]\n"
     ]
    },
    {
     "name": "stderr",
     "output_type": "stream",
     "text": [
      "0: 640x384 2 persons, 1 refrigerator, 659.0ms\n",
      "Speed: 14.0ms preprocess, 659.0ms inference, 14.0ms postprocess per image at shape (1, 3, 640, 384)\n",
      "\n"
     ]
    },
    {
     "name": "stdout",
     "output_type": "stream",
     "text": [
      "[    -1.9085      250.12      75.878      478.67          57]\n",
      "[    -1.7197      250.21      75.023      478.81          57]\n",
      "[     -1.434      250.23      74.547      478.87          57]\n"
     ]
    },
    {
     "name": "stderr",
     "output_type": "stream",
     "text": [
      "0: 640x384 2 persons, 1 refrigerator, 627.3ms\n",
      "Speed: 18.0ms preprocess, 627.3ms inference, 10.0ms postprocess per image at shape (1, 3, 640, 384)\n",
      "\n"
     ]
    },
    {
     "name": "stdout",
     "output_type": "stream",
     "text": [
      "[    -2.6801      251.13      70.555      479.95          57]\n",
      "[    -2.6424      251.44      68.589      480.39          57]\n",
      "[    -2.2445      251.52      67.526      480.58          57]\n"
     ]
    },
    {
     "name": "stderr",
     "output_type": "stream",
     "text": [
      "0: 640x384 2 persons, 1 sink, 741.5ms\n",
      "Speed: 13.0ms preprocess, 741.5ms inference, 14.0ms postprocess per image at shape (1, 3, 640, 384)\n",
      "\n"
     ]
    },
    {
     "name": "stdout",
     "output_type": "stream",
     "text": [
      "[    -2.5698      248.19       65.05      478.76          57]\n",
      "[    -2.2846      246.63      63.765      478.37          57]\n",
      "[    -1.8694      245.82      63.033      478.45          57]\n"
     ]
    },
    {
     "name": "stderr",
     "output_type": "stream",
     "text": [
      "0: 640x384 3 persons, 963.7ms\n",
      "Speed: 14.0ms preprocess, 963.7ms inference, 12.9ms postprocess per image at shape (1, 3, 640, 384)\n",
      "\n"
     ]
    },
    {
     "name": "stdout",
     "output_type": "stream",
     "text": [
      "[    -2.4287      246.71      60.267      479.89          57]\n",
      "[    -2.2254      246.94       58.86      480.56          57]\n",
      "[    -1.8361      246.95      58.075      480.89          57]\n"
     ]
    },
    {
     "name": "stderr",
     "output_type": "stream",
     "text": [
      "0: 640x384 3 persons, 600.0ms\n",
      "Speed: 20.0ms preprocess, 600.0ms inference, 11.0ms postprocess per image at shape (1, 3, 640, 384)\n",
      "\n"
     ]
    },
    {
     "name": "stdout",
     "output_type": "stream",
     "text": [
      "[    -1.8339      247.76      56.674      482.17          57]\n",
      "[    -1.5602      247.98      55.924      482.74          57]\n",
      "[    -1.2509      247.99      55.487      483.02          57]\n"
     ]
    },
    {
     "name": "stderr",
     "output_type": "stream",
     "text": [
      "0: 640x384 3 persons, 729.5ms\n",
      "Speed: 15.0ms preprocess, 729.5ms inference, 11.0ms postprocess per image at shape (1, 3, 640, 384)\n",
      "\n"
     ]
    },
    {
     "name": "stdout",
     "output_type": "stream",
     "text": [
      "[    -1.5462      249.53      53.824      484.18          57]\n",
      "[    -1.3954      250.18      52.978      484.55          57]\n",
      "[    -1.1402      250.47      52.506      484.63          57]\n"
     ]
    },
    {
     "name": "stderr",
     "output_type": "stream",
     "text": [
      "0: 640x384 3 persons, 674.7ms\n",
      "Speed: 15.0ms preprocess, 674.7ms inference, 13.4ms postprocess per image at shape (1, 3, 640, 384)\n",
      "\n"
     ]
    },
    {
     "name": "stdout",
     "output_type": "stream",
     "text": [
      "[     96.622      276.83      174.93      441.61          60]\n",
      "[      96.22      276.71      174.83      440.34          60]\n",
      "[     96.024      276.83      174.85      439.67          60]\n"
     ]
    },
    {
     "name": "stderr",
     "output_type": "stream",
     "text": [
      "0: 640x384 3 persons, 950.8ms\n",
      "Speed: 17.0ms preprocess, 950.8ms inference, 14.1ms postprocess per image at shape (1, 3, 640, 384)\n"
     ]
    },
    {
     "name": "stdout",
     "output_type": "stream",
     "text": [
      "[    -1.7217      284.66      47.179      493.29          57]\n",
      "[    -1.5087      289.96      46.195      492.59          57]\n",
      "[     -1.193      292.94       45.63      491.22          57]\n"
     ]
    },
    {
     "name": "stderr",
     "output_type": "stream",
     "text": [
      "\n",
      "0: 640x384 3 persons, 871.7ms\n",
      "Speed: 19.0ms preprocess, 871.7ms inference, 21.0ms postprocess per image at shape (1, 3, 640, 384)\n",
      "\n"
     ]
    },
    {
     "name": "stdout",
     "output_type": "stream",
     "text": [
      "[    -1.6516      296.11      43.423       490.5          57]\n",
      "[    -1.4975      297.99      42.299      489.44          57]\n",
      "[    -1.1923       299.2      41.669      488.42          57]\n"
     ]
    },
    {
     "name": "stderr",
     "output_type": "stream",
     "text": [
      "0: 640x384 2 persons, 957.6ms\n",
      "Speed: 38.0ms preprocess, 957.6ms inference, 24.0ms postprocess per image at shape (1, 3, 640, 384)\n",
      "\n"
     ]
    },
    {
     "name": "stdout",
     "output_type": "stream",
     "text": [
      "[    -1.6517      304.31      39.434      489.82          57]\n",
      "[    -1.4905      306.92      38.292      489.58          57]\n"
     ]
    },
    {
     "name": "stderr",
     "output_type": "stream",
     "text": [
      "0: 640x384 2 persons, 934.0ms\n",
      "Speed: 14.0ms preprocess, 934.0ms inference, 13.0ms postprocess per image at shape (1, 3, 640, 384)\n",
      "\n"
     ]
    },
    {
     "name": "stdout",
     "output_type": "stream",
     "text": [
      "[     -1.746       309.5       36.26      489.75          57]\n",
      "[    -1.5086       310.9      35.198      489.28          57]\n"
     ]
    },
    {
     "name": "stderr",
     "output_type": "stream",
     "text": [
      "0: 640x384 4 persons, 961.7ms\n",
      "Speed: 14.0ms preprocess, 961.7ms inference, 15.0ms postprocess per image at shape (1, 3, 640, 384)\n",
      "\n"
     ]
    },
    {
     "name": "stdout",
     "output_type": "stream",
     "text": [
      "[     93.778      265.75      177.01      440.59          60]\n",
      "[     93.808      265.83      177.09      440.12          60]\n",
      "[      93.81      265.96      177.14      439.85          60]\n",
      "[    -1.1507      316.64      30.548      489.65          57]\n"
     ]
    },
    {
     "name": "stderr",
     "output_type": "stream",
     "text": [
      "0: 640x384 4 persons, 592.7ms\n",
      "Speed: 15.0ms preprocess, 592.7ms inference, 8.4ms postprocess per image at shape (1, 3, 640, 384)\n",
      "\n"
     ]
    },
    {
     "name": "stdout",
     "output_type": "stream",
     "text": [
      "[     93.527       265.6      177.44      439.52          60]\n",
      "[     93.321      265.48      177.65       439.4          60]\n",
      "[      93.17      265.44      177.81      439.36          60]\n",
      "[     93.061      265.43      177.92      439.35          60]\n",
      "[   -0.58212      319.62      28.043      486.42          57]\n"
     ]
    },
    {
     "name": "stderr",
     "output_type": "stream",
     "text": [
      "0: 640x384 2 persons, 1 chair, 723.0ms\n",
      "Speed: 16.0ms preprocess, 723.0ms inference, 15.0ms postprocess per image at shape (1, 3, 640, 384)\n",
      "\n"
     ]
    },
    {
     "name": "stdout",
     "output_type": "stream",
     "text": [
      "[     92.707      264.31      178.28      438.52          60]\n",
      "[     92.449      263.84      178.54      438.26          60]\n",
      "[     92.262      263.64      178.72      438.21          60]\n"
     ]
    },
    {
     "name": "stderr",
     "output_type": "stream",
     "text": [
      "0: 640x384 1 person, 1 chair, 943.5ms\n",
      "Speed: 18.0ms preprocess, 943.5ms inference, 11.0ms postprocess per image at shape (1, 3, 640, 384)\n",
      "\n"
     ]
    },
    {
     "name": "stdout",
     "output_type": "stream",
     "text": [
      "[     91.851      263.73      179.14      438.69          60]\n",
      "[     91.553      263.71      179.44      438.95          60]\n"
     ]
    },
    {
     "name": "stderr",
     "output_type": "stream",
     "text": [
      "0: 640x384 2 persons, 1 chair, 613.5ms\n",
      "Speed: 14.0ms preprocess, 613.5ms inference, 11.0ms postprocess per image at shape (1, 3, 640, 384)\n",
      "\n"
     ]
    },
    {
     "name": "stdout",
     "output_type": "stream",
     "text": [
      "[     90.872      265.99      179.46      440.03          60]\n",
      "[     90.493      267.07       179.6      440.24          60]\n",
      "[     90.262      267.62      179.74      440.17          60]\n"
     ]
    },
    {
     "name": "stderr",
     "output_type": "stream",
     "text": [
      "0: 640x384 1 person, 639.4ms\n",
      "Speed: 61.0ms preprocess, 639.4ms inference, 31.0ms postprocess per image at shape (1, 3, 640, 384)\n",
      "\n"
     ]
    },
    {
     "name": "stdout",
     "output_type": "stream",
     "text": [
      "[     88.899      264.85      179.76      439.21          60]\n"
     ]
    },
    {
     "name": "stderr",
     "output_type": "stream",
     "text": [
      "0: 640x384 1 person, 1 chair, 718.1ms\n",
      "Speed: 15.0ms preprocess, 718.1ms inference, 14.4ms postprocess per image at shape (1, 3, 640, 384)\n",
      "\n"
     ]
    },
    {
     "name": "stdout",
     "output_type": "stream",
     "text": [
      "[     87.411      262.45       180.1      437.58          60]\n",
      "[     86.532      261.42      180.54      437.09          60]\n"
     ]
    },
    {
     "name": "stderr",
     "output_type": "stream",
     "text": [
      "0: 640x384 1 person, 1 chair, 723.5ms\n",
      "Speed: 15.0ms preprocess, 723.5ms inference, 11.6ms postprocess per image at shape (1, 3, 640, 384)\n",
      "\n"
     ]
    },
    {
     "name": "stdout",
     "output_type": "stream",
     "text": [
      "[     85.492       268.2      180.78      440.19          60]\n",
      "[     84.892      271.37      181.08      440.79          60]\n"
     ]
    },
    {
     "name": "stderr",
     "output_type": "stream",
     "text": [
      "0: 640x384 1 person, 1 chair, 1 refrigerator, 702.3ms\n",
      "Speed: 16.0ms preprocess, 702.3ms inference, 8.0ms postprocess per image at shape (1, 3, 640, 384)\n",
      "\n"
     ]
    },
    {
     "name": "stdout",
     "output_type": "stream",
     "text": [
      "[     84.594       266.5      180.63      437.93          60]\n",
      "[     84.518      264.29      180.43       437.2          60]\n",
      "[     84.521      263.19      180.33      437.19          60]\n"
     ]
    },
    {
     "name": "stderr",
     "output_type": "stream",
     "text": [
      "0: 640x384 1 person, 1 chair, 727.0ms\n",
      "Speed: 18.0ms preprocess, 727.0ms inference, 11.0ms postprocess per image at shape (1, 3, 640, 384)\n",
      "\n"
     ]
    },
    {
     "name": "stdout",
     "output_type": "stream",
     "text": [
      "[     81.643      265.82         176      438.72          60]\n",
      "[     80.817      267.03      174.11       439.1          60]\n"
     ]
    },
    {
     "name": "stderr",
     "output_type": "stream",
     "text": [
      "0: 640x384 1 person, 1 chair, 585.9ms\n",
      "Speed: 14.0ms preprocess, 585.9ms inference, 8.0ms postprocess per image at shape (1, 3, 640, 384)\n",
      "\n"
     ]
    },
    {
     "name": "stdout",
     "output_type": "stream",
     "text": [
      "[     80.484      272.62       174.1       452.4          60]\n",
      "[     80.377      273.28      174.11      458.88          60]\n"
     ]
    },
    {
     "name": "stderr",
     "output_type": "stream",
     "text": [
      "0: 640x384 2 persons, 740.2ms\n",
      "Speed: 16.0ms preprocess, 740.2ms inference, 14.0ms postprocess per image at shape (1, 3, 640, 384)\n",
      "\n"
     ]
    },
    {
     "name": "stdout",
     "output_type": "stream",
     "text": [
      "[     79.451      275.52      173.73      464.51          60]\n",
      "[     79.031      275.74      173.69       467.2          60]\n"
     ]
    },
    {
     "name": "stderr",
     "output_type": "stream",
     "text": [
      "0: 640x384 2 persons, 917.6ms\n",
      "Speed: 14.0ms preprocess, 917.6ms inference, 16.0ms postprocess per image at shape (1, 3, 640, 384)\n"
     ]
    },
    {
     "name": "stdout",
     "output_type": "stream",
     "text": [
      "[      78.36      273.75      173.56      467.59          60]\n",
      "[      78.03      272.54      173.62       468.1          60]\n"
     ]
    },
    {
     "name": "stderr",
     "output_type": "stream",
     "text": [
      "\n",
      "0: 640x384 2 persons, 1082.5ms\n",
      "Speed: 19.0ms preprocess, 1082.5ms inference, 16.0ms postprocess per image at shape (1, 3, 640, 384)\n",
      "\n"
     ]
    },
    {
     "name": "stdout",
     "output_type": "stream",
     "text": [
      "[     77.572      269.88         174      467.82          60]\n",
      "[      77.27      268.42       174.3      468.09          60]\n"
     ]
    },
    {
     "name": "stderr",
     "output_type": "stream",
     "text": [
      "0: 640x384 2 persons, 1329.2ms\n",
      "Speed: 18.0ms preprocess, 1329.2ms inference, 14.0ms postprocess per image at shape (1, 3, 640, 384)\n",
      "\n"
     ]
    },
    {
     "name": "stdout",
     "output_type": "stream",
     "text": [
      "[     75.488      268.46       173.5      468.86          60]\n",
      "[     74.655      268.33      173.38      469.25          60]\n"
     ]
    },
    {
     "name": "stderr",
     "output_type": "stream",
     "text": [
      "0: 640x384 3 persons, 1232.3ms\n",
      "Speed: 17.0ms preprocess, 1232.3ms inference, 15.0ms postprocess per image at shape (1, 3, 640, 384)\n",
      "\n"
     ]
    },
    {
     "name": "stdout",
     "output_type": "stream",
     "text": [
      "[     73.493      267.33      173.55      468.35          60]\n",
      "[     72.834      266.91      173.87      468.01          60]\n",
      "[     72.429      266.73      174.17      467.87          60]\n"
     ]
    },
    {
     "name": "stderr",
     "output_type": "stream",
     "text": [
      "0: 640x384 3 persons, 1019.4ms\n",
      "Speed: 13.0ms preprocess, 1019.4ms inference, 13.0ms postprocess per image at shape (1, 3, 640, 384)\n"
     ]
    },
    {
     "name": "stdout",
     "output_type": "stream",
     "text": [
      "[     71.512      265.99      173.77      467.16          60]\n",
      "[     71.088      265.69      173.72      466.89          60]\n",
      "[     70.876      265.57      173.78      466.78          60]\n"
     ]
    },
    {
     "name": "stderr",
     "output_type": "stream",
     "text": [
      "\n",
      "0: 640x384 3 persons, 750.9ms\n",
      "Speed: 14.0ms preprocess, 750.9ms inference, 17.0ms postprocess per image at shape (1, 3, 640, 384)\n",
      "\n"
     ]
    },
    {
     "name": "stdout",
     "output_type": "stream",
     "text": [
      "[     69.264      265.25      172.09         467          60]\n",
      "[      68.68      265.03      171.45      467.17          60]\n",
      "[     68.486      264.87      171.21       467.3          60]\n"
     ]
    },
    {
     "name": "stderr",
     "output_type": "stream",
     "text": [
      "0: 640x384 2 persons, 843.6ms\n",
      "Speed: 50.0ms preprocess, 843.6ms inference, 15.0ms postprocess per image at shape (1, 3, 640, 384)\n",
      "\n"
     ]
    },
    {
     "name": "stdout",
     "output_type": "stream",
     "text": [
      "[      69.09      263.91      171.78      466.28          60]\n",
      "[      69.34      263.56      172.01      465.87          60]\n"
     ]
    },
    {
     "name": "stderr",
     "output_type": "stream",
     "text": [
      "0: 640x384 2 persons, 1 refrigerator, 1000.0ms\n",
      "Speed: 15.5ms preprocess, 1000.0ms inference, 15.0ms postprocess per image at shape (1, 3, 640, 384)\n",
      "\n"
     ]
    },
    {
     "name": "stdout",
     "output_type": "stream",
     "text": [
      "[     69.213      258.25      171.68      454.57          60]\n",
      "[     69.239      257.25      171.51      449.29          60]\n",
      "[     69.311      257.62       171.4      446.58          60]\n"
     ]
    },
    {
     "name": "stderr",
     "output_type": "stream",
     "text": [
      "0: 640x384 2 persons, 1 refrigerator, 968.0ms\n",
      "Speed: 16.0ms preprocess, 968.0ms inference, 16.0ms postprocess per image at shape (1, 3, 640, 384)\n",
      "\n"
     ]
    },
    {
     "name": "stdout",
     "output_type": "stream",
     "text": [
      "[     67.897      258.23      169.55      445.81          60]\n",
      "[     67.448      258.73      168.78       445.3          60]\n",
      "[     67.349      259.13      168.45      444.96          60]\n"
     ]
    },
    {
     "name": "stderr",
     "output_type": "stream",
     "text": [
      "0: 640x384 2 persons, 1 chair, 999.4ms\n",
      "Speed: 17.0ms preprocess, 999.4ms inference, 17.0ms postprocess per image at shape (1, 3, 640, 384)\n",
      "\n"
     ]
    },
    {
     "name": "stdout",
     "output_type": "stream",
     "text": [
      "[     66.983      257.65      167.37      441.29          60]\n",
      "[     66.987       257.5      166.84      439.54          60]\n",
      "[     67.098      257.76      166.56      438.62          60]\n"
     ]
    },
    {
     "name": "stderr",
     "output_type": "stream",
     "text": [
      "0: 640x384 2 persons, 1 chair, 1 refrigerator, 948.5ms\n",
      "Speed: 17.0ms preprocess, 948.5ms inference, 17.0ms postprocess per image at shape (1, 3, 640, 384)\n"
     ]
    },
    {
     "name": "stdout",
     "output_type": "stream",
     "text": [
      "[     67.034      259.21      165.93      438.94          60]\n",
      "[     67.123      259.98       165.6      438.88          60]\n",
      "[     67.242      260.45      165.42      438.73          60]\n",
      "[     110.63      249.24      189.36      415.11          67]\n",
      "[     67.353      260.75       165.3      438.59          60]\n"
     ]
    },
    {
     "name": "stderr",
     "output_type": "stream",
     "text": [
      "\n",
      "0: 640x384 2 persons, 1 chair, 1057.0ms\n",
      "Speed: 18.0ms preprocess, 1057.0ms inference, 18.0ms postprocess per image at shape (1, 3, 640, 384)\n",
      "\n"
     ]
    },
    {
     "name": "stdout",
     "output_type": "stream",
     "text": [
      "[     67.801      261.31      164.22      437.47          60]\n",
      "[     68.252      261.84      163.55      436.76          60]\n",
      "[     68.631      262.28      163.11      436.28          60]\n"
     ]
    },
    {
     "name": "stderr",
     "output_type": "stream",
     "text": [
      "0: 640x384 2 persons, 1 chair, 843.5ms\n",
      "Speed: 20.0ms preprocess, 843.5ms inference, 17.0ms postprocess per image at shape (1, 3, 640, 384)\n"
     ]
    },
    {
     "name": "stdout",
     "output_type": "stream",
     "text": [
      "[     67.624      263.29      161.49      436.59          60]\n",
      "[     67.358       263.8      160.79       436.6          60]\n",
      "[     67.346      264.09      160.45      436.53          60]\n"
     ]
    },
    {
     "name": "stderr",
     "output_type": "stream",
     "text": [
      "\n",
      "0: 640x384 3 persons, 1 chair, 982.4ms\n",
      "Speed: 31.0ms preprocess, 982.4ms inference, 16.0ms postprocess per image at shape (1, 3, 640, 384)\n",
      "\n"
     ]
    },
    {
     "name": "stdout",
     "output_type": "stream",
     "text": [
      "[     66.652      263.63      158.42      435.78          60]\n",
      "[     66.635      263.52      157.43      435.45          60]\n",
      "[     66.814      263.52       156.9      435.29          60]\n",
      "[     100.92      251.07      185.75       421.1          67]\n",
      "[     67.021      263.56      156.59      435.21          60]\n"
     ]
    },
    {
     "name": "stderr",
     "output_type": "stream",
     "text": [
      "0: 640x384 2 persons, 1 chair, 1024.5ms\n",
      "Speed: 15.0ms preprocess, 1024.5ms inference, 14.0ms postprocess per image at shape (1, 3, 640, 384)\n",
      "\n"
     ]
    },
    {
     "name": "stdout",
     "output_type": "stream",
     "text": [
      "[     66.082      265.67      155.55      438.32          60]\n",
      "[     65.757       266.3      155.16      439.68          60]\n",
      "[     65.661      266.41      155.01      440.33          60]\n"
     ]
    },
    {
     "name": "stderr",
     "output_type": "stream",
     "text": [
      "0: 640x384 3 persons, 1021.9ms\n",
      "Speed: 16.0ms preprocess, 1021.9ms inference, 14.0ms postprocess per image at shape (1, 3, 640, 384)\n",
      "\n"
     ]
    },
    {
     "name": "stdout",
     "output_type": "stream",
     "text": [
      "[     62.204      270.13      152.52       450.6          60]\n",
      "[     60.776      270.34      151.73      455.66          60]\n",
      "[     60.165      269.53      151.54      458.43          60]\n"
     ]
    },
    {
     "name": "stderr",
     "output_type": "stream",
     "text": [
      "0: 640x384 4 persons, 1 chair, 1012.5ms\n",
      "Speed: 16.0ms preprocess, 1012.5ms inference, 15.0ms postprocess per image at shape (1, 3, 640, 384)\n"
     ]
    },
    {
     "name": "stdout",
     "output_type": "stream",
     "text": [
      "[     58.967      267.68      151.17      458.99          60]\n",
      "[     58.394      266.54      151.19       459.6          60]\n",
      "[     58.097      265.77      151.32      460.11          60]\n",
      "[     94.161      247.69      188.53      419.37          67]\n",
      "[     57.931      265.24      151.46       460.5          60]\n",
      "[     66.168      409.73      201.35      460.77          70]\n",
      "[     93.886      247.71      188.79      419.28          67]\n",
      "[     57.833      264.86      151.59      460.79          60]\n"
     ]
    },
    {
     "name": "stderr",
     "output_type": "stream",
     "text": [
      "\n",
      "0: 640x384 3 persons, 1072.5ms\n",
      "Speed: 14.0ms preprocess, 1072.5ms inference, 12.0ms postprocess per image at shape (1, 3, 640, 384)\n",
      "\n"
     ]
    },
    {
     "name": "stdout",
     "output_type": "stream",
     "text": [
      "[      55.16      264.96      149.08      461.92          60]\n",
      "[     54.135       264.8      148.18      462.52          60]\n",
      "[     53.749      264.59      147.87      462.86          60]\n"
     ]
    },
    {
     "name": "stderr",
     "output_type": "stream",
     "text": [
      "0: 640x384 4 persons, 830.7ms\n",
      "Speed: 13.0ms preprocess, 830.7ms inference, 14.0ms postprocess per image at shape (1, 3, 640, 384)\n"
     ]
    },
    {
     "name": "stdout",
     "output_type": "stream",
     "text": [
      "[     51.376      263.28      146.11      462.23          60]\n",
      "[     50.393      262.65      145.57       462.1          60]\n",
      "[     49.969      262.31      145.47      462.13          60]\n",
      "[     84.623      243.03      178.88      420.94          67]\n",
      "[     49.777      262.12      145.51      462.19          60]\n"
     ]
    },
    {
     "name": "stderr",
     "output_type": "stream",
     "text": [
      "\n",
      "0: 640x384 4 persons, 757.2ms\n",
      "Speed: 20.0ms preprocess, 757.2ms inference, 13.0ms postprocess per image at shape (1, 3, 640, 384)\n"
     ]
    },
    {
     "name": "stdout",
     "output_type": "stream",
     "text": [
      "[     47.917      261.52       144.1      462.07          60]\n",
      "[     47.157      261.21      143.66      462.09          60]\n",
      "[     46.837      261.03      143.58      462.16          60]\n",
      "[     80.119      242.54      175.15      431.41          67]\n",
      "[     46.699      260.92      143.61      462.22          60]\n"
     ]
    },
    {
     "name": "stderr",
     "output_type": "stream",
     "text": [
      "\n",
      "0: 640x384 3 persons, 915.5ms\n",
      "Speed: 18.0ms preprocess, 915.5ms inference, 18.0ms postprocess per image at shape (1, 3, 640, 384)\n",
      "\n"
     ]
    },
    {
     "name": "stdout",
     "output_type": "stream",
     "text": [
      "[     44.976      260.46      143.38      461.35          60]\n",
      "[     44.083      260.35      143.57      460.94          60]\n",
      "[     43.576      260.36      143.86      460.74          60]\n"
     ]
    },
    {
     "name": "stderr",
     "output_type": "stream",
     "text": [
      "0: 640x384 6 persons, 916.5ms\n",
      "Speed: 15.0ms preprocess, 916.5ms inference, 13.0ms postprocess per image at shape (1, 3, 640, 384)\n"
     ]
    },
    {
     "name": "stdout",
     "output_type": "stream",
     "text": [
      "[     41.219      260.49       142.9      461.85          60]\n",
      "[       40.1      260.37      142.81      462.43          60]\n",
      "[     39.519       260.2      142.97      462.77          60]\n",
      "[     73.443      243.76      167.68      446.17          67]\n",
      "[     39.191      260.05      143.19      462.98          60]\n",
      "[     150.21      254.66      199.64      419.21          73]\n",
      "[     73.577      242.73      167.51      447.85          67]\n",
      "[     38.992      259.93      143.38      463.12          60]\n",
      "[     311.42      303.48      331.08       468.4          74]\n",
      "[        150      255.27      199.81      418.59          73]\n",
      "[     73.712      241.84      167.41      448.93          67]\n",
      "[     38.867      259.84      143.54      463.22          60]\n"
     ]
    },
    {
     "name": "stderr",
     "output_type": "stream",
     "text": [
      "\n",
      "0: 640x384 5 persons, 740.5ms\n",
      "Speed: 14.0ms preprocess, 740.5ms inference, 20.0ms postprocess per image at shape (1, 3, 640, 384)\n"
     ]
    },
    {
     "name": "stdout",
     "output_type": "stream",
     "text": [
      "[     34.005       259.6       136.7       462.8          60]\n",
      "[     32.531      259.54      133.78      462.61          60]\n",
      "[     32.258      259.55      132.44      462.51          60]\n",
      "[     71.328      240.49         162      456.19          67]\n",
      "[     32.376      259.57      131.79      462.45          60]\n",
      "[      149.5      260.68      201.37      450.84          73]\n",
      "[     71.517      239.91       161.7      456.84          67]\n",
      "[     32.589      259.59      131.44      462.42          60]\n"
     ]
    },
    {
     "name": "stderr",
     "output_type": "stream",
     "text": [
      "\n",
      "0: 640x384 5 persons, 647.2ms\n",
      "Speed: 14.0ms preprocess, 647.2ms inference, 13.0ms postprocess per image at shape (1, 3, 640, 384)\n"
     ]
    },
    {
     "name": "stdout",
     "output_type": "stream",
     "text": [
      "[     29.808         260       127.7      463.31          60]\n",
      "[     28.953      260.07      126.14      463.73          60]\n",
      "[     28.788      260.03      125.47      463.95          60]\n",
      "[     67.466      236.97      158.87      457.58          67]\n",
      "[     28.851      259.97      125.15      464.08          60]\n",
      "[     150.46       256.2      202.52      454.79          73]\n",
      "[     67.352      236.71       158.9      457.75          67]\n",
      "[     28.975      259.91         125      464.15          60]\n"
     ]
    },
    {
     "name": "stderr",
     "output_type": "stream",
     "text": [
      "\n",
      "0: 640x384 4 persons, 693.3ms\n",
      "Speed: 37.0ms preprocess, 693.3ms inference, 12.0ms postprocess per image at shape (1, 3, 640, 384)\n"
     ]
    },
    {
     "name": "stdout",
     "output_type": "stream",
     "text": [
      "[     26.404      258.74      123.05      463.37          60]\n",
      "[      25.35      258.22      122.45      463.14          60]\n",
      "[     24.904      257.98      122.34      463.11          60]\n",
      "[     66.295      234.36      158.11       456.9          67]\n",
      "[     24.709      257.85      122.38      463.13          60]\n"
     ]
    },
    {
     "name": "stderr",
     "output_type": "stream",
     "text": [
      "\n",
      "0: 640x384 4 persons, 875.9ms\n",
      "Speed: 16.6ms preprocess, 875.9ms inference, 12.0ms postprocess per image at shape (1, 3, 640, 384)\n"
     ]
    },
    {
     "name": "stdout",
     "output_type": "stream",
     "text": [
      "[     23.317      257.13      121.16      462.51          60]\n",
      "[     22.786      256.84      120.76       462.3          60]\n",
      "[     22.592      256.73      120.66      462.23          60]\n",
      "[     65.333      234.91       157.2      457.19          67]\n",
      "[      22.53      256.68      120.66      462.22          60]\n"
     ]
    },
    {
     "name": "stderr",
     "output_type": "stream",
     "text": [
      "\n",
      "0: 640x384 4 persons, 900.2ms\n",
      "Speed: 17.0ms preprocess, 900.2ms inference, 13.0ms postprocess per image at shape (1, 3, 640, 384)\n"
     ]
    },
    {
     "name": "stdout",
     "output_type": "stream",
     "text": [
      "[     20.098         256      118.55      461.58          60]\n",
      "[     19.144      255.74      117.83      461.34          60]\n",
      "[      18.77      255.65      117.62      461.26          60]\n",
      "[     61.691      233.12      154.89      455.95          67]\n",
      "[     18.626      255.62       117.6      461.23          60]\n"
     ]
    },
    {
     "name": "stderr",
     "output_type": "stream",
     "text": [
      "\n",
      "0: 640x384 4 persons, 850.5ms\n",
      "Speed: 14.0ms preprocess, 850.5ms inference, 34.0ms postprocess per image at shape (1, 3, 640, 384)\n"
     ]
    },
    {
     "name": "stdout",
     "output_type": "stream",
     "text": [
      "[     15.753      256.43      114.59      464.98          60]\n",
      "[     14.722      256.21      113.44      466.94          60]\n",
      "[     14.386      255.73      113.01      468.07          60]\n",
      "[     61.635      234.02      155.93      456.97          67]\n",
      "[     14.307      255.26      112.85      468.77          60]\n"
     ]
    },
    {
     "name": "stderr",
     "output_type": "stream",
     "text": [
      "\n",
      "0: 640x384 4 persons, 818.7ms\n",
      "Speed: 19.5ms preprocess, 818.7ms inference, 20.0ms postprocess per image at shape (1, 3, 640, 384)\n"
     ]
    },
    {
     "name": "stdout",
     "output_type": "stream",
     "text": [
      "[     11.154      254.95      110.75      470.48          60]\n",
      "[      9.805      254.48      110.17      471.46          60]\n",
      "[     9.1938      254.04      110.11      472.08          60]\n",
      "[     56.843      232.87      152.83      455.14          67]\n",
      "[     8.8978      253.69      110.21      472.49          60]\n"
     ]
    },
    {
     "name": "stderr",
     "output_type": "stream",
     "text": [
      "\n",
      "0: 640x384 4 persons, 884.2ms\n",
      "Speed: 27.0ms preprocess, 884.2ms inference, 10.0ms postprocess per image at shape (1, 3, 640, 384)\n",
      "\n"
     ]
    },
    {
     "name": "stdout",
     "output_type": "stream",
     "text": [
      "[      5.587      253.21      108.29      472.32          60]\n",
      "[     4.1187      252.98      107.83       472.3          60]\n",
      "[     3.4183      252.85      107.86      472.33          60]\n",
      "[     55.516      231.64      152.04      452.26          67]\n",
      "[     3.0564      252.77      108.03      472.36          60]\n"
     ]
    },
    {
     "name": "stderr",
     "output_type": "stream",
     "text": [
      "0: 640x384 4 persons, 1252.7ms\n",
      "Speed: 17.0ms preprocess, 1252.7ms inference, 16.0ms postprocess per image at shape (1, 3, 640, 384)\n"
     ]
    },
    {
     "name": "stdout",
     "output_type": "stream",
     "text": [
      "[    0.89733      252.53      106.26      471.92          60]\n",
      "[   0.040136      252.48      105.69      471.71          60]\n",
      "[   -0.30281      252.48      105.55      471.61          60]\n",
      "[      142.9      249.52      205.05      454.45          73]\n",
      "[   -0.43832       252.5      105.56      471.55          60]\n"
     ]
    },
    {
     "name": "stderr",
     "output_type": "stream",
     "text": [
      "\n",
      "0: 640x384 4 persons, 913.3ms\n",
      "Speed: 17.0ms preprocess, 913.3ms inference, 10.0ms postprocess per image at shape (1, 3, 640, 384)\n"
     ]
    },
    {
     "name": "stdout",
     "output_type": "stream",
     "text": [
      "[   -0.97213      251.23      103.49      470.19          60]\n",
      "[   -0.87841      250.77      102.47      469.65          60]\n",
      "[   -0.61863      250.61      101.91      469.44          60]\n",
      "[     141.85      248.65      205.08      453.28          73]\n",
      "[   -0.35023      250.57      101.58      469.35          60]\n"
     ]
    },
    {
     "name": "stderr",
     "output_type": "stream",
     "text": [
      "\n",
      "0: 640x384 4 persons, 753.7ms\n",
      "Speed: 16.0ms preprocess, 753.7ms inference, 10.1ms postprocess per image at shape (1, 3, 640, 384)\n",
      "\n"
     ]
    },
    {
     "name": "stdout",
     "output_type": "stream",
     "text": [
      "[    -1.1514      250.57      99.789      469.31          60]\n",
      "[    -1.2592      250.58      98.962      469.29          60]\n",
      "[    -1.1496       250.6      98.545      469.28          60]\n",
      "[     48.266      230.25      149.35       445.4          67]\n",
      "[   -0.99265      250.61      98.317      469.27          60]\n"
     ]
    },
    {
     "name": "stderr",
     "output_type": "stream",
     "text": [
      "0: 640x384 3 persons, 624.0ms\n",
      "Speed: 13.0ms preprocess, 624.0ms inference, 15.0ms postprocess per image at shape (1, 3, 640, 384)\n",
      "\n"
     ]
    },
    {
     "name": "stdout",
     "output_type": "stream",
     "text": [
      "[    -1.4122      250.25      96.793      468.34          60]\n",
      "[    -1.3571      250.22      96.041      467.89          60]\n",
      "[    -1.1737      250.29      95.634      467.64          60]\n"
     ]
    },
    {
     "name": "stderr",
     "output_type": "stream",
     "text": [
      "0: 640x384 3 persons, 679.2ms\n",
      "Speed: 13.6ms preprocess, 679.2ms inference, 7.0ms postprocess per image at shape (1, 3, 640, 384)\n",
      "\n"
     ]
    },
    {
     "name": "stdout",
     "output_type": "stream",
     "text": [
      "[   -0.98217      251.41      95.397      469.07          60]\n",
      "[   -0.81606      251.79      95.249      469.67          60]\n",
      "[   -0.68137      251.89      95.155      469.94          60]\n"
     ]
    },
    {
     "name": "stderr",
     "output_type": "stream",
     "text": [
      "0: 640x384 4 persons, 746.2ms\n",
      "Speed: 13.0ms preprocess, 746.2ms inference, 17.0ms postprocess per image at shape (1, 3, 640, 384)\n"
     ]
    },
    {
     "name": "stdout",
     "output_type": "stream",
     "text": [
      "[    -1.7143      252.32      92.315      470.96          60]\n",
      "[    -1.7735      252.37      90.935      471.45          60]\n",
      "[    -1.5459       252.3      90.199      471.72          60]\n",
      "[     46.244      231.52      146.56      454.29          67]\n",
      "[    -1.2719      252.22      89.769      471.87          60]\n"
     ]
    },
    {
     "name": "stderr",
     "output_type": "stream",
     "text": [
      "\n",
      "0: 640x384 3 persons, 664.8ms\n",
      "Speed: 15.0ms preprocess, 664.8ms inference, 13.0ms postprocess per image at shape (1, 3, 640, 384)\n",
      "\n"
     ]
    },
    {
     "name": "stdout",
     "output_type": "stream",
     "text": [
      "[     -1.408      252.53      88.575      472.88          60]\n",
      "[    -1.2572      252.52      87.952      473.38          60]\n",
      "[    -1.0475      252.42      87.597      473.66          60]\n"
     ]
    },
    {
     "name": "stderr",
     "output_type": "stream",
     "text": [
      "0: 640x384 3 persons, 664.0ms\n",
      "Speed: 13.0ms preprocess, 664.0ms inference, 11.0ms postprocess per image at shape (1, 3, 640, 384)\n",
      "\n"
     ]
    },
    {
     "name": "stdout",
     "output_type": "stream",
     "text": [
      "[     43.281      230.29      142.09      454.99          67]\n",
      "[     42.671      229.56      141.42      454.98          67]\n",
      "[     42.469      229.16      141.17       455.1          67]\n"
     ]
    },
    {
     "name": "stderr",
     "output_type": "stream",
     "text": [
      "0: 640x384 3 persons, 732.9ms\n",
      "Speed: 12.0ms preprocess, 732.9ms inference, 11.0ms postprocess per image at shape (1, 3, 640, 384)\n",
      "\n"
     ]
    },
    {
     "name": "stdout",
     "output_type": "stream",
     "text": [
      "[    -1.9182      254.71      75.582      477.72          60]\n",
      "[   -0.83136      254.93      76.813      478.78          60]\n",
      "[   -0.42136      254.86      77.325      479.31          60]\n"
     ]
    },
    {
     "name": "stderr",
     "output_type": "stream",
     "text": [
      "0: 640x384 3 persons, 629.0ms\n",
      "Speed: 25.0ms preprocess, 629.0ms inference, 13.0ms postprocess per image at shape (1, 3, 640, 384)\n",
      "\n"
     ]
    },
    {
     "name": "stdout",
     "output_type": "stream",
     "text": [
      "[     -1.785      256.39       73.85      483.16          60]\n",
      "[    -1.9171       256.5      72.181      485.06          60]\n",
      "[    -1.6768      256.19        71.3      486.09          60]\n"
     ]
    },
    {
     "name": "stderr",
     "output_type": "stream",
     "text": [
      "0: 640x384 3 persons, 689.0ms\n",
      "Speed: 15.0ms preprocess, 689.0ms inference, 8.0ms postprocess per image at shape (1, 3, 640, 384)\n",
      "\n"
     ]
    },
    {
     "name": "stdout",
     "output_type": "stream",
     "text": [
      "[      43.14      225.79      138.58      454.58          67]\n",
      "[     42.588      225.59      137.75      454.47          67]\n",
      "[     42.435       225.5      137.41      454.44          67]\n"
     ]
    },
    {
     "name": "stderr",
     "output_type": "stream",
     "text": [
      "0: 640x384 3 persons, 646.9ms\n",
      "Speed: 14.0ms preprocess, 646.9ms inference, 11.0ms postprocess per image at shape (1, 3, 640, 384)\n",
      "\n"
     ]
    },
    {
     "name": "stdout",
     "output_type": "stream",
     "text": [
      "[    -2.1832       259.6      64.991      492.28          60]\n",
      "[    -1.9572      259.55      63.742      492.95          60]\n",
      "[    -1.6017      259.38      63.044      493.31          60]\n"
     ]
    },
    {
     "name": "stderr",
     "output_type": "stream",
     "text": [
      "0: 640x384 3 persons, 880.2ms\n",
      "Speed: 17.0ms preprocess, 880.2ms inference, 12.0ms postprocess per image at shape (1, 3, 640, 384)\n",
      "\n"
     ]
    },
    {
     "name": "stdout",
     "output_type": "stream",
     "text": [
      "[     41.604       224.3       135.4      454.61          67]\n",
      "[     41.805      224.06      134.94      454.83          67]\n",
      "[     42.004      223.89      134.66         455          67]\n"
     ]
    },
    {
     "name": "stderr",
     "output_type": "stream",
     "text": [
      "0: 640x384 3 persons, 1 vase, 755.8ms\n",
      "Speed: 17.0ms preprocess, 755.8ms inference, 13.0ms postprocess per image at shape (1, 3, 640, 384)\n",
      "\n"
     ]
    },
    {
     "name": "stdout",
     "output_type": "stream",
     "text": [
      "[     41.142      223.78      132.91      455.12          67]\n",
      "[     40.981       223.7       132.1      455.21          67]\n",
      "[     41.046      223.64      131.69      455.27          67]\n",
      "[     128.32      248.09      209.46      414.54          73]\n",
      "[     41.168       223.6      131.47      455.32          67]\n"
     ]
    },
    {
     "name": "stderr",
     "output_type": "stream",
     "text": [
      "0: 640x384 3 persons, 981.4ms\n",
      "Speed: 17.0ms preprocess, 981.4ms inference, 14.0ms postprocess per image at shape (1, 3, 640, 384)\n",
      "\n"
     ]
    },
    {
     "name": "stdout",
     "output_type": "stream",
     "text": [
      "[     39.517      223.11      129.84      455.17          67]\n",
      "[       38.9      222.87      129.24      455.17          67]\n",
      "[      38.68      222.74      129.03      455.22          67]\n"
     ]
    },
    {
     "name": "stderr",
     "output_type": "stream",
     "text": [
      "0: 640x384 3 persons, 1 vase, 945.0ms\n",
      "Speed: 18.0ms preprocess, 945.0ms inference, 18.0ms postprocess per image at shape (1, 3, 640, 384)\n"
     ]
    },
    {
     "name": "stdout",
     "output_type": "stream",
     "text": [
      "[     35.725      222.65      126.63      455.27          67]\n",
      "[     34.524       222.6      125.83      455.32          67]\n",
      "[     34.021      222.56      125.62      455.36          67]\n",
      "[     33.801      222.54      125.61      455.39          67]\n",
      "[    -1.0705      290.66      43.422      492.37          60]\n"
     ]
    },
    {
     "name": "stderr",
     "output_type": "stream",
     "text": [
      "\n",
      "0: 640x384 3 persons, 892.1ms\n",
      "Speed: 18.0ms preprocess, 892.1ms inference, 17.0ms postprocess per image at shape (1, 3, 640, 384)\n",
      "\n"
     ]
    },
    {
     "name": "stdout",
     "output_type": "stream",
     "text": [
      "[     30.897      223.95      122.59       457.9          67]\n",
      "[     29.839      224.29      121.45      459.05          67]\n",
      "[      29.48      224.27      121.03      459.63          67]\n"
     ]
    },
    {
     "name": "stderr",
     "output_type": "stream",
     "text": [
      "0: 640x384 3 persons, 919.5ms\n",
      "Speed: 19.0ms preprocess, 919.5ms inference, 13.0ms postprocess per image at shape (1, 3, 640, 384)\n",
      "\n"
     ]
    },
    {
     "name": "stdout",
     "output_type": "stream",
     "text": [
      "[     26.871      224.88      119.48      461.83          67]\n",
      "[     25.726      224.83       119.1      462.92          67]\n",
      "[     25.187      224.61      119.12      463.53          67]\n"
     ]
    },
    {
     "name": "stderr",
     "output_type": "stream",
     "text": [
      "0: 640x384 5 persons, 1 dining table, 817.9ms\n",
      "Speed: 15.0ms preprocess, 817.9ms inference, 8.0ms postprocess per image at shape (1, 3, 640, 384)\n"
     ]
    },
    {
     "name": "stdout",
     "output_type": "stream",
     "text": [
      "[      21.64      225.71         116      467.12          67]\n",
      "[     20.254      225.68      114.92      468.91          67]\n",
      "[     19.713      225.33      114.59      469.89          67]\n",
      "[      123.8      246.96      212.18      449.88          73]\n",
      "[     19.505      224.95      114.54      470.48          67]\n",
      "[     123.75       246.3      212.21      450.53          73]\n",
      "[     19.433      224.62      114.58      470.86          67]\n",
      "[        427         258         478         453          77]\n",
      "[     123.71      245.81      212.23      450.96          73]\n",
      "[     19.417      224.36      114.64      471.11          67]\n",
      "[    -1.1113      302.21      26.518      482.26          60]\n"
     ]
    },
    {
     "name": "stderr",
     "output_type": "stream",
     "text": [
      "\n",
      "0: 640x384 5 persons, 730.3ms\n",
      "Speed: 13.0ms preprocess, 730.3ms inference, 11.0ms postprocess per image at shape (1, 3, 640, 384)\n",
      "\n"
     ]
    },
    {
     "name": "stdout",
     "output_type": "stream",
     "text": [
      "[     15.407      226.68      111.54      476.59          67]\n",
      "[     13.761         227      110.54      479.19          67]\n",
      "[     13.059      226.71      110.31      480.55          67]\n",
      "[     118.45      245.83      210.45      452.73          73]\n",
      "[     12.747      226.28      110.34      481.33          67]\n",
      "[     415.02      250.58      477.17      460.42          77]\n",
      "[     118.14      245.73      210.62      452.81          73]\n",
      "[     12.602      225.89      110.43      481.81          67]\n"
     ]
    },
    {
     "name": "stderr",
     "output_type": "stream",
     "text": [
      "0: 640x384 4 persons, 702.3ms\n",
      "Speed: 14.0ms preprocess, 702.3ms inference, 12.0ms postprocess per image at shape (1, 3, 640, 384)\n",
      "\n"
     ]
    },
    {
     "name": "stdout",
     "output_type": "stream",
     "text": [
      "[     9.3564      228.26       108.5      487.92          67]\n",
      "[     7.9324       228.5      108.01      490.84          67]\n",
      "[      7.264       228.1      108.02      492.38          67]\n",
      "[     116.05       244.6      210.71      452.77          73]\n",
      "[     6.9257      227.58      108.17      493.27          67]\n"
     ]
    },
    {
     "name": "stderr",
     "output_type": "stream",
     "text": [
      "0: 640x384 3 persons, 626.9ms\n",
      "Speed: 15.0ms preprocess, 626.9ms inference, 10.0ms postprocess per image at shape (1, 3, 640, 384)\n",
      "\n"
     ]
    },
    {
     "name": "stdout",
     "output_type": "stream",
     "text": [
      "[     5.5229      226.74       106.3      492.88          67]\n",
      "[     5.1028      226.32      105.54      492.78          67]\n",
      "[     5.0346      226.08      105.21      492.77          67]\n"
     ]
    },
    {
     "name": "stderr",
     "output_type": "stream",
     "text": [
      "0: 640x384 2 persons, 778.1ms\n",
      "Speed: 17.0ms preprocess, 778.1ms inference, 15.0ms postprocess per image at shape (1, 3, 640, 384)\n",
      "\n"
     ]
    },
    {
     "name": "stdout",
     "output_type": "stream",
     "text": [
      "[     2.7412      226.71      102.19      494.62          67]\n",
      "[     2.0291      226.71      100.95      495.52          67]\n"
     ]
    },
    {
     "name": "stderr",
     "output_type": "stream",
     "text": [
      "0: 640x384 3 persons, 799.4ms\n",
      "Speed: 12.7ms preprocess, 799.4ms inference, 15.0ms postprocess per image at shape (1, 3, 640, 384)\n",
      "\n"
     ]
    },
    {
     "name": "stdout",
     "output_type": "stream",
     "text": [
      "[     115.55      244.19      212.99       453.1          73]\n",
      "[     115.65      244.21      213.15      452.98          73]\n"
     ]
    },
    {
     "name": "stderr",
     "output_type": "stream",
     "text": [
      "0: 640x384 2 persons, 648.7ms\n",
      "Speed: 18.0ms preprocess, 648.7ms inference, 16.0ms postprocess per image at shape (1, 3, 640, 384)\n",
      "\n"
     ]
    },
    {
     "name": "stdout",
     "output_type": "stream",
     "text": [
      "[     3.5956      227.58      110.55      499.95          67]\n",
      "[     3.2348      227.48      112.61      500.81          67]\n"
     ]
    },
    {
     "name": "stderr",
     "output_type": "stream",
     "text": [
      "0: 640x384 3 persons, 699.3ms\n",
      "Speed: 15.0ms preprocess, 699.3ms inference, 12.0ms postprocess per image at shape (1, 3, 640, 384)\n",
      "\n"
     ]
    },
    {
     "name": "stdout",
     "output_type": "stream",
     "text": [
      "[     113.07      244.18      214.08      453.01          73]\n",
      "[     112.61       244.2      214.37      452.92          73]\n"
     ]
    },
    {
     "name": "stderr",
     "output_type": "stream",
     "text": [
      "0: 640x384 2 persons, 1 umbrella, 854.9ms\n",
      "Speed: 19.0ms preprocess, 854.9ms inference, 12.9ms postprocess per image at shape (1, 3, 640, 384)\n",
      "\n"
     ]
    },
    {
     "name": "stdout",
     "output_type": "stream",
     "text": [
      "[    -5.0229      229.06      99.596      503.09          67]\n",
      "[    -6.0047      229.59      92.949      503.53          67]\n",
      "[    -5.3956      229.78      89.521      503.67          67]\n"
     ]
    },
    {
     "name": "stderr",
     "output_type": "stream",
     "text": [
      "0: 640x384 2 persons, 1 umbrella, 618.8ms\n",
      "Speed: 20.0ms preprocess, 618.8ms inference, 14.0ms postprocess per image at shape (1, 3, 640, 384)\n",
      "\n"
     ]
    },
    {
     "name": "stdout",
     "output_type": "stream",
     "text": [
      "[    -5.3764      230.07      85.251      504.12          67]\n",
      "[    -4.5848      230.13      82.933      504.31          67]\n",
      "[    -3.6994      230.11      81.556      504.39          67]\n"
     ]
    },
    {
     "name": "stderr",
     "output_type": "stream",
     "text": [
      "0: 640x384 3 persons, 1 umbrella, 667.1ms\n",
      "Speed: 12.0ms preprocess, 667.1ms inference, 7.5ms postprocess per image at shape (1, 3, 640, 384)\n",
      "\n"
     ]
    },
    {
     "name": "stdout",
     "output_type": "stream",
     "text": [
      "[    -3.6849      230.29      78.827      504.85          67]\n",
      "[    -3.1595      230.29      77.351      505.06          67]\n",
      "[    -2.5705      230.24       76.48      505.17          67]\n",
      "[     108.85      245.36      209.98      454.75          73]\n",
      "[    -2.0544      230.18       75.93      505.22          67]\n"
     ]
    },
    {
     "name": "stderr",
     "output_type": "stream",
     "text": [
      "0: 640x384 3 persons, 662.6ms\n",
      "Speed: 13.0ms preprocess, 662.6ms inference, 14.0ms postprocess per image at shape (1, 3, 640, 384)\n"
     ]
    },
    {
     "name": "stdout",
     "output_type": "stream",
     "text": [
      "[    -2.5847      231.97       73.25      506.02          67]\n",
      "[    -2.3764      232.83      71.888      506.12          67]\n",
      "[    -1.9891      233.28       71.13         506          67]\n"
     ]
    },
    {
     "name": "stderr",
     "output_type": "stream",
     "text": [
      "\n",
      "0: 640x384 3 persons, 853.0ms\n",
      "Speed: 14.0ms preprocess, 853.0ms inference, 12.0ms postprocess per image at shape (1, 3, 640, 384)\n",
      "\n"
     ]
    },
    {
     "name": "stdout",
     "output_type": "stream",
     "text": [
      "[    -1.9887      233.36      69.745      505.37          67]\n",
      "[    -1.7161      233.51      69.006      504.98          67]\n",
      "[    -1.4069      233.65      68.577      504.73          67]\n"
     ]
    },
    {
     "name": "stderr",
     "output_type": "stream",
     "text": [
      "0: 640x384 4 persons, 857.1ms\n",
      "Speed: 16.0ms preprocess, 857.1ms inference, 35.0ms postprocess per image at shape (1, 3, 640, 384)\n"
     ]
    },
    {
     "name": "stdout",
     "output_type": "stream",
     "text": [
      "[    -1.7021      232.62      66.921      501.79          67]\n",
      "[    -1.5493      232.57      66.078      500.31          67]\n",
      "[    -1.2912      232.81      65.608      499.49          67]\n",
      "[     105.17      246.46      192.13      456.65          73]\n",
      "[    -1.0419       233.1      65.326      498.99          67]\n"
     ]
    },
    {
     "name": "stderr",
     "output_type": "stream",
     "text": [
      "\n",
      "0: 640x384 4 persons, 901.2ms\n",
      "Speed: 16.0ms preprocess, 901.2ms inference, 12.0ms postprocess per image at shape (1, 3, 640, 384)\n"
     ]
    },
    {
     "name": "stdout",
     "output_type": "stream",
     "text": [
      "[    -1.7801      233.82       62.83      498.83          67]\n",
      "[    -1.7306      234.27      61.596       498.6          67]\n",
      "[    -1.4638      234.57      60.926      498.39          67]\n",
      "[     101.06      246.51      190.33      456.59          73]\n",
      "[    -1.1763      234.77       60.53      498.22          67]\n"
     ]
    },
    {
     "name": "stderr",
     "output_type": "stream",
     "text": [
      "\n",
      "0: 640x384 4 persons, 1 backpack, 945.5ms\n",
      "Speed: 24.0ms preprocess, 945.5ms inference, 16.0ms postprocess per image at shape (1, 3, 640, 384)\n"
     ]
    },
    {
     "name": "stdout",
     "output_type": "stream",
     "text": [
      "[     99.559      246.53      189.14      456.56          73]\n",
      "[     98.961      246.54      188.77      456.54          73]\n",
      "[      98.72      246.54      188.69      456.53          73]\n",
      "[     98.623      246.55      188.71      456.51          73]\n",
      "[    -1.1987      230.01      56.658      498.97          67]\n",
      "[     170.02      266.65      219.72      455.41          80]\n",
      "[     98.588      246.55      188.75       456.5          73]\n",
      "[   -0.93924      229.52      56.363      499.37          67]\n"
     ]
    },
    {
     "name": "stderr",
     "output_type": "stream",
     "text": [
      "\n",
      "0: 640x384 5 persons, 1 backpack, 1045.7ms\n",
      "Speed: 19.0ms preprocess, 1045.7ms inference, 10.0ms postprocess per image at shape (1, 3, 640, 384)\n"
     ]
    },
    {
     "name": "stdout",
     "output_type": "stream",
     "text": [
      "[     94.936      249.53      184.61      458.09          73]\n",
      "[      93.66       250.9      182.98      458.44          73]\n",
      "[     93.268       251.6      182.32      458.39          73]\n",
      "[     93.195      251.98      182.05      458.23          73]\n",
      "[     -1.587      263.27      50.104      508.94          67]\n",
      "[     167.94      265.86      219.82      456.17          80]\n",
      "[     93.231      252.21      181.94      458.06          73]\n",
      "[    -1.2221      265.56      49.633      507.58          67]\n",
      "[     167.84       265.9      219.92      456.13          80]\n",
      "[     322.67      436.49      477.42      683.08          78]\n",
      "[     93.295      252.37       181.9      457.91          73]\n",
      "[   -0.92164         267       49.33      506.38          67]\n"
     ]
    },
    {
     "name": "stderr",
     "output_type": "stream",
     "text": [
      "\n",
      "0: 640x384 5 persons, 1 backpack, 719.6ms\n",
      "Speed: 13.0ms preprocess, 719.6ms inference, 15.0ms postprocess per image at shape (1, 3, 640, 384)\n"
     ]
    },
    {
     "name": "stdout",
     "output_type": "stream",
     "text": [
      "[     93.189      250.58      183.37      457.07          73]\n",
      "[     92.895      249.74      184.22      456.91          73]\n",
      "[     92.601       249.3      184.76      456.95          73]\n",
      "[     92.359      249.06      185.13      457.05          73]\n",
      "[    -1.1491      273.37      44.685      507.79          67]\n",
      "[     169.52      266.12      220.36      454.88          80]\n",
      "[     92.174       248.9      185.38      457.14          73]\n",
      "[   -0.86904      273.76      44.341      507.47          67]\n",
      "[     169.63      266.24      220.29      454.74          80]\n",
      "[     322.61      432.19      476.38      668.35          78]\n",
      "[     92.039       248.8      185.57      457.22          73]\n",
      "[   -0.64167      273.99      44.122      507.19          67]\n"
     ]
    },
    {
     "name": "stderr",
     "output_type": "stream",
     "text": [
      "\n",
      "0: 640x384 5 persons, 1 backpack, 631.2ms\n",
      "Speed: 16.0ms preprocess, 631.2ms inference, 13.0ms postprocess per image at shape (1, 3, 640, 384)\n"
     ]
    },
    {
     "name": "stdout",
     "output_type": "stream",
     "text": [
      "[     90.637       249.2       184.4      457.47          73]\n",
      "[     90.077      249.38      184.01      457.53          73]\n",
      "[     89.848      249.47       183.9      457.53          73]\n",
      "[     170.79       267.6      221.19      456.41          80]\n",
      "[     89.753      249.51      183.89      457.52          73]\n",
      "[     170.84      267.63      221.19      456.44          80]\n",
      "[     89.714      249.54      183.92       457.5          73]\n",
      "[   -0.42863      276.51      42.063      504.24          67]\n",
      "[     170.87      267.64      221.18      456.45          80]\n",
      "[     320.83      446.75      474.07      657.82          78]\n",
      "[       89.7      249.56      183.95      457.48          73]\n",
      "[   -0.29728      276.76      41.935      503.92          67]\n"
     ]
    },
    {
     "name": "stderr",
     "output_type": "stream",
     "text": [
      "\n",
      "0: 640x384 5 persons, 683.2ms\n",
      "Speed: 14.0ms preprocess, 683.2ms inference, 11.0ms postprocess per image at shape (1, 3, 640, 384)\n",
      "\n"
     ]
    },
    {
     "name": "stdout",
     "output_type": "stream",
     "text": [
      "[     85.967       249.3      180.53      457.74          73]\n",
      "[     84.511      249.11      179.29      457.93          73]\n",
      "[     83.939      248.97      178.88      458.07          73]\n",
      "[     83.716      248.87      178.78      458.16          73]\n",
      "[    -1.3609       280.6       35.04       505.9          67]\n",
      "[     314.77      252.13      479.25         842          82]\n",
      "[     83.631      248.79      178.78      458.23          73]\n",
      "[    -1.0266      280.74      34.562      505.84          67]\n"
     ]
    },
    {
     "name": "stderr",
     "output_type": "stream",
     "text": [
      "0: 640x384 4 persons, 1 backpack, 701.0ms\n",
      "Speed: 17.0ms preprocess, 701.0ms inference, 14.0ms postprocess per image at shape (1, 3, 640, 384)\n"
     ]
    },
    {
     "name": "stdout",
     "output_type": "stream",
     "text": [
      "[     83.686      247.83      178.07      457.89          73]\n",
      "[     83.858      247.36      177.69      457.86          73]\n",
      "[     84.038       247.1      177.47      457.94          73]\n",
      "[     167.38      264.75      221.57      456.22          80]\n",
      "[     84.193      246.94      177.32      458.03          73]\n",
      "[      167.2      264.63      221.73      456.32          80]\n",
      "[     84.319      246.84      177.23       458.1          73]\n",
      "[   -0.51533      285.09      32.126      500.31          67]\n"
     ]
    },
    {
     "name": "stderr",
     "output_type": "stream",
     "text": [
      "\n",
      "0: 640x384 5 persons, 598.8ms\n",
      "Speed: 15.5ms preprocess, 598.8ms inference, 16.0ms postprocess per image at shape (1, 3, 640, 384)\n"
     ]
    },
    {
     "name": "stdout",
     "output_type": "stream",
     "text": [
      "[     83.491      247.42      176.79      458.83          73]\n",
      "[     83.121      247.62       176.7      459.12          73]\n",
      "[     82.945      247.68      176.73      459.25          73]\n",
      "[     169.64       265.2      223.34      455.76          80]\n",
      "[     82.854      247.69      176.79      459.31          73]\n",
      "[     169.75       265.3      223.32      455.66          80]\n",
      "[     82.806      247.68      176.85      459.34          73]\n",
      "[   -0.91527      283.11      26.549       474.7          67]\n"
     ]
    },
    {
     "name": "stderr",
     "output_type": "stream",
     "text": [
      "\n",
      "0: 640x384 5 persons, 1 backpack, 672.2ms\n",
      "Speed: 14.0ms preprocess, 672.2ms inference, 12.0ms postprocess per image at shape (1, 3, 640, 384)\n"
     ]
    },
    {
     "name": "stdout",
     "output_type": "stream",
     "text": [
      "[     79.325      248.42      173.17      459.27          73]\n",
      "[     78.053      248.83      171.75       459.1          73]\n",
      "[     77.617       249.1      171.21      458.93          73]\n",
      "[     169.02      265.44      223.06      455.54          80]\n",
      "[     77.492      249.27         171      458.78          73]\n",
      "[     168.98      265.47      223.07       455.5          80]\n",
      "[     316.66      409.86      458.95      619.74          78]\n",
      "[     77.479      249.39      170.93      458.67          73]\n",
      "[     314.71      250.84      476.22      831.64          82]\n",
      "[     168.95       265.5      223.08      455.48          80]\n",
      "[      316.6      409.51      458.98      620.01          78]\n",
      "[     77.504      249.48      170.91      458.58          73]\n"
     ]
    },
    {
     "name": "stderr",
     "output_type": "stream",
     "text": [
      "\n",
      "0: 640x384 3 persons, 1 backpack, 680.7ms\n",
      "Speed: 14.0ms preprocess, 680.7ms inference, 16.0ms postprocess per image at shape (1, 3, 640, 384)\n",
      "\n"
     ]
    },
    {
     "name": "stdout",
     "output_type": "stream",
     "text": [
      "[     74.482      249.41      170.05       459.3          73]\n",
      "[     72.975      249.26      170.12       459.7          73]\n",
      "[     72.148       249.1      170.44      459.93          73]\n",
      "[     168.06      265.68      222.95      456.31          80]\n",
      "[     71.653      248.98      170.79      460.08          73]\n"
     ]
    },
    {
     "name": "stderr",
     "output_type": "stream",
     "text": [
      "0: 640x384 3 persons, 1 backpack, 668.8ms\n",
      "Speed: 26.0ms preprocess, 668.8ms inference, 13.0ms postprocess per image at shape (1, 3, 640, 384)\n",
      "\n"
     ]
    },
    {
     "name": "stdout",
     "output_type": "stream",
     "text": [
      "[     69.271      246.87      167.93      458.94          73]\n",
      "[     68.472      245.89      166.78      458.68          73]\n",
      "[     68.256      245.39       166.3      458.71          73]\n",
      "[     313.65      228.22      472.21      797.47          82]\n",
      "[     68.244      245.12       166.1      458.82          73]\n"
     ]
    },
    {
     "name": "stderr",
     "output_type": "stream",
     "text": [
      "0: 640x384 3 persons, 1 backpack, 699.0ms\n",
      "Speed: 17.0ms preprocess, 699.0ms inference, 9.0ms postprocess per image at shape (1, 3, 640, 384)\n",
      "\n"
     ]
    },
    {
     "name": "stdout",
     "output_type": "stream",
     "text": [
      "[     65.622      245.38      166.07      459.15          73]\n",
      "[     64.195      245.48      166.54      459.29          73]\n",
      "[     63.345      245.51      167.07      459.35          73]\n",
      "[     312.78      234.68      470.04       799.5          82]\n",
      "[     62.804      245.52      167.54      459.38          73]\n"
     ]
    },
    {
     "name": "stderr",
     "output_type": "stream",
     "text": [
      "0: 640x384 3 persons, 1 backpack, 678.4ms\n",
      "Speed: 14.1ms preprocess, 678.4ms inference, 9.5ms postprocess per image at shape (1, 3, 640, 384)\n",
      "\n"
     ]
    },
    {
     "name": "stdout",
     "output_type": "stream",
     "text": [
      "[     61.514      244.78      167.54       459.5          73]\n",
      "[     60.819      244.35      167.78      459.69          73]\n",
      "[     60.411      244.09      168.05      459.87          73]\n",
      "[     169.68      268.39      223.36      455.62          80]\n",
      "[     60.156      243.91      168.29      460.01          73]\n"
     ]
    },
    {
     "name": "stderr",
     "output_type": "stream",
     "text": [
      "0: 640x384 3 persons, 1 backpack, 800.3ms\n",
      "Speed: 16.0ms preprocess, 800.3ms inference, 19.0ms postprocess per image at shape (1, 3, 640, 384)\n"
     ]
    },
    {
     "name": "stdout",
     "output_type": "stream",
     "text": [
      "[     56.556      243.78       166.7      460.15          73]\n",
      "[     54.857      243.69      166.46      460.24          73]\n",
      "[      53.98      243.62      166.65      460.31          73]\n",
      "[     318.94      415.63      451.77      600.19          78]\n",
      "[     53.483      243.58      166.93      460.36          73]\n"
     ]
    },
    {
     "name": "stderr",
     "output_type": "stream",
     "text": [
      "\n",
      "0: 640x384 3 persons, 1 backpack, 862.7ms\n",
      "Speed: 40.0ms preprocess, 862.7ms inference, 16.0ms postprocess per image at shape (1, 3, 640, 384)\n",
      "\n"
     ]
    },
    {
     "name": "stdout",
     "output_type": "stream",
     "text": [
      "[     49.788      243.78      160.79      460.82          73]\n",
      "[      48.84      243.81      158.05      461.04          73]\n",
      "[     48.827      243.78      156.73      461.16          73]\n",
      "[      165.5      269.51      223.43      456.54          80]\n",
      "[     49.086      243.75      156.04      461.23          73]\n"
     ]
    },
    {
     "name": "stderr",
     "output_type": "stream",
     "text": [
      "0: 640x384 3 persons, 1 backpack, 961.5ms\n",
      "Speed: 21.0ms preprocess, 961.5ms inference, 13.0ms postprocess per image at shape (1, 3, 640, 384)\n",
      "\n"
     ]
    },
    {
     "name": "stdout",
     "output_type": "stream",
     "text": [
      "[     49.301      243.52      156.38      460.82          73]\n",
      "[     49.392      243.46      156.56      460.64          73]\n",
      "[     49.438      243.47      156.67      460.54          73]\n",
      "[      165.9      269.65      224.03      456.46          80]\n",
      "[     49.468      243.49      156.74      460.49          73]\n"
     ]
    },
    {
     "name": "stderr",
     "output_type": "stream",
     "text": [
      "0: 640x384 3 persons, 1 backpack, 973.0ms\n",
      "Speed: 17.0ms preprocess, 973.0ms inference, 15.0ms postprocess per image at shape (1, 3, 640, 384)\n"
     ]
    },
    {
     "name": "stdout",
     "output_type": "stream",
     "text": [
      "[     47.152      243.63      153.92      461.64          73]\n",
      "[     46.386      243.51      152.78      462.26          73]\n",
      "[     46.187      243.33      152.31      462.62          73]\n",
      "[     165.89      267.99      224.08      456.07          80]\n",
      "[     46.186      243.16       152.1      462.86          73]\n"
     ]
    },
    {
     "name": "stderr",
     "output_type": "stream",
     "text": [
      "\n",
      "0: 640x384 3 persons, 1 backpack, 919.7ms\n",
      "Speed: 21.0ms preprocess, 919.7ms inference, 15.0ms postprocess per image at shape (1, 3, 640, 384)\n",
      "\n"
     ]
    },
    {
     "name": "stdout",
     "output_type": "stream",
     "text": [
      "[     45.023      242.58      149.97      462.81          73]\n",
      "[     44.776      242.26      149.02      462.88          73]\n",
      "[     44.832      242.07      148.56      462.98          73]\n",
      "[     165.89      267.59      224.09      455.39          80]\n",
      "[     44.969      241.95      148.32      463.07          73]\n"
     ]
    },
    {
     "name": "stderr",
     "output_type": "stream",
     "text": [
      "0: 640x384 2 persons, 1 vase, 847.5ms\n",
      "Speed: 18.0ms preprocess, 847.5ms inference, 15.0ms postprocess per image at shape (1, 3, 640, 384)\n",
      "\n"
     ]
    },
    {
     "name": "stdout",
     "output_type": "stream",
     "text": [
      "[     44.648      242.33      147.99      463.33          73]\n",
      "[     44.549      242.49      147.89      463.41          73]\n",
      "[     44.532      242.57      147.87      463.42          73]\n"
     ]
    },
    {
     "name": "stderr",
     "output_type": "stream",
     "text": [
      "0: 640x384 3 persons, 718.6ms\n",
      "Speed: 16.0ms preprocess, 718.6ms inference, 11.5ms postprocess per image at shape (1, 3, 640, 384)\n",
      "\n"
     ]
    },
    {
     "name": "stdout",
     "output_type": "stream",
     "text": [
      "[     43.596      243.01      145.56      464.32          73]\n",
      "[       43.5      243.09      144.46      464.74          73]\n",
      "[     43.659      243.06      143.89      464.95          73]\n"
     ]
    },
    {
     "name": "stderr",
     "output_type": "stream",
     "text": [
      "0: 640x384 3 persons, 1 backpack, 748.3ms\n",
      "Speed: 22.0ms preprocess, 748.3ms inference, 10.0ms postprocess per image at shape (1, 3, 640, 384)\n",
      "\n"
     ]
    },
    {
     "name": "stdout",
     "output_type": "stream",
     "text": [
      "[      41.72      243.66      141.14      465.72          73]\n",
      "[     41.147      243.85      139.98      466.04          73]\n",
      "[     41.058       243.9      139.46      466.18          73]\n",
      "[     313.52       267.5      447.26       774.1          82]\n",
      "[     41.124      243.89      139.21      466.24          73]\n"
     ]
    },
    {
     "name": "stderr",
     "output_type": "stream",
     "text": [
      "0: 640x384 3 persons, 1 vase, 677.1ms\n",
      "Speed: 12.0ms preprocess, 677.1ms inference, 11.0ms postprocess per image at shape (1, 3, 640, 384)\n",
      "\n"
     ]
    },
    {
     "name": "stdout",
     "output_type": "stream",
     "text": [
      "[     40.111      243.87      138.24      466.28          73]\n",
      "[     39.742      243.85       137.9      466.29          73]\n",
      "[     39.618      243.83       137.8       466.3          73]\n",
      "[     162.24      259.01      223.67      412.86          80]\n",
      "[     39.589      243.82      137.78      466.31          73]\n"
     ]
    },
    {
     "name": "stderr",
     "output_type": "stream",
     "text": [
      "0: 640x384 3 persons, 1 backpack, 604.9ms\n",
      "Speed: 14.0ms preprocess, 604.9ms inference, 13.0ms postprocess per image at shape (1, 3, 640, 384)\n",
      "\n"
     ]
    },
    {
     "name": "stdout",
     "output_type": "stream",
     "text": [
      "[     38.479      244.27      136.96       466.5          73]\n",
      "[     38.027      244.48      136.71      466.52          73]\n",
      "[     37.839      244.59      136.67      466.49          73]\n",
      "[     312.32      261.61      437.47      753.65          82]\n",
      "[      37.76      244.65       136.7      466.45          73]\n"
     ]
    },
    {
     "name": "stderr",
     "output_type": "stream",
     "text": [
      "0: 640x384 3 persons, 745.1ms\n",
      "Speed: 14.0ms preprocess, 745.1ms inference, 8.0ms postprocess per image at shape (1, 3, 640, 384)\n",
      "\n"
     ]
    },
    {
     "name": "stdout",
     "output_type": "stream",
     "text": [
      "[     35.686      244.78      135.53      465.68          73]\n",
      "[     34.759      244.98      135.25      465.23          73]\n",
      "[     34.313      245.16      135.28      464.94          73]\n"
     ]
    },
    {
     "name": "stderr",
     "output_type": "stream",
     "text": [
      "0: 640x384 3 persons, 859.6ms\n",
      "Speed: 15.0ms preprocess, 859.6ms inference, 13.0ms postprocess per image at shape (1, 3, 640, 384)\n",
      "\n"
     ]
    },
    {
     "name": "stdout",
     "output_type": "stream",
     "text": [
      "[     30.896      245.89      131.39      466.13          73]\n",
      "[     29.704      246.09      129.86      466.66          73]\n",
      "[      29.34       246.1      129.24      466.92          73]\n"
     ]
    },
    {
     "name": "stderr",
     "output_type": "stream",
     "text": [
      "0: 640x384 3 persons, 640.0ms\n",
      "Speed: 14.0ms preprocess, 640.0ms inference, 8.0ms postprocess per image at shape (1, 3, 640, 384)\n",
      "\n"
     ]
    },
    {
     "name": "stdout",
     "output_type": "stream",
     "text": [
      "[     28.803      246.54      128.81      469.17          73]\n",
      "[      28.61      246.38      128.69      470.35          73]\n",
      "[     28.552      246.08      128.68      471.02          73]\n"
     ]
    },
    {
     "name": "stderr",
     "output_type": "stream",
     "text": [
      "0: 640x384 2 persons, 1 vase, 833.4ms\n",
      "Speed: 19.0ms preprocess, 833.4ms inference, 12.0ms postprocess per image at shape (1, 3, 640, 384)\n",
      "\n"
     ]
    },
    {
     "name": "stdout",
     "output_type": "stream",
     "text": [
      "[     27.428      245.97      127.87       471.9          73]\n",
      "[      26.97      245.75      127.64       472.4          73]\n",
      "[     26.781      245.53      127.61      472.71          73]\n"
     ]
    },
    {
     "name": "stderr",
     "output_type": "stream",
     "text": [
      "0: 640x384 2 persons, 670.1ms\n",
      "Speed: 14.0ms preprocess, 670.1ms inference, 12.0ms postprocess per image at shape (1, 3, 640, 384)\n",
      "\n"
     ]
    },
    {
     "name": "stdout",
     "output_type": "stream",
     "text": [
      "[     25.037      244.85      127.35      472.75          73]\n",
      "[     24.137      244.47      127.54      472.87          73]\n"
     ]
    },
    {
     "name": "stderr",
     "output_type": "stream",
     "text": [
      "0: 640x384 3 persons, 638.9ms\n",
      "Speed: 17.0ms preprocess, 638.9ms inference, 9.0ms postprocess per image at shape (1, 3, 640, 384)\n",
      "\n"
     ]
    },
    {
     "name": "stdout",
     "output_type": "stream",
     "text": [
      "[     20.844      243.27      126.68      472.66          73]\n",
      "[     19.191      242.65      126.81      472.73          73]\n",
      "[     18.278       242.3      127.19      472.87          73]\n"
     ]
    },
    {
     "name": "stderr",
     "output_type": "stream",
     "text": [
      "0: 640x384 3 persons, 740.9ms\n",
      "Speed: 20.0ms preprocess, 740.9ms inference, 8.5ms postprocess per image at shape (1, 3, 640, 384)\n",
      "\n"
     ]
    },
    {
     "name": "stdout",
     "output_type": "stream",
     "text": [
      "[     16.606      242.36      126.75      474.68          73]\n",
      "[     15.782      242.09      126.82      475.67          73]\n",
      "[     15.338      241.76      127.03      476.25          73]\n"
     ]
    },
    {
     "name": "stderr",
     "output_type": "stream",
     "text": [
      "0: 640x384 3 persons, 834.3ms\n",
      "Speed: 14.0ms preprocess, 834.3ms inference, 16.0ms postprocess per image at shape (1, 3, 640, 384)\n",
      "\n"
     ]
    },
    {
     "name": "stdout",
     "output_type": "stream",
     "text": [
      "[     13.386      241.79      125.02      478.27          73]\n",
      "[     12.683      241.45      124.26      479.38          73]\n",
      "[     12.451      241.05      123.99      480.05          73]\n"
     ]
    },
    {
     "name": "stderr",
     "output_type": "stream",
     "text": [
      "0: 640x384 2 persons, 794.1ms\n",
      "Speed: 19.0ms preprocess, 794.1ms inference, 18.0ms postprocess per image at shape (1, 3, 640, 384)\n",
      "\n"
     ]
    },
    {
     "name": "stdout",
     "output_type": "stream",
     "text": [
      "[     8.8401      241.76      120.93         484          73]\n",
      "[     7.4068      241.45      119.88      486.06          73]\n"
     ]
    },
    {
     "name": "stderr",
     "output_type": "stream",
     "text": [
      "0: 640x384 3 persons, 890.5ms\n",
      "Speed: 17.0ms preprocess, 890.5ms inference, 13.0ms postprocess per image at shape (1, 3, 640, 384)\n",
      "\n"
     ]
    },
    {
     "name": "stdout",
     "output_type": "stream",
     "text": [
      "[     5.9718      241.61      118.48       489.8          73]\n",
      "[      5.462      241.02      117.98      491.84          73]\n",
      "[     5.3045       240.3      117.82      493.07          73]\n"
     ]
    },
    {
     "name": "stderr",
     "output_type": "stream",
     "text": [
      "0: 640x384 3 persons, 955.5ms\n",
      "Speed: 17.0ms preprocess, 955.5ms inference, 11.0ms postprocess per image at shape (1, 3, 640, 384)\n",
      "\n"
     ]
    },
    {
     "name": "stdout",
     "output_type": "stream",
     "text": [
      "[     2.9358      240.26      114.91      495.22          73]\n",
      "[     2.1671      239.84      113.73      496.41          73]\n",
      "[     1.9827      239.36      113.25      497.14          73]\n"
     ]
    },
    {
     "name": "stderr",
     "output_type": "stream",
     "text": [
      "0: 640x384 3 persons, 927.1ms\n",
      "Speed: 15.0ms preprocess, 927.1ms inference, 14.6ms postprocess per image at shape (1, 3, 640, 384)\n",
      "\n"
     ]
    },
    {
     "name": "stdout",
     "output_type": "stream",
     "text": [
      "[    0.20965      240.42      111.57      502.02          73]\n",
      "[   -0.43853      240.11      110.98      504.54          73]\n",
      "[   -0.65521      239.46      110.79      505.97          73]\n"
     ]
    },
    {
     "name": "stderr",
     "output_type": "stream",
     "text": [
      "0: 640x384 3 persons, 1099.4ms\n",
      "Speed: 17.0ms preprocess, 1099.4ms inference, 13.0ms postprocess per image at shape (1, 3, 640, 384)\n",
      "\n"
     ]
    },
    {
     "name": "stdout",
     "output_type": "stream",
     "text": [
      "[    -1.2848      238.52      109.37      507.81          73]\n",
      "[    -1.3503      237.63      108.72         509          73]\n",
      "[    -1.2398      236.89       108.4       509.8          73]\n"
     ]
    },
    {
     "name": "stderr",
     "output_type": "stream",
     "text": [
      "0: 640x384 3 persons, 1 tie, 605.4ms\n",
      "Speed: 13.0ms preprocess, 605.4ms inference, 16.8ms postprocess per image at shape (1, 3, 640, 384)\n",
      "\n"
     ]
    },
    {
     "name": "stdout",
     "output_type": "stream",
     "text": [
      "[    -1.6634      234.77      106.84      509.29          73]\n",
      "[    -1.5964      233.65      106.07      509.37          73]\n",
      "[    -1.3973         233      105.66      509.61          73]\n",
      "[     144.02      255.75      223.78      450.42          80]\n",
      "[    -1.1889      232.58      105.42      509.84          73]\n"
     ]
    },
    {
     "name": "stderr",
     "output_type": "stream",
     "text": [
      "0: 640x384 3 persons, 694.9ms\n",
      "Speed: 19.0ms preprocess, 694.9ms inference, 8.0ms postprocess per image at shape (1, 3, 640, 384)\n",
      "\n"
     ]
    },
    {
     "name": "stdout",
     "output_type": "stream",
     "text": [
      "[    -1.3887       232.7      104.35      510.95          73]\n",
      "[    -1.2891      232.55      103.81      511.54          73]\n",
      "[    -1.1177      232.36      103.52      511.88          73]\n"
     ]
    },
    {
     "name": "stderr",
     "output_type": "stream",
     "text": [
      "0: 640x384 3 persons, 711.7ms\n",
      "Speed: 12.0ms preprocess, 711.7ms inference, 12.0ms postprocess per image at shape (1, 3, 640, 384)\n",
      "\n"
     ]
    },
    {
     "name": "stdout",
     "output_type": "stream",
     "text": [
      "[    -1.5187         232      101.95      511.62          73]\n",
      "[    -1.4472      231.84      101.17      511.53          73]\n",
      "[     -1.251      231.76      100.75       511.5          73]\n"
     ]
    },
    {
     "name": "stderr",
     "output_type": "stream",
     "text": [
      "0: 640x384 3 persons, 622.7ms\n",
      "Speed: 14.0ms preprocess, 622.7ms inference, 12.0ms postprocess per image at shape (1, 3, 640, 384)\n",
      "\n"
     ]
    },
    {
     "name": "stdout",
     "output_type": "stream",
     "text": [
      "[     -1.429      231.46      99.569      511.75          73]\n",
      "[     -1.303      231.24      98.965      511.94          73]\n",
      "[    -1.1089      231.08      98.624      512.08          73]\n"
     ]
    },
    {
     "name": "stderr",
     "output_type": "stream",
     "text": [
      "0: 640x384 3 persons, 825.0ms\n",
      "Speed: 16.0ms preprocess, 825.0ms inference, 12.0ms postprocess per image at shape (1, 3, 640, 384)\n",
      "\n"
     ]
    },
    {
     "name": "stdout",
     "output_type": "stream",
     "text": [
      "[    -1.3029      230.58       97.49      511.25          73]\n",
      "[    -1.1954      230.45      96.911      510.87          73]\n",
      "[    -1.0178      230.45      96.586      510.68          73]\n"
     ]
    },
    {
     "name": "stderr",
     "output_type": "stream",
     "text": [
      "0: 640x384 3 persons, 733.7ms\n",
      "Speed: 13.0ms preprocess, 733.7ms inference, 12.0ms postprocess per image at shape (1, 3, 640, 384)\n",
      "\n"
     ]
    },
    {
     "name": "stdout",
     "output_type": "stream",
     "text": [
      "[     -1.795      231.15      94.073      511.21          73]\n",
      "[    -1.7698      231.45       92.83      511.37          73]\n",
      "[      -1.52      231.59      92.155      511.41          73]\n"
     ]
    },
    {
     "name": "stderr",
     "output_type": "stream",
     "text": [
      "0: 640x384 3 persons, 583.9ms\n",
      "Speed: 14.0ms preprocess, 583.9ms inference, 8.0ms postprocess per image at shape (1, 3, 640, 384)\n",
      "\n"
     ]
    },
    {
     "name": "stdout",
     "output_type": "stream",
     "text": [
      "[    -1.8139      231.67      90.363      511.39          73]\n",
      "[    -1.6453      231.72      89.439      511.36          73]\n",
      "[    -1.3712      231.75      88.915      511.33          73]\n"
     ]
    },
    {
     "name": "stderr",
     "output_type": "stream",
     "text": [
      "0: 640x384 3 persons, 724.6ms\n",
      "Speed: 14.0ms preprocess, 724.6ms inference, 10.0ms postprocess per image at shape (1, 3, 640, 384)\n",
      "\n"
     ]
    },
    {
     "name": "stdout",
     "output_type": "stream",
     "text": [
      "[     -2.057      232.05      86.276      511.02          73]\n",
      "[    -1.9568      232.28       84.95      510.78          73]\n",
      "[    -1.6486      232.45      84.217      510.61          73]\n"
     ]
    },
    {
     "name": "stderr",
     "output_type": "stream",
     "text": [
      "0: 640x384 3 persons, 658.7ms\n",
      "Speed: 12.0ms preprocess, 658.7ms inference, 16.0ms postprocess per image at shape (1, 3, 640, 384)\n",
      "\n"
     ]
    },
    {
     "name": "stdout",
     "output_type": "stream",
     "text": [
      "[    -2.2773      233.06      81.458      510.65          73]\n",
      "[    -2.1225      233.39      80.059      510.56          73]\n",
      "[    -1.7693       233.6      79.277      510.44          73]\n"
     ]
    },
    {
     "name": "stderr",
     "output_type": "stream",
     "text": [
      "0: 640x384 4 persons, 613.5ms\n",
      "Speed: 15.0ms preprocess, 613.5ms inference, 11.0ms postprocess per image at shape (1, 3, 640, 384)\n",
      "\n"
     ]
    },
    {
     "name": "stdout",
     "output_type": "stream",
     "text": [
      "[    -2.1731      234.21       76.95      510.51          73]\n",
      "[    -1.9678      234.54      75.751      510.43          73]\n",
      "[    -1.6214      234.74      75.072      510.32          73]\n",
      "[     121.41      248.74      193.69      448.22          80]\n",
      "[    -1.2888      234.86      74.657      510.22          73]\n"
     ]
    },
    {
     "name": "stderr",
     "output_type": "stream",
     "text": [
      "0: 640x384 5 persons, 782.8ms\n",
      "Speed: 14.0ms preprocess, 782.8ms inference, 9.0ms postprocess per image at shape (1, 3, 640, 384)\n",
      "\n"
     ]
    },
    {
     "name": "stdout",
     "output_type": "stream",
     "text": [
      "[     119.91      248.89      191.89      448.68          80]\n",
      "[     119.42       248.9      191.18      448.91          80]\n",
      "[      119.3      248.87      190.91      449.03          80]\n",
      "[     119.31      248.83      190.81      449.11          80]\n",
      "[    -1.5762      237.83      69.041      511.27          73]\n",
      "[     314.58      267.44      398.19      602.55          82]\n",
      "[     119.36      248.79      190.78      449.16          80]\n",
      "[     -1.232      238.01      68.617      511.17          73]\n"
     ]
    },
    {
     "name": "stderr",
     "output_type": "stream",
     "text": [
      "0: 640x384 4 persons, 1258.7ms\n",
      "Speed: 21.0ms preprocess, 1258.7ms inference, 16.0ms postprocess per image at shape (1, 3, 640, 384)\n"
     ]
    },
    {
     "name": "stdout",
     "output_type": "stream",
     "text": [
      "[     116.99      250.07      188.64      450.51          80]\n",
      "[     116.08      250.54      187.88      451.03          80]\n",
      "[     115.74      250.71      187.65      451.23          80]\n",
      "[     179.58      267.05      226.79      449.15          85]\n",
      "[     115.62      250.77      187.61      451.31          80]\n"
     ]
    },
    {
     "name": "stderr",
     "output_type": "stream",
     "text": [
      "\n",
      "0: 640x384 4 persons, 931.4ms\n",
      "Speed: 19.0ms preprocess, 931.4ms inference, 17.0ms postprocess per image at shape (1, 3, 640, 384)\n",
      "\n"
     ]
    },
    {
     "name": "stdout",
     "output_type": "stream",
     "text": [
      "[     110.92      250.02       183.8      451.44          80]\n",
      "[     109.02      249.58      182.54      451.64          80]\n",
      "[     108.22      249.31      182.21      451.82          80]\n",
      "[     178.18      264.87      225.07      448.18          85]\n",
      "[     107.86      249.12       182.2      451.96          80]\n"
     ]
    },
    {
     "name": "stderr",
     "output_type": "stream",
     "text": [
      "0: 640x384 4 persons, 829.1ms\n",
      "Speed: 16.0ms preprocess, 829.1ms inference, 14.0ms postprocess per image at shape (1, 3, 640, 384)\n",
      "\n"
     ]
    },
    {
     "name": "stdout",
     "output_type": "stream",
     "text": [
      "[      103.7      248.51      179.11       451.9          80]\n",
      "[     101.97      248.19      178.16      451.96          80]\n",
      "[     101.22         248      177.98      452.05          80]\n",
      "[     174.54       261.3      224.47      449.63          85]\n",
      "[     100.87      247.89      178.04      452.13          80]\n"
     ]
    },
    {
     "name": "stderr",
     "output_type": "stream",
     "text": [
      "0: 640x384 4 persons, 859.6ms\n",
      "Speed: 18.0ms preprocess, 859.6ms inference, 14.0ms postprocess per image at shape (1, 3, 640, 384)\n"
     ]
    },
    {
     "name": "stdout",
     "output_type": "stream",
     "text": [
      "[     99.292      248.48      175.67      452.83          80]\n",
      "[     98.868      248.69      174.67      453.11          80]\n",
      "[     98.846      248.75      174.22      453.23          80]\n",
      "[     172.14      259.86      223.73      451.04          85]\n",
      "[     98.948      248.76      174.01      453.28          80]\n"
     ]
    },
    {
     "name": "stderr",
     "output_type": "stream",
     "text": [
      "\n",
      "0: 640x384 4 persons, 862.5ms\n",
      "Speed: 17.0ms preprocess, 862.5ms inference, 8.0ms postprocess per image at shape (1, 3, 640, 384)\n",
      "\n"
     ]
    },
    {
     "name": "stdout",
     "output_type": "stream",
     "text": [
      "[     169.61      258.52      222.93      451.08          85]\n",
      "[     168.38      257.85      222.92      451.26          85]\n",
      "[     167.72      257.49      223.12      451.45          85]\n",
      "[     167.35      257.29      223.35      451.59          85]\n",
      "[     96.988      247.56      170.17      451.47          80]\n"
     ]
    },
    {
     "name": "stderr",
     "output_type": "stream",
     "text": [
      "0: 640x384 6 persons, 720.6ms\n",
      "Speed: 16.0ms preprocess, 720.6ms inference, 17.0ms postprocess per image at shape (1, 3, 640, 384)\n"
     ]
    },
    {
     "name": "stdout",
     "output_type": "stream",
     "text": [
      "[     166.36      257.22      223.66      450.99          85]\n",
      "[     165.77      257.31         224      450.66          85]\n",
      "[     165.41      257.43       224.3      450.46          85]\n",
      "[     165.16      257.55      224.54      450.32          85]\n",
      "[      93.51      246.79      166.71      451.15          80]\n",
      "[        165      257.65      224.71      450.21          85]\n",
      "[     313.08      275.45      382.63      595.31          82]\n",
      "[     93.472      246.76      166.67      451.16          80]\n",
      "[     164.89      257.74      224.85      450.13          85]\n",
      "[     313.19       275.1      382.46      595.61          82]\n",
      "[     93.484      246.74      166.68      451.18          80]\n",
      "[    -1.1439       288.3      39.599      460.17          73]\n"
     ]
    },
    {
     "name": "stderr",
     "output_type": "stream",
     "text": [
      "\n",
      "0: 640x384 5 persons, 651.5ms\n",
      "Speed: 15.0ms preprocess, 651.5ms inference, 15.2ms postprocess per image at shape (1, 3, 640, 384)\n",
      "\n"
     ]
    },
    {
     "name": "stdout",
     "output_type": "stream",
     "text": [
      "[     163.23      256.66      223.92      449.27          85]\n",
      "[     162.47      256.23      223.71      448.97          85]\n",
      "[     162.11      256.06      223.73      448.87          85]\n",
      "[     161.92         256      223.81      448.84          85]\n",
      "[     89.408       245.2      161.93       447.7          80]\n",
      "[     161.81      255.98      223.89      448.84          85]\n",
      "[     314.14      277.06      380.59      592.71          82]\n",
      "[     89.394       245.3      161.81       447.5          80]\n"
     ]
    },
    {
     "name": "stderr",
     "output_type": "stream",
     "text": [
      "0: 640x384 4 persons, 1 refrigerator, 720.6ms\n",
      "Speed: 13.0ms preprocess, 720.6ms inference, 9.0ms postprocess per image at shape (1, 3, 640, 384)\n",
      "\n"
     ]
    },
    {
     "name": "stdout",
     "output_type": "stream",
     "text": [
      "[     160.44      255.52      222.66      448.65          85]\n",
      "[     159.91      255.31      222.23      448.62          85]\n",
      "[      159.7      255.22      222.09      448.64          85]\n",
      "[     159.63      255.17      222.06      448.67          85]\n",
      "[     84.858      245.03      158.46       448.8          80]\n",
      "[     382.28      402.84      478.03      729.68          87]\n",
      "[      159.6      255.15      222.06      448.69          85]\n",
      "[     84.722      244.94      158.48      448.92          80]\n"
     ]
    },
    {
     "name": "stderr",
     "output_type": "stream",
     "text": [
      "0: 640x384 4 persons, 1 refrigerator, 684.5ms\n",
      "Speed: 17.0ms preprocess, 684.5ms inference, 13.0ms postprocess per image at shape (1, 3, 640, 384)\n"
     ]
    },
    {
     "name": "stdout",
     "output_type": "stream",
     "text": [
      "[     81.216      244.89      154.81         449          80]\n",
      "[      79.94      244.84      153.42      449.05          80]\n",
      "[     79.509      244.81      152.91      449.09          80]\n",
      "[     150.17      254.72      219.49      448.16          85]\n",
      "[     79.393      244.79      152.73      449.12          80]\n",
      "[     359.64      329.42      480.37      822.45          87]\n",
      "[     149.58      254.77      219.85       448.1          85]\n",
      "[     79.391      244.78      152.68      449.15          80]\n"
     ]
    },
    {
     "name": "stderr",
     "output_type": "stream",
     "text": [
      "\n",
      "0: 640x384 4 persons, 621.4ms\n",
      "Speed: 13.0ms preprocess, 621.4ms inference, 12.0ms postprocess per image at shape (1, 3, 640, 384)\n",
      "\n"
     ]
    },
    {
     "name": "stdout",
     "output_type": "stream",
     "text": [
      "[     76.728      243.82      150.81       448.8          80]\n",
      "[     75.608      243.36      150.26      448.78          80]\n",
      "[     75.113      243.12      150.19      448.85          80]\n",
      "[      345.5      233.82       480.3      834.55          87]\n",
      "[     74.882      242.97      150.26      448.93          80]\n"
     ]
    },
    {
     "name": "stderr",
     "output_type": "stream",
     "text": [
      "0: 640x384 4 persons, 643.8ms\n",
      "Speed: 15.0ms preprocess, 643.8ms inference, 8.0ms postprocess per image at shape (1, 3, 640, 384)\n",
      "\n"
     ]
    },
    {
     "name": "stdout",
     "output_type": "stream",
     "text": [
      "[     73.188      242.41      149.34      448.83          80]\n",
      "[     72.438      242.12      149.15      448.87          80]\n",
      "[     72.082      241.96      149.21      448.95          80]\n",
      "[     333.06      218.11      479.64      850.63          87]\n",
      "[     71.901      241.86      149.33      449.02          80]\n"
     ]
    },
    {
     "name": "stderr",
     "output_type": "stream",
     "text": [
      "0: 640x384 3 persons, 982.4ms\n",
      "Speed: 14.0ms preprocess, 982.4ms inference, 11.0ms postprocess per image at shape (1, 3, 640, 384)\n",
      "\n"
     ]
    },
    {
     "name": "stdout",
     "output_type": "stream",
     "text": [
      "[      327.1       219.4      478.25      853.09          87]\n",
      "[     324.16      219.96       478.5      854.22          87]\n",
      "[     322.58      220.32      479.17      854.73          87]\n"
     ]
    },
    {
     "name": "stderr",
     "output_type": "stream",
     "text": [
      "0: 640x384 3 persons, 669.0ms\n",
      "Speed: 16.0ms preprocess, 669.0ms inference, 11.5ms postprocess per image at shape (1, 3, 640, 384)\n",
      "\n"
     ]
    },
    {
     "name": "stdout",
     "output_type": "stream",
     "text": [
      "[     316.59      216.52      477.07      853.19          87]\n",
      "[     313.73      214.95      476.97      852.92          87]\n",
      "[     312.25      214.35      477.44      853.02          87]\n"
     ]
    },
    {
     "name": "stderr",
     "output_type": "stream",
     "text": [
      "0: 640x384 3 persons, 665.9ms\n",
      "Speed: 14.0ms preprocess, 665.9ms inference, 10.0ms postprocess per image at shape (1, 3, 640, 384)\n",
      "\n"
     ]
    },
    {
     "name": "stdout",
     "output_type": "stream",
     "text": [
      "[     59.796      240.33      140.96      449.13          80]\n",
      "[     58.353       240.4      139.83      450.01          80]\n",
      "[     57.791       240.3      139.49      450.48          80]\n"
     ]
    },
    {
     "name": "stderr",
     "output_type": "stream",
     "text": [
      "0: 640x384 3 persons, 1 chair, 878.2ms\n",
      "Speed: 24.0ms preprocess, 878.2ms inference, 7.0ms postprocess per image at shape (1, 3, 640, 384)\n",
      "\n"
     ]
    },
    {
     "name": "stdout",
     "output_type": "stream",
     "text": [
      "[      55.53      240.14      138.21      450.78          80]\n",
      "[     54.538      240.01      137.93      450.96          80]\n",
      "[     54.074      239.91      137.99      451.08          80]\n",
      "[     311.21      228.72      480.81      855.03          87]\n",
      "[     53.842      239.83      138.13      451.17          80]\n"
     ]
    },
    {
     "name": "stderr",
     "output_type": "stream",
     "text": [
      "0: 640x384 3 persons, 674.1ms\n",
      "Speed: 13.0ms preprocess, 674.1ms inference, 13.0ms postprocess per image at shape (1, 3, 640, 384)\n"
     ]
    },
    {
     "name": "stdout",
     "output_type": "stream",
     "text": [
      "[     51.298      238.66      136.14      450.39          80]\n",
      "[     50.268      238.14      135.51      450.16          80]\n",
      "[     49.841       237.9      135.37      450.13          80]\n"
     ]
    },
    {
     "name": "stderr",
     "output_type": "stream",
     "text": [
      "\n",
      "0: 640x384 3 persons, 836.1ms\n",
      "Speed: 38.0ms preprocess, 836.1ms inference, 17.0ms postprocess per image at shape (1, 3, 640, 384)\n",
      "\n"
     ]
    },
    {
     "name": "stdout",
     "output_type": "stream",
     "text": [
      "[     310.71      226.74      480.65       846.9          87]\n",
      "[     310.79      228.16      480.61      845.09          87]\n",
      "[     310.86      229.27      480.59      843.89          87]\n"
     ]
    },
    {
     "name": "stderr",
     "output_type": "stream",
     "text": [
      "0: 640x384 3 persons, 839.8ms\n",
      "Speed: 18.0ms preprocess, 839.8ms inference, 11.0ms postprocess per image at shape (1, 3, 640, 384)\n"
     ]
    },
    {
     "name": "stdout",
     "output_type": "stream",
     "text": [
      "[     43.241      238.28      132.63      449.98          80]\n",
      "[     41.766      238.29      132.82      449.75          80]\n",
      "[     40.961      238.33      133.21      449.63          80]\n"
     ]
    },
    {
     "name": "stderr",
     "output_type": "stream",
     "text": [
      "\n",
      "0: 640x384 3 persons, 1 refrigerator, 878.9ms\n",
      "Speed: 20.0ms preprocess, 878.9ms inference, 12.0ms postprocess per image at shape (1, 3, 640, 384)\n"
     ]
    },
    {
     "name": "stdout",
     "output_type": "stream",
     "text": [
      "[     309.69      236.94      480.27      841.46          87]\n",
      "[     309.51      239.14      480.23      839.43          87]\n",
      "[     309.43      240.68      480.24      837.97          87]\n",
      "[      309.4      241.79      480.27       836.9          87]\n",
      "[     35.247      239.27      130.92      449.67          80]\n"
     ]
    },
    {
     "name": "stderr",
     "output_type": "stream",
     "text": [
      "\n",
      "0: 640x384 3 persons, 967.0ms\n",
      "Speed: 18.0ms preprocess, 967.0ms inference, 13.0ms postprocess per image at shape (1, 3, 640, 384)\n",
      "\n"
     ]
    },
    {
     "name": "stdout",
     "output_type": "stream",
     "text": [
      "[     33.557      239.36      130.55      449.62          80]\n",
      "[     32.725      239.41      130.66      449.57          80]\n",
      "[     32.278      239.45      130.89      449.54          80]\n"
     ]
    },
    {
     "name": "stderr",
     "output_type": "stream",
     "text": [
      "0: 640x384 3 persons, 837.6ms\n",
      "Speed: 15.0ms preprocess, 837.6ms inference, 10.0ms postprocess per image at shape (1, 3, 640, 384)\n",
      "\n"
     ]
    },
    {
     "name": "stdout",
     "output_type": "stream",
     "text": [
      "[     309.93      244.52      480.84      842.14          87]\n",
      "[     309.84      245.05      480.97      844.58          87]\n",
      "[     309.78      244.93      481.06      845.81          87]\n"
     ]
    },
    {
     "name": "stderr",
     "output_type": "stream",
     "text": [
      "0: 640x384 3 persons, 1 chair, 1 refrigerator, 652.9ms\n",
      "Speed: 13.0ms preprocess, 652.9ms inference, 14.0ms postprocess per image at shape (1, 3, 640, 384)\n"
     ]
    },
    {
     "name": "stdout",
     "output_type": "stream",
     "text": [
      "[     309.73      244.19      481.13       846.3          87]\n",
      "[     309.71       243.7      481.16      846.67          87]\n",
      "[      309.7      243.38      481.19      846.93          87]\n",
      "[      309.7      243.17       481.2       847.1          87]\n",
      "[     21.726      240.84      120.42       457.3          80]\n",
      "[      309.7      243.04       481.2       847.2          87]\n",
      "[     128.71      256.03      202.86      441.92          85]\n",
      "[     21.791      240.57      120.12      457.69          80]\n"
     ]
    },
    {
     "name": "stderr",
     "output_type": "stream",
     "text": [
      "\n",
      "0: 640x384 3 persons, 1 refrigerator, 866.8ms\n",
      "Speed: 29.0ms preprocess, 866.8ms inference, 13.0ms postprocess per image at shape (1, 3, 640, 384)\n",
      "\n"
     ]
    },
    {
     "name": "stdout",
     "output_type": "stream",
     "text": [
      "[     19.855      240.43      118.78      459.17          80]\n",
      "[     19.057      240.09       118.4      459.99          80]\n",
      "[     18.718      239.75      118.36       460.5          80]\n",
      "[     309.55      238.12      480.38      827.86          87]\n",
      "[     18.572      239.47      118.43      460.82          80]\n"
     ]
    },
    {
     "name": "stderr",
     "output_type": "stream",
     "text": [
      "0: 640x384 3 persons, 821.9ms\n",
      "Speed: 12.8ms preprocess, 821.9ms inference, 11.5ms postprocess per image at shape (1, 3, 640, 384)\n",
      "\n"
     ]
    },
    {
     "name": "stdout",
     "output_type": "stream",
     "text": [
      "[     14.022      239.45      113.22      461.49          80]\n",
      "[     12.446      239.32      111.16      461.85          80]\n",
      "[     11.975      239.17      110.33      462.07          80]\n"
     ]
    },
    {
     "name": "stderr",
     "output_type": "stream",
     "text": [
      "0: 640x384 3 persons, 634.7ms\n",
      "Speed: 13.0ms preprocess, 634.7ms inference, 12.0ms postprocess per image at shape (1, 3, 640, 384)\n",
      "\n"
     ]
    },
    {
     "name": "stdout",
     "output_type": "stream",
     "text": [
      "[     9.8573      239.03      108.77      462.22          80]\n",
      "[     8.9971      238.92      108.32      462.32          80]\n",
      "[     8.6412      238.84      108.26      462.38          80]\n"
     ]
    },
    {
     "name": "stderr",
     "output_type": "stream",
     "text": [
      "0: 640x384 4 persons, 1 tie, 659.3ms\n",
      "Speed: 14.0ms preprocess, 659.3ms inference, 11.0ms postprocess per image at shape (1, 3, 640, 384)\n",
      "\n"
     ]
    },
    {
     "name": "stdout",
     "output_type": "stream",
     "text": [
      "[     3.9941      237.27      103.03      463.28          80]\n",
      "[     2.3781      236.21      100.99      464.07          80]\n",
      "[     1.8919      235.48      100.18      464.69          80]\n",
      "[     109.94      246.13      191.18      444.94          85]\n",
      "[     1.8135      234.96      99.864      465.17          80]\n",
      "[      309.7      233.52      478.23      783.53          87]\n",
      "[     109.71      245.91      191.29       445.1          85]\n",
      "[     1.8718      234.58      99.747      465.52          80]\n"
     ]
    },
    {
     "name": "stderr",
     "output_type": "stream",
     "text": [
      "0: 640x384 4 persons, 735.2ms\n",
      "Speed: 14.0ms preprocess, 735.2ms inference, 17.0ms postprocess per image at shape (1, 3, 640, 384)\n",
      "\n"
     ]
    },
    {
     "name": "stdout",
     "output_type": "stream",
     "text": [
      "[    0.46322      234.82      97.952      467.88          80]\n",
      "[   0.039374      234.52      97.239      469.16          80]\n",
      "[  -0.029294      234.12      96.956      469.92          80]\n",
      "[     106.82      244.68      190.37      445.29          85]\n",
      "[   0.020816      233.76      96.847       470.4          80]\n"
     ]
    },
    {
     "name": "stderr",
     "output_type": "stream",
     "text": [
      "0: 640x384 4 persons, 651.8ms\n",
      "Speed: 13.0ms preprocess, 651.8ms inference, 15.0ms postprocess per image at shape (1, 3, 640, 384)\n",
      "\n"
     ]
    },
    {
     "name": "stdout",
     "output_type": "stream",
     "text": [
      "[    -1.3204      235.06      94.317      474.36          80]\n",
      "[    -1.5832      235.05      93.177      476.34          80]\n",
      "[    -1.4921      234.67      92.623      477.45          80]\n",
      "[      308.9       239.9      478.05      845.05          87]\n",
      "[    -1.3098      234.24      92.332      478.12          80]\n"
     ]
    },
    {
     "name": "stderr",
     "output_type": "stream",
     "text": [
      "0: 640x384 4 persons, 655.8ms\n",
      "Speed: 13.0ms preprocess, 655.8ms inference, 10.0ms postprocess per image at shape (1, 3, 640, 384)\n",
      "\n"
     ]
    },
    {
     "name": "stdout",
     "output_type": "stream",
     "text": [
      "[    -2.0749      232.79      89.852      477.67          80]\n",
      "[     -2.034      232.04      88.639      477.68          80]\n",
      "[    -1.7676      231.61      87.989      477.81          80]\n",
      "[     309.71      235.69      477.23      849.48          87]\n",
      "[    -1.4763      231.33      87.611      477.95          80]\n"
     ]
    },
    {
     "name": "stderr",
     "output_type": "stream",
     "text": [
      "0: 640x384 5 persons, 1 bottle, 737.8ms\n",
      "Speed: 13.0ms preprocess, 737.8ms inference, 12.8ms postprocess per image at shape (1, 3, 640, 384)\n"
     ]
    },
    {
     "name": "stdout",
     "output_type": "stream",
     "text": [
      "[    -2.1685      230.98      85.059       477.6          80]\n",
      "[    -2.0786      230.84       83.79      477.45          80]\n",
      "[    -1.7787      230.78      83.099      477.39          80]\n",
      "[     96.275      241.57      184.01      445.34          85]\n",
      "[    -1.4645      230.76      82.689      477.36          80]\n",
      "[     309.16      237.64      476.78       848.1          87]\n",
      "[     96.023      241.51      184.26      445.39          85]\n",
      "[    -1.1936      230.75       82.43      477.35          80]\n",
      "[      309.2      237.97      476.74      847.71          87]\n",
      "[     95.867      241.47      184.45      445.43          85]\n",
      "[   -0.97558      230.75      82.261      477.34          80]\n"
     ]
    },
    {
     "name": "stderr",
     "output_type": "stream",
     "text": [
      "\n",
      "0: 640x384 4 persons, 1 bottle, 647.1ms\n",
      "Speed: 14.0ms preprocess, 647.1ms inference, 12.0ms postprocess per image at shape (1, 3, 640, 384)\n"
     ]
    },
    {
     "name": "stdout",
     "output_type": "stream",
     "text": [
      "[     -2.322      230.33      78.443      477.09          80]\n",
      "[    -2.3784      230.14      76.582      477.03          80]\n",
      "[    -2.0584      230.04      75.585      477.03          80]\n",
      "[      93.98      241.38      184.53      445.55          85]\n",
      "[    -1.6811      229.98      75.001      477.05          80]\n",
      "[     397.84      540.14      440.35      652.96          95]\n",
      "[      93.85      241.39      184.67      445.55          85]\n",
      "[    -1.3459      229.95      74.634      477.07          80]\n"
     ]
    },
    {
     "name": "stderr",
     "output_type": "stream",
     "text": [
      "\n",
      "0: 640x384 4 persons, 1 bottle, 676.6ms\n",
      "Speed: 14.0ms preprocess, 676.6ms inference, 9.0ms postprocess per image at shape (1, 3, 640, 384)\n",
      "\n"
     ]
    },
    {
     "name": "stdout",
     "output_type": "stream",
     "text": [
      "[    -1.8325      229.29      72.539      476.41          80]\n",
      "[    -1.7144      229.05      71.484      476.16          80]\n",
      "[    -1.4419      228.96        70.9      476.07          80]\n",
      "[     90.491      241.22      181.11      444.72          85]\n",
      "[    -1.1673      228.93      70.549      476.03          80]\n",
      "[        312      244.15      479.07      842.09          87]\n",
      "[     90.456      241.28      181.03      444.65          85]\n",
      "[   -0.93409      228.92      70.326      476.02          80]\n"
     ]
    },
    {
     "name": "stderr",
     "output_type": "stream",
     "text": [
      "0: 640x384 5 persons, 910.4ms\n",
      "Speed: 19.0ms preprocess, 910.4ms inference, 12.0ms postprocess per image at shape (1, 3, 640, 384)\n"
     ]
    },
    {
     "name": "stdout",
     "output_type": "stream",
     "text": [
      "[    -1.8846      229.66      67.398      475.92          80]\n",
      "[    -1.8802      230.11      65.958      475.73          80]\n",
      "[    -1.6045       230.4       65.18      475.53          80]\n",
      "[     85.832      241.36      177.69      444.58          85]\n",
      "[    -1.2946       230.6       64.72      475.37          80]\n",
      "[     311.43      245.77      478.66      843.48          87]\n",
      "[     85.684       241.4      177.71      444.55          85]\n",
      "[    -1.0229      230.74      64.431      475.25          80]\n"
     ]
    },
    {
     "name": "stderr",
     "output_type": "stream",
     "text": [
      "\n",
      "0: 640x384 5 persons, 1166.4ms\n",
      "Speed: 19.0ms preprocess, 1166.4ms inference, 18.0ms postprocess per image at shape (1, 3, 640, 384)\n"
     ]
    },
    {
     "name": "stdout",
     "output_type": "stream",
     "text": [
      "[    -1.5616      229.03      62.386      471.73          80]\n",
      "[    -1.4836      228.73      61.363      470.07          80]\n",
      "[    -1.2417      228.87        60.8      469.19          80]\n",
      "[     80.045      242.12      170.36      443.85          85]\n",
      "[   -0.99057      229.12      60.464      468.68          80]\n",
      "[     313.14       245.7      478.92      837.41          87]\n",
      "[     80.061      242.24      170.12      443.73          85]\n",
      "[   -0.77539      229.36       60.25      468.37          80]\n"
     ]
    },
    {
     "name": "stderr",
     "output_type": "stream",
     "text": [
      "\n",
      "0: 640x384 5 persons, 1 bottle, 1003.4ms\n",
      "Speed: 16.0ms preprocess, 1003.4ms inference, 18.5ms postprocess per image at shape (1, 3, 640, 384)\n"
     ]
    },
    {
     "name": "stdout",
     "output_type": "stream",
     "text": [
      "[     77.526      243.44       167.4      444.49          85]\n",
      "[     76.625      243.98      166.36       444.7          85]\n",
      "[     76.338      244.24      165.98      444.72          85]\n",
      "[     76.277      244.37      165.85      444.68          85]\n",
      "[   -0.99914      229.43      56.592      465.32          80]\n",
      "[     310.79       252.4      478.24      845.78          87]\n",
      "[     76.296      244.45      165.81      444.63          85]\n",
      "[   -0.77662      229.64      56.322      465.07          80]\n",
      "[     4.5392      199.25      98.162      446.42          97]\n",
      "[     310.69      252.52      478.29       845.9          87]\n",
      "[      76.34       244.5      165.82      444.59          85]\n",
      "[   -0.59558       229.8      56.151      464.91          80]\n"
     ]
    },
    {
     "name": "stderr",
     "output_type": "stream",
     "text": [
      "\n",
      "0: 640x384 5 persons, 1 bottle, 907.0ms\n",
      "Speed: 13.0ms preprocess, 907.0ms inference, 18.0ms postprocess per image at shape (1, 3, 640, 384)\n"
     ]
    },
    {
     "name": "stdout",
     "output_type": "stream",
     "text": [
      "[     72.933      247.32      162.11      445.68          85]\n",
      "[     71.722      248.69      160.67      445.79          85]\n",
      "[     71.335      249.43      160.11       445.6          85]\n",
      "[     71.251      249.86       159.9      445.35          85]\n",
      "[    -1.0687      230.91      51.715      463.88          80]\n",
      "[     310.51      253.34      478.45      847.05          87]\n",
      "[     71.271      250.13      159.83      445.13          85]\n",
      "[   -0.82438      231.07      51.396      463.74          80]\n",
      "[     5.5119      193.85      98.334      449.89          97]\n",
      "[     310.52      253.42      478.45      846.97          87]\n",
      "[     71.323      250.31      159.81      444.95          85]\n",
      "[   -0.62369      231.19      51.195      463.64          80]\n"
     ]
    },
    {
     "name": "stderr",
     "output_type": "stream",
     "text": [
      "\n",
      "0: 640x384 6 persons, 838.5ms\n",
      "Speed: 13.0ms preprocess, 838.5ms inference, 10.0ms postprocess per image at shape (1, 3, 640, 384)\n"
     ]
    },
    {
     "name": "stdout",
     "output_type": "stream",
     "text": [
      "[      69.04      249.06      156.94      444.23          85]\n",
      "[     68.304      248.48      155.76      444.05          85]\n",
      "[     68.131      248.19      155.27      444.04          85]\n",
      "[      68.15      248.03      155.06      444.09          85]\n",
      "[   -0.88855      231.54      47.549      463.34          80]\n",
      "[     308.93       251.3      479.03      820.53          87]\n",
      "[     68.225      247.93      154.96      444.14          85]\n",
      "[   -0.67702      231.57      47.284      463.32          80]\n",
      "[     308.83       252.6      479.13      818.77          87]\n",
      "[     68.308      247.87      154.92      444.18          85]\n",
      "[   -0.50443       231.6      47.115      463.31          80]\n"
     ]
    },
    {
     "name": "stderr",
     "output_type": "stream",
     "text": [
      "\n",
      "0: 640x384 5 persons, 655.5ms\n",
      "Speed: 22.0ms preprocess, 655.5ms inference, 16.0ms postprocess per image at shape (1, 3, 640, 384)\n"
     ]
    },
    {
     "name": "stdout",
     "output_type": "stream",
     "text": [
      "[     64.657      248.75      151.45       444.6          85]\n",
      "[     63.265      249.16      150.18      444.67          85]\n",
      "[     62.744      249.38      149.76      444.64          85]\n",
      "[     309.77      259.58      477.18      842.01          87]\n",
      "[      62.56       249.5      149.64      444.58          85]\n",
      "[     309.99      258.78      476.95       843.5          87]\n",
      "[     62.508      249.57      149.64      444.52          85]\n",
      "[    -1.0398      241.06      41.696      468.09          80]\n"
     ]
    },
    {
     "name": "stderr",
     "output_type": "stream",
     "text": [
      "\n",
      "0: 640x384 5 persons, 716.3ms\n",
      "Speed: 13.0ms preprocess, 716.3ms inference, 9.6ms postprocess per image at shape (1, 3, 640, 384)\n",
      "\n"
     ]
    },
    {
     "name": "stdout",
     "output_type": "stream",
     "text": [
      "[     60.353      248.43      147.25      444.35          85]\n",
      "[     59.604      247.83      146.33      444.46          85]\n",
      "[     59.379      247.47      145.98      444.63          85]\n",
      "[     307.66      253.08      463.16      841.35          87]\n",
      "[     59.344      247.24      145.85      444.78          85]\n",
      "[     308.33      252.75      462.16      841.48          87]\n",
      "[     59.374      247.09      145.81      444.91          85]\n",
      "[   -0.91184      277.42      37.529      474.58          80]\n"
     ]
    },
    {
     "name": "stderr",
     "output_type": "stream",
     "text": [
      "0: 640x384 4 persons, 668.9ms\n",
      "Speed: 13.8ms preprocess, 668.9ms inference, 13.0ms postprocess per image at shape (1, 3, 640, 384)\n"
     ]
    },
    {
     "name": "stdout",
     "output_type": "stream",
     "text": [
      "[      57.19      247.44      144.12       445.2          85]\n",
      "[     56.299      247.58      143.59       445.3          85]\n",
      "[     55.924      247.65      143.48      445.33          85]\n",
      "[     309.07      248.74      453.36      832.23          87]\n",
      "[     55.762      247.68      143.51      445.34          85]\n"
     ]
    },
    {
     "name": "stderr",
     "output_type": "stream",
     "text": [
      "\n",
      "0: 640x384 5 persons, 1 handbag, 602.9ms\n",
      "Speed: 16.0ms preprocess, 602.9ms inference, 15.0ms postprocess per image at shape (1, 3, 640, 384)\n"
     ]
    },
    {
     "name": "stdout",
     "output_type": "stream",
     "text": [
      "[     53.264      245.83      141.43      444.58          85]\n",
      "[     52.268      244.94      140.74      444.48          85]\n",
      "[     51.864      244.47      140.56      444.58          85]\n",
      "[     307.84      247.94      445.49      826.64          87]\n",
      "[     51.699       244.2      140.55      444.73          85]\n",
      "[     355.37      341.71      448.71       588.4          98]\n",
      "[     308.25      248.27      444.94      826.21          87]\n",
      "[     51.634      244.03      140.61      444.86          85]\n",
      "[     355.56      344.19      448.48      585.64          98]\n",
      "[     308.59      248.53       444.6      825.94          87]\n",
      "[     51.612      243.92      140.67      444.96          85]\n",
      "[   -0.61406      289.25      29.229      467.76          80]\n"
     ]
    },
    {
     "name": "stderr",
     "output_type": "stream",
     "text": [
      "\n",
      "0: 640x384 2 persons, 692.4ms\n",
      "Speed: 17.0ms preprocess, 692.4ms inference, 8.0ms postprocess per image at shape (1, 3, 640, 384)\n",
      "\n"
     ]
    },
    {
     "name": "stdout",
     "output_type": "stream",
     "text": [
      "[     49.566      243.36       139.5      444.87          85]\n",
      "[     48.656      243.08      139.24      444.91          85]\n"
     ]
    },
    {
     "name": "stderr",
     "output_type": "stream",
     "text": [
      "0: 640x384 2 persons, 651.5ms\n",
      "Speed: 13.0ms preprocess, 651.5ms inference, 11.0ms postprocess per image at shape (1, 3, 640, 384)\n",
      "\n"
     ]
    },
    {
     "name": "stdout",
     "output_type": "stream",
     "text": [
      "[      45.14      241.05      136.48      444.24          85]\n",
      "[       43.7      240.06      135.58      444.22          85]\n"
     ]
    },
    {
     "name": "stderr",
     "output_type": "stream",
     "text": [
      "0: 640x384 3 persons, 1 handbag, 656.6ms\n",
      "Speed: 15.6ms preprocess, 656.6ms inference, 9.0ms postprocess per image at shape (1, 3, 640, 384)\n",
      "\n"
     ]
    },
    {
     "name": "stdout",
     "output_type": "stream",
     "text": [
      "[     39.171      238.87      131.45      443.74          85]\n",
      "[     37.418      238.31      129.98      443.69          85]\n",
      "[     36.743      238.02      129.52      443.77          85]\n",
      "[     312.65      239.03      432.85      782.64          87]\n",
      "[     36.491      237.85      129.42      443.87          85]\n"
     ]
    },
    {
     "name": "stderr",
     "output_type": "stream",
     "text": [
      "0: 640x384 3 persons, 1 handbag, 910.2ms\n",
      "Speed: 15.0ms preprocess, 910.2ms inference, 13.0ms postprocess per image at shape (1, 3, 640, 384)\n"
     ]
    },
    {
     "name": "stdout",
     "output_type": "stream",
     "text": [
      "[     33.416      237.95       125.9      444.42          85]\n",
      "[     32.364      237.92      124.53      444.71          85]\n",
      "[     32.064      237.86         124      444.89          85]\n",
      "[     312.74      238.22      432.74      755.92          87]\n",
      "[     32.033       237.8       123.8         445          85]\n"
     ]
    },
    {
     "name": "stderr",
     "output_type": "stream",
     "text": [
      "\n",
      "0: 640x384 3 persons, 1 handbag, 707.2ms\n",
      "Speed: 15.0ms preprocess, 707.2ms inference, 13.0ms postprocess per image at shape (1, 3, 640, 384)\n",
      "\n"
     ]
    },
    {
     "name": "stdout",
     "output_type": "stream",
     "text": [
      "[     30.403      237.49      121.49      445.34          85]\n",
      "[      29.94      237.26      120.54      445.59          85]\n",
      "[     29.889       237.1      120.13      445.77          85]\n",
      "[      333.9      344.51      427.17      559.33          99]\n",
      "[      29.97      236.98      119.95       445.9          85]\n"
     ]
    },
    {
     "name": "stderr",
     "output_type": "stream",
     "text": [
      "0: 640x384 3 persons, 1 handbag, 657.7ms\n",
      "Speed: 21.0ms preprocess, 657.7ms inference, 13.0ms postprocess per image at shape (1, 3, 640, 384)\n",
      "\n"
     ]
    },
    {
     "name": "stdout",
     "output_type": "stream",
     "text": [
      "[     27.469      236.89      117.25         446          85]\n",
      "[     26.587      236.83      116.23      446.07          85]\n",
      "[     26.314      236.78      115.85      446.13          85]\n",
      "[     334.97      343.67       423.9      553.89          99]\n",
      "[     26.264      236.75      115.73      446.17          85]\n"
     ]
    },
    {
     "name": "stderr",
     "output_type": "stream",
     "text": [
      "0: 640x384 3 persons, 1 handbag, 700.3ms\n",
      "Speed: 13.0ms preprocess, 700.3ms inference, 8.0ms postprocess per image at shape (1, 3, 640, 384)\n",
      "\n"
     ]
    },
    {
     "name": "stdout",
     "output_type": "stream",
     "text": [
      "[     24.059      236.73      114.01       446.2          85]\n",
      "[     23.168      236.71      113.48      446.23          85]\n",
      "[     22.802      236.69      113.37      446.25          85]\n",
      "[     335.17      343.85      421.67         550          99]\n",
      "[     22.649      236.69      113.41      446.26          85]\n"
     ]
    },
    {
     "name": "stderr",
     "output_type": "stream",
     "text": [
      "0: 640x384 3 persons, 1 handbag, 879.5ms\n",
      "Speed: 13.0ms preprocess, 879.5ms inference, 19.0ms postprocess per image at shape (1, 3, 640, 384)\n",
      "\n"
     ]
    },
    {
     "name": "stdout",
     "output_type": "stream",
     "text": [
      "[     20.356      236.49       111.8      445.81          85]\n",
      "[     19.395      236.46      111.34      445.59          85]\n",
      "[     18.975      236.48      111.28      445.48          85]\n",
      "[     312.52      243.62      420.06      721.07          87]\n",
      "[     18.782      236.52      111.35      445.42          85]\n"
     ]
    },
    {
     "name": "stderr",
     "output_type": "stream",
     "text": [
      "0: 640x384 3 persons, 1 handbag, 1 sink, 841.1ms\n",
      "Speed: 15.0ms preprocess, 841.1ms inference, 12.0ms postprocess per image at shape (1, 3, 640, 384)\n"
     ]
    },
    {
     "name": "stdout",
     "output_type": "stream",
     "text": [
      "[      16.73      236.28       109.5      445.65          85]\n",
      "[     15.945      236.11      108.85      445.83          85]\n",
      "[     15.652      235.99      108.66      445.95          85]\n",
      "[      143.9      246.39      182.84      399.54          96]\n",
      "[     15.551       235.9      108.63      446.05          85]\n",
      "[     143.88      246.51      182.85      399.37          96]\n",
      "[     312.31      249.88      416.32      731.62          87]\n",
      "[     15.527      235.84      108.66      446.11          85]\n"
     ]
    },
    {
     "name": "stderr",
     "output_type": "stream",
     "text": [
      "\n",
      "0: 640x384 3 persons, 1 sink, 926.4ms\n",
      "Speed: 26.0ms preprocess, 926.4ms inference, 11.0ms postprocess per image at shape (1, 3, 640, 384)\n",
      "\n"
     ]
    },
    {
     "name": "stdout",
     "output_type": "stream",
     "text": [
      "[     12.541       235.8      105.17      446.16          85]\n",
      "[     11.523      235.77      103.78      446.19          85]\n",
      "[     11.233      235.75      103.21      446.21          85]\n",
      "[     311.48      249.66      413.17      733.35          87]\n",
      "[     11.201      235.74      102.98      446.22          85]\n"
     ]
    },
    {
     "name": "stderr",
     "output_type": "stream",
     "text": [
      "0: 640x384 3 persons, 1 sink, 863.9ms\n",
      "Speed: 17.0ms preprocess, 863.9ms inference, 30.0ms postprocess per image at shape (1, 3, 640, 384)\n"
     ]
    },
    {
     "name": "stdout",
     "output_type": "stream",
     "text": [
      "[     9.2921      236.12      100.93      447.16          85]\n",
      "[     8.6216      236.16      100.15      447.61          85]\n",
      "[     8.4161       236.1       99.87      447.86          85]\n",
      "[      311.7      251.69      411.94      733.36          87]\n",
      "[     8.3812      236.03      99.778         448          85]\n"
     ]
    },
    {
     "name": "stderr",
     "output_type": "stream",
     "text": [
      "\n",
      "0: 640x384 3 persons, 2 handbags, 826.0ms\n",
      "Speed: 17.0ms preprocess, 826.0ms inference, 13.0ms postprocess per image at shape (1, 3, 640, 384)\n"
     ]
    },
    {
     "name": "stdout",
     "output_type": "stream",
     "text": [
      "[     4.7829      236.41      97.504      448.29          85]\n",
      "[     3.2137      236.57      96.901      448.39          85]\n",
      "[     2.4811      236.63      96.873      448.41          85]\n",
      "[     312.49      255.29      410.23      732.82          87]\n",
      "[     2.1115      236.67      97.017       448.4          85]\n",
      "[     139.05      246.81       179.7      399.12          96]\n",
      "[     312.66      255.58      410.06      732.59          87]\n",
      "[      1.911      236.68       97.19      448.39          85]\n"
     ]
    },
    {
     "name": "stderr",
     "output_type": "stream",
     "text": [
      "\n",
      "0: 640x384 3 persons, 2 handbags, 741.8ms\n",
      "Speed: 25.0ms preprocess, 741.8ms inference, 11.0ms postprocess per image at shape (1, 3, 640, 384)\n"
     ]
    },
    {
     "name": "stdout",
     "output_type": "stream",
     "text": [
      "[    0.49006      236.88      96.043      448.85          85]\n",
      "[  -0.070677      236.91      95.681      449.06          85]\n",
      "[   -0.29143      236.89      95.605      449.17          85]\n",
      "[     312.84      256.43      408.96       729.7          87]\n",
      "[   -0.37502      236.86      95.625      449.23          85]\n",
      "[     136.33      248.82      179.41      401.21          96]\n",
      "[     312.92      256.63      408.87      729.44          87]\n",
      "[   -0.40156      236.82      95.674      449.26          85]\n"
     ]
    },
    {
     "name": "stderr",
     "output_type": "stream",
     "text": [
      "\n",
      "0: 640x384 3 persons, 1 handbag, 667.6ms\n",
      "Speed: 12.0ms preprocess, 667.6ms inference, 12.0ms postprocess per image at shape (1, 3, 640, 384)\n",
      "\n"
     ]
    },
    {
     "name": "stdout",
     "output_type": "stream",
     "text": [
      "[    -1.3508      237.27      93.409      449.46          85]\n",
      "[    -1.4592      237.49       92.34      449.49          85]\n",
      "[     -1.309       237.6      91.788      449.46          85]\n",
      "[     312.61      256.96      406.22      724.04          87]\n",
      "[    -1.1068      237.67      91.477      449.42          85]\n"
     ]
    },
    {
     "name": "stderr",
     "output_type": "stream",
     "text": [
      "0: 640x384 3 persons, 2 handbags, 861.6ms\n",
      "Speed: 15.0ms preprocess, 861.6ms inference, 13.0ms postprocess per image at shape (1, 3, 640, 384)\n"
     ]
    },
    {
     "name": "stdout",
     "output_type": "stream",
     "text": [
      "[    -1.1092      237.71      90.826      449.38          85]\n",
      "[   -0.97725      237.74      90.484      449.34          85]\n",
      "[   -0.82592      237.76      90.289      449.32          85]\n",
      "[     128.63      255.24      179.08      437.14          96]\n",
      "[     -0.691      237.78       90.17      449.29          85]\n",
      "[     128.31      253.81      179.31      439.46          96]\n",
      "[     312.73      256.15      404.07      712.54          87]\n",
      "[   -0.58009      237.79      90.096      449.28          85]\n"
     ]
    },
    {
     "name": "stderr",
     "output_type": "stream",
     "text": [
      "\n",
      "0: 640x384 3 persons, 2 handbags, 696.3ms\n",
      "Speed: 15.0ms preprocess, 696.3ms inference, 18.0ms postprocess per image at shape (1, 3, 640, 384)\n"
     ]
    },
    {
     "name": "stdout",
     "output_type": "stream",
     "text": [
      "[    -1.0598      237.62      88.658      448.79          85]\n",
      "[    -1.0602       237.6      87.957      448.55          85]\n",
      "[   -0.92314      237.64      87.583      448.42          85]\n",
      "[     313.06      257.23      403.76      705.27          87]\n",
      "[   -0.76748      237.69      87.365      448.33          85]\n",
      "[     125.96      243.61      178.71      406.92          96]\n",
      "[     313.11      257.72      403.73      704.69          87]\n",
      "[   -0.62992      237.73       87.23      448.28          85]\n"
     ]
    },
    {
     "name": "stderr",
     "output_type": "stream",
     "text": [
      "\n",
      "0: 640x384 3 persons, 2243.2ms\n",
      "Speed: 21.0ms preprocess, 2243.2ms inference, 11.0ms postprocess per image at shape (1, 3, 640, 384)\n"
     ]
    },
    {
     "name": "stdout",
     "output_type": "stream",
     "text": [
      "[   -0.70827       237.3      86.679      448.05          85]\n",
      "[   -0.64408      237.11      86.399      447.99          85]\n",
      "[    -0.5484      237.01      86.242         448          85]\n"
     ]
    },
    {
     "name": "stderr",
     "output_type": "stream",
     "text": [
      "\n",
      "0: 640x384 3 persons, 1 handbag, 1 sink, 958.9ms\n",
      "Speed: 20.0ms preprocess, 958.9ms inference, 9.0ms postprocess per image at shape (1, 3, 640, 384)\n"
     ]
    },
    {
     "name": "stdout",
     "output_type": "stream",
     "text": [
      "[   -0.64675      237.42      85.685      448.21          85]\n",
      "[   -0.59392      237.62      85.402      448.25          85]\n",
      "[   -0.50557      237.72      85.245      448.24          85]\n",
      "[     116.06      251.75      178.53      437.36          96]\n",
      "[   -0.42017      237.77      85.151      448.21          85]\n",
      "[     115.58      250.82      178.92      438.97          96]\n",
      "[     313.75      249.96      400.08       676.1          87]\n",
      "[   -0.34819      237.81      85.092      448.19          85]\n"
     ]
    },
    {
     "name": "stderr",
     "output_type": "stream",
     "text": [
      "\n",
      "0: 640x384 3 persons, 1 sink, 718.5ms\n",
      "Speed: 14.0ms preprocess, 718.5ms inference, 12.1ms postprocess per image at shape (1, 3, 640, 384)\n"
     ]
    },
    {
     "name": "stdout",
     "output_type": "stream",
     "text": [
      "[    -0.6751      237.51      84.133      449.15          85]\n",
      "[   -0.67985      237.16      83.664      449.75          85]\n",
      "[    -0.5916      236.86      83.413      450.14          85]\n",
      "[     113.06      247.02      178.53      440.81          96]\n",
      "[   -0.49025      236.61      83.265      450.42          85]\n"
     ]
    },
    {
     "name": "stderr",
     "output_type": "stream",
     "text": [
      "\n",
      "0: 640x384 3 persons, 1 sink, 670.0ms\n",
      "Speed: 14.0ms preprocess, 670.0ms inference, 13.5ms postprocess per image at shape (1, 3, 640, 384)\n",
      "\n"
     ]
    },
    {
     "name": "stdout",
     "output_type": "stream",
     "text": [
      "[    -1.1623      236.39      81.322       451.3          85]\n",
      "[    -1.1857       236.1       80.37      451.84          85]\n",
      "[    -1.0209      235.83      79.856       452.2          85]\n",
      "[     110.38      243.36      179.25      441.12          96]\n",
      "[   -0.82869      235.62      79.552      452.44          85]\n"
     ]
    },
    {
     "name": "stderr",
     "output_type": "stream",
     "text": [
      "0: 640x384 3 persons, 1 handbag, 668.0ms\n",
      "Speed: 13.0ms preprocess, 668.0ms inference, 10.0ms postprocess per image at shape (1, 3, 640, 384)\n",
      "\n"
     ]
    },
    {
     "name": "stdout",
     "output_type": "stream",
     "text": [
      "[    -1.0379      234.81      78.433      451.95          85]\n",
      "[   -0.94785      234.44      77.859      451.82          85]\n",
      "[   -0.78676      234.26      77.535      451.81          85]\n",
      "[     107.16       243.3       178.5      440.95          96]\n",
      "[   -0.63057      234.16      77.337      451.84          85]\n"
     ]
    },
    {
     "name": "stderr",
     "output_type": "stream",
     "text": [
      "0: 640x384 3 persons, 1 handbag, 1 sink, 793.1ms\n",
      "Speed: 13.0ms preprocess, 793.1ms inference, 15.0ms postprocess per image at shape (1, 3, 640, 384)\n"
     ]
    },
    {
     "name": "stdout",
     "output_type": "stream",
     "text": [
      "[    -0.8859      231.37      76.289       450.7          85]\n",
      "[   -0.83326      230.01      75.761      450.57          85]\n",
      "[   -0.70081      229.27      75.467      450.75          85]\n",
      "[     104.07      243.12      177.56      440.03          96]\n",
      "[   -0.56603      228.84       75.29         451          85]\n",
      "[      103.9      243.18      177.68      439.94          96]\n",
      "[     313.46      251.22      399.51      640.86          87]\n",
      "[   -0.45124      228.56      75.177      451.22          85]\n"
     ]
    },
    {
     "name": "stderr",
     "output_type": "stream",
     "text": [
      "\n",
      "0: 640x384 3 persons, 1 sink, 950.5ms\n",
      "Speed: 20.0ms preprocess, 950.5ms inference, 13.0ms postprocess per image at shape (1, 3, 640, 384)\n",
      "\n"
     ]
    },
    {
     "name": "stdout",
     "output_type": "stream",
     "text": [
      "[    -1.1221      229.19      73.253      453.19          85]\n",
      "[    -1.1475      229.18      72.311       454.2          85]\n",
      "[   -0.98521      228.99      71.804      454.77          85]\n",
      "[     95.299      242.33       176.3      439.73          96]\n",
      "[   -0.79508      228.78      71.504      455.13          85]\n"
     ]
    },
    {
     "name": "stderr",
     "output_type": "stream",
     "text": [
      "0: 640x384 3 persons, 915.1ms\n",
      "Speed: 17.0ms preprocess, 915.1ms inference, 13.0ms postprocess per image at shape (1, 3, 640, 384)\n",
      "\n"
     ]
    },
    {
     "name": "stdout",
     "output_type": "stream",
     "text": [
      "[     -1.574       230.4      68.998      456.83          85]\n",
      "[    -1.5556         231      67.755      457.49          85]\n",
      "[    -1.3139      231.21      67.077      457.75          85]\n"
     ]
    },
    {
     "name": "stderr",
     "output_type": "stream",
     "text": [
      "0: 640x384 3 persons, 906.5ms\n",
      "Speed: 14.0ms preprocess, 906.5ms inference, 12.0ms postprocess per image at shape (1, 3, 640, 384)\n",
      "\n"
     ]
    },
    {
     "name": "stdout",
     "output_type": "stream",
     "text": [
      "[    -1.6145      233.12      65.281      458.61          85]\n",
      "[     -1.452      234.03      64.352      458.74          85]\n",
      "[    -1.1835      234.51      63.823      458.63          85]\n"
     ]
    },
    {
     "name": "stderr",
     "output_type": "stream",
     "text": [
      "0: 640x384 3 persons, 1 handbag, 860.5ms\n",
      "Speed: 13.0ms preprocess, 860.5ms inference, 13.0ms postprocess per image at shape (1, 3, 640, 384)\n"
     ]
    },
    {
     "name": "stdout",
     "output_type": "stream",
     "text": [
      "[    -1.3177      230.44      62.582      456.95          85]\n",
      "[     -1.158      228.44       61.93      456.75          85]\n",
      "[   -0.93936      227.34      61.554      457.01          85]\n",
      "[     78.692      238.31       175.6      438.62          96]\n",
      "[    -0.7377      226.68       61.32      457.37          85]\n"
     ]
    },
    {
     "ename": "error",
     "evalue": "OpenCV(4.8.1) D:\\a\\opencv-python\\opencv-python\\opencv\\modules\\core\\src\\arithm.cpp:214: error: (-209:Sizes of input arguments do not match) The operation is neither 'array op array' (where arrays have the same size and type), nor 'array op scalar', nor 'scalar op array' in function 'cv::binary_op'\n",
     "output_type": "error",
     "traceback": [
      "\u001b[1;31m---------------------------------------------------------------------------\u001b[0m",
      "\u001b[1;31merror\u001b[0m                                     Traceback (most recent call last)",
      "Cell \u001b[1;32mIn[1], line 41\u001b[0m\n\u001b[0;32m     39\u001b[0m success, img \u001b[38;5;241m=\u001b[39m cap\u001b[38;5;241m.\u001b[39mread()\n\u001b[0;32m     40\u001b[0m \u001b[38;5;66;03m#Overlay mask\u001b[39;00m\n\u001b[1;32m---> 41\u001b[0m imgRegion \u001b[38;5;241m=\u001b[39m \u001b[43mcv2\u001b[49m\u001b[38;5;241;43m.\u001b[39;49m\u001b[43mbitwise_and\u001b[49m\u001b[43m(\u001b[49m\u001b[43mimg\u001b[49m\u001b[43m,\u001b[49m\u001b[43mmask\u001b[49m\u001b[43m)\u001b[49m\n\u001b[0;32m     43\u001b[0m imgGraphics \u001b[38;5;241m=\u001b[39m cv2\u001b[38;5;241m.\u001b[39mimread(\u001b[38;5;124m\"\u001b[39m\u001b[38;5;124mgraphics.png\u001b[39m\u001b[38;5;124m\"\u001b[39m,cv2\u001b[38;5;241m.\u001b[39mIMREAD_UNCHANGED)\n\u001b[0;32m     44\u001b[0m img \u001b[38;5;241m=\u001b[39m cvzone\u001b[38;5;241m.\u001b[39moverlayPNG(img, imgGraphics, (\u001b[38;5;241m0\u001b[39m,\u001b[38;5;241m0\u001b[39m))\n",
      "\u001b[1;31merror\u001b[0m: OpenCV(4.8.1) D:\\a\\opencv-python\\opencv-python\\opencv\\modules\\core\\src\\arithm.cpp:214: error: (-209:Sizes of input arguments do not match) The operation is neither 'array op array' (where arrays have the same size and type), nor 'array op scalar', nor 'scalar op array' in function 'cv::binary_op'\n"
     ]
    }
   ],
   "source": [
    "#Libraries\n",
    "import numpy as np\n",
    "import matplotlib.pyplot as plt\n",
    "from ultralytics import YOLO\n",
    "import cv2\n",
    "import cvzone\n",
    "import math\n",
    "import lap\n",
    "from filterpy.kalman import KalmanFilter\n",
    "from skimage import io\n",
    "from scipy.optimize import linear_sum_assignment\n",
    "import sort\n",
    "from sort import *\n",
    "#from sort import *\n",
    "\n",
    "#For Video\n",
    "cap = cv2.VideoCapture(\"ProjectVID-20231111-WA0004.mp4\")\n",
    "\n",
    "#Model Path\n",
    "model = YOLO(\"yolov8n.pt\")\n",
    "\n",
    "#Model names\n",
    "#Only Detecting People\n",
    "classNames = ['Person']\n",
    "\n",
    "mask = cv2.imread(\"mask.png\")\n",
    "\n",
    "#Tracking\n",
    "tracker = Sort(max_age=20, min_hits=3, iou_threshold=0.3)\n",
    "\n",
    "limitIn = [300, 350,600, 350]\n",
    "limitOut = [00, 350,200, 350]\n",
    "\n",
    "totalCountIn = []\n",
    "totalCountOut = []\n",
    "\n",
    "\n",
    "while True:\n",
    "    success, img = cap.read()\n",
    "    #Overlay mask\n",
    "    imgRegion = cv2.bitwise_and(img,mask)\n",
    "\n",
    "    imgGraphics = cv2.imread(\"graphics.png\",cv2.IMREAD_UNCHANGED)\n",
    "    img = cvzone.overlayPNG(img, imgGraphics, (0,0))\n",
    "    \n",
    "    results = model(imgRegion, stream=True) \n",
    "\n",
    "    detections = np.empty((0,5))\n",
    "\n",
    "    for r in results:\n",
    "        boxes = r.boxes\n",
    "        for box in boxes:\n",
    "            # Bounding Box\n",
    "            x1, y1, x2, y2 = box.xyxy[0]\n",
    "            x1, y1, x2, y2 = int(x1), int(y1), int(x2), int(y2)\n",
    "            w, h = x2 - x1, y2 - y1\n",
    "            cvzone.cornerRect(img,  (x1, y1, w, h))\n",
    "            #Confidence\n",
    "            conf = math.ceil((box.conf[0] * 100)) / 100     #We can use ceiling or floor\n",
    "            #class name\n",
    "            cls = int(box.cls[0])\n",
    "            #currentClass = classNames[cls]\n",
    "\n",
    "            #if currentClass == \"person\" and conf > 0.3:\n",
    "            currentArray = np.array([x1,y1,x2,y2,conf])\n",
    "            detections = np.vstack((detections,currentArray))\n",
    "            \n",
    "            #cvzone.putTextRect(img, f'{classNames[cls]} {conf}',(max(0, x1), max(35, y1)),scale=1, thickness=1, offset=5)\n",
    "            \n",
    "            resultsTracker = tracker.update(detections)\n",
    "\n",
    "            cv2.line(img, (limitIn[0],limitIn[1]), (limitIn[2],limitIn[3]), (0,0,255), 3)\n",
    "            cv2.line(img, (limitOut[0],limitOut[1]), (limitOut[2],limitOut[3]), (0,0,255), 3)\n",
    "            \n",
    "            for results in resultsTracker:\n",
    "                x1,y1,x2,y2,id = results\n",
    "                x1,y1,x2,y2 = int(x1), int(y1), int(x2), int(y2)\n",
    "                print(results)\n",
    "                w, h = x2 - x1, y2 - y1\n",
    "                cvzone.cornerRect(img,(x1, y1, w, h), l=4, rt=1, colorR=(255,0,0))\n",
    "                cvzone.putTextRect(img, f'{int(id)}',(max(0, x1), max(35, y1)),scale=1, thickness=2, offset=3)\n",
    "\n",
    "                cx, cy = x1 + w // 2, y1 + h // 2\n",
    "                cv2.circle(img,(cx,cy),5,(255,0,0),cv2.FILLED)\n",
    "\n",
    "                if limitIn[0] < cx < limitIn[2] and limitIn[1] - 25 < cy < limitIn[1] + 25:\n",
    "                    if totalCountIn.count(id) == 0:\n",
    "                        totalCountIn.append(id)\n",
    "                        cv2.line(img, (limitIn[0],limitIn[1]), (limitIn[2],limitIn[3]), (0,255,0), 3)\n",
    "\n",
    "\n",
    "                if limitOut[0] < cx < limitOut[2] and limitOut[1] - 25 < cy < limitOut[1] + 25:\n",
    "                    if totalCountOut.count(id) == 0:\n",
    "                        totalCountOut.append(id)\n",
    "                        cv2.line(img, (limitOut[0],limitOut[1]), (limitOut[2],limitOut[3]), (0,255,0), 3)\n",
    "                        \n",
    "\n",
    "    #cvzone.putTextRect(img, f'Count: {len(totalCount)}', (50, 50))\n",
    "    cv2.putText(img,str(len(totalCountIn)),(360,75),cv2.FONT_HERSHEY_PLAIN,3,(0,255,0),7)\n",
    "    cv2.putText(img,str(len(totalCountOut)),(150,75),cv2.FONT_HERSHEY_PLAIN,3,(0,0,255),7)\n",
    "\n",
    "    \n",
    "    cv2.imshow(\"Image\",img)     #This code will run our webcam\n",
    "   # cv2.imshow(\"ImageRegion\",imgRegion)\n",
    "    cv2.waitKey(1)              #We wanted to give it 1ms delay"
   ]
  }
 ],
 "metadata": {
  "kernelspec": {
   "display_name": "myenv",
   "language": "python",
   "name": "myenv"
  },
  "language_info": {
   "codemirror_mode": {
    "name": "ipython",
    "version": 3
   },
   "file_extension": ".py",
   "mimetype": "text/x-python",
   "name": "python",
   "nbconvert_exporter": "python",
   "pygments_lexer": "ipython3",
   "version": "3.8.0"
  }
 },
 "nbformat": 4,
 "nbformat_minor": 5
}
